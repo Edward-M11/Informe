{
 "cells": [
  {
   "cell_type": "code",
   "execution_count": 2,
   "metadata": {},
   "outputs": [],
   "source": [
    "import pandas as pd\n",
    "from time import mktime\n",
    "from datetime import datetime, timedelta\n",
    "import time\n",
    "import seaborn as sns\n",
    "import matplotlib.pyplot as plt\n",
    "import warnings"
   ]
  },
  {
   "cell_type": "code",
   "execution_count": 19,
   "metadata": {},
   "outputs": [
    {
     "data": {
      "text/html": [
       "<div>\n",
       "<style scoped>\n",
       "    .dataframe tbody tr th:only-of-type {\n",
       "        vertical-align: middle;\n",
       "    }\n",
       "\n",
       "    .dataframe tbody tr th {\n",
       "        vertical-align: top;\n",
       "    }\n",
       "\n",
       "    .dataframe thead th {\n",
       "        text-align: right;\n",
       "    }\n",
       "</style>\n",
       "<table border=\"1\" class=\"dataframe\">\n",
       "  <thead>\n",
       "    <tr style=\"text-align: right;\">\n",
       "      <th></th>\n",
       "      <th>INSTITUCION</th>\n",
       "      <th>CLASIFICACION 2020</th>\n",
       "      <th>CLASIFICACION 2021</th>\n",
       "      <th>CLASIFICACION 2022</th>\n",
       "      <th>CLASIFICACION 2023</th>\n",
       "      <th>PROMEDIO DE LECTURA CRITICA 2022</th>\n",
       "      <th>PROMEDIO DE MATEMATICA 2022</th>\n",
       "      <th>PROMEDIO DE SOCIALES Y CIUDADANAS 2022</th>\n",
       "      <th>PROMEDIO DE CIENCIASNATURALES 2022</th>\n",
       "      <th>PROMEDIO DE INGLES 2022</th>\n",
       "      <th>...</th>\n",
       "      <th>PROMEDIO DE MATEMATICA 2023</th>\n",
       "      <th>PROMEDIO DE SOCIALES Y CIUDADANAS 2023</th>\n",
       "      <th>PROMEDIO DE CIENCIASNATURALES 2023</th>\n",
       "      <th>PROMEDIO DE INGLES 2023</th>\n",
       "      <th>PROMEDLECTURA CRITICA TENDENCIA 2022-2023</th>\n",
       "      <th>PROMMATEMATICATENDENCIA 2022-2023</th>\n",
       "      <th>PROMSOCIALESYCIUDADANAS TENDENCIA 2022-2023</th>\n",
       "      <th>PROMCIENCIASNATURALES TENDENCIA 2022-2023</th>\n",
       "      <th>PROMINGLES TENDENCIA 2022-2023</th>\n",
       "      <th>INDICE TOTAL 2023</th>\n",
       "    </tr>\n",
       "  </thead>\n",
       "  <tbody>\n",
       "    <tr>\n",
       "      <th>0</th>\n",
       "      <td>INSTITUCION EDUCATIVA VILLA ESTADIO</td>\n",
       "      <td>A+</td>\n",
       "      <td>A</td>\n",
       "      <td>A</td>\n",
       "      <td>A+</td>\n",
       "      <td>0.7944</td>\n",
       "      <td>0.7888</td>\n",
       "      <td>0.7453</td>\n",
       "      <td>0.7291</td>\n",
       "      <td>0.7127</td>\n",
       "      <td>...</td>\n",
       "      <td>0.7946</td>\n",
       "      <td>0.7504</td>\n",
       "      <td>0.7511</td>\n",
       "      <td>0.7363</td>\n",
       "      <td>0.0081</td>\n",
       "      <td>0.0058</td>\n",
       "      <td>0.0051</td>\n",
       "      <td>0.0220</td>\n",
       "      <td>0.0236</td>\n",
       "      <td>0.7717</td>\n",
       "    </tr>\n",
       "    <tr>\n",
       "      <th>1</th>\n",
       "      <td>INSTITUCIÓN EDUCATIVA NUESTRA SEÑORA DE FATIMA</td>\n",
       "      <td>A</td>\n",
       "      <td>A</td>\n",
       "      <td>A</td>\n",
       "      <td>A</td>\n",
       "      <td>0.7866</td>\n",
       "      <td>0.7731</td>\n",
       "      <td>0.7480</td>\n",
       "      <td>0.7490</td>\n",
       "      <td>0.7692</td>\n",
       "      <td>...</td>\n",
       "      <td>0.7732</td>\n",
       "      <td>0.7507</td>\n",
       "      <td>0.7471</td>\n",
       "      <td>0.7873</td>\n",
       "      <td>0.0074</td>\n",
       "      <td>0.0001</td>\n",
       "      <td>0.0027</td>\n",
       "      <td>-0.0019</td>\n",
       "      <td>0.0181</td>\n",
       "      <td>0.7679</td>\n",
       "    </tr>\n",
       "    <tr>\n",
       "      <th>2</th>\n",
       "      <td>INSTITUCION EDUCATIVA TECNICO INDUSTRIAL BLAS ...</td>\n",
       "      <td>A</td>\n",
       "      <td>A</td>\n",
       "      <td>A</td>\n",
       "      <td>A</td>\n",
       "      <td>0.7517</td>\n",
       "      <td>0.7515</td>\n",
       "      <td>0.6959</td>\n",
       "      <td>0.7162</td>\n",
       "      <td>0.7193</td>\n",
       "      <td>...</td>\n",
       "      <td>0.7540</td>\n",
       "      <td>0.6979</td>\n",
       "      <td>0.7230</td>\n",
       "      <td>0.7294</td>\n",
       "      <td>0.0058</td>\n",
       "      <td>0.0025</td>\n",
       "      <td>0.0020</td>\n",
       "      <td>0.0068</td>\n",
       "      <td>0.0101</td>\n",
       "      <td>0.7328</td>\n",
       "    </tr>\n",
       "    <tr>\n",
       "      <th>3</th>\n",
       "      <td>INSTITUCION EDUCATIVA POLITECNICO DE SOLEDAD</td>\n",
       "      <td>A</td>\n",
       "      <td>A</td>\n",
       "      <td>A</td>\n",
       "      <td>A</td>\n",
       "      <td>0.7716</td>\n",
       "      <td>0.7446</td>\n",
       "      <td>0.7172</td>\n",
       "      <td>0.7098</td>\n",
       "      <td>0.7281</td>\n",
       "      <td>...</td>\n",
       "      <td>0.7362</td>\n",
       "      <td>0.7123</td>\n",
       "      <td>0.7099</td>\n",
       "      <td>0.7298</td>\n",
       "      <td>-0.0013</td>\n",
       "      <td>-0.0084</td>\n",
       "      <td>-0.0049</td>\n",
       "      <td>0.0001</td>\n",
       "      <td>0.0017</td>\n",
       "      <td>0.7320</td>\n",
       "    </tr>\n",
       "    <tr>\n",
       "      <th>4</th>\n",
       "      <td>INSTITUCION EDUCATIVA JESUS MAESTRO F.M.S.D.</td>\n",
       "      <td>A</td>\n",
       "      <td>B</td>\n",
       "      <td>B</td>\n",
       "      <td>A</td>\n",
       "      <td>0.7535</td>\n",
       "      <td>0.7286</td>\n",
       "      <td>0.6907</td>\n",
       "      <td>0.6884</td>\n",
       "      <td>0.7051</td>\n",
       "      <td>...</td>\n",
       "      <td>0.7360</td>\n",
       "      <td>0.7005</td>\n",
       "      <td>0.7022</td>\n",
       "      <td>0.7143</td>\n",
       "      <td>0.0084</td>\n",
       "      <td>0.0074</td>\n",
       "      <td>0.0098</td>\n",
       "      <td>0.0138</td>\n",
       "      <td>0.0092</td>\n",
       "      <td>0.7243</td>\n",
       "    </tr>\n",
       "  </tbody>\n",
       "</table>\n",
       "<p>5 rows × 21 columns</p>\n",
       "</div>"
      ],
      "text/plain": [
       "                                         INSTITUCION CLASIFICACION 2020  \\\n",
       "0                INSTITUCION EDUCATIVA VILLA ESTADIO                 A+   \n",
       "1     INSTITUCIÓN EDUCATIVA NUESTRA SEÑORA DE FATIMA                  A   \n",
       "2  INSTITUCION EDUCATIVA TECNICO INDUSTRIAL BLAS ...                  A   \n",
       "3       INSTITUCION EDUCATIVA POLITECNICO DE SOLEDAD                  A   \n",
       "4       INSTITUCION EDUCATIVA JESUS MAESTRO F.M.S.D.                  A   \n",
       "\n",
       "  CLASIFICACION 2021 CLASIFICACION 2022 CLASIFICACION 2023  \\\n",
       "0                  A                  A                 A+   \n",
       "1                  A                  A                  A   \n",
       "2                  A                  A                  A   \n",
       "3                  A                  A                  A   \n",
       "4                  B                  B                  A   \n",
       "\n",
       "   PROMEDIO DE LECTURA CRITICA 2022  PROMEDIO DE MATEMATICA 2022  \\\n",
       "0                            0.7944                       0.7888   \n",
       "1                            0.7866                       0.7731   \n",
       "2                            0.7517                       0.7515   \n",
       "3                            0.7716                       0.7446   \n",
       "4                            0.7535                       0.7286   \n",
       "\n",
       "   PROMEDIO DE SOCIALES Y CIUDADANAS 2022  PROMEDIO DE CIENCIASNATURALES 2022  \\\n",
       "0                                  0.7453                              0.7291   \n",
       "1                                  0.7480                              0.7490   \n",
       "2                                  0.6959                              0.7162   \n",
       "3                                  0.7172                              0.7098   \n",
       "4                                  0.6907                              0.6884   \n",
       "\n",
       "   PROMEDIO DE INGLES 2022  ...  PROMEDIO DE MATEMATICA 2023  \\\n",
       "0                   0.7127  ...                       0.7946   \n",
       "1                   0.7692  ...                       0.7732   \n",
       "2                   0.7193  ...                       0.7540   \n",
       "3                   0.7281  ...                       0.7362   \n",
       "4                   0.7051  ...                       0.7360   \n",
       "\n",
       "   PROMEDIO DE SOCIALES Y CIUDADANAS 2023  PROMEDIO DE CIENCIASNATURALES 2023  \\\n",
       "0                                  0.7504                              0.7511   \n",
       "1                                  0.7507                              0.7471   \n",
       "2                                  0.6979                              0.7230   \n",
       "3                                  0.7123                              0.7099   \n",
       "4                                  0.7005                              0.7022   \n",
       "\n",
       "   PROMEDIO DE INGLES 2023  PROMEDLECTURA CRITICA TENDENCIA 2022-2023  \\\n",
       "0                   0.7363                                     0.0081   \n",
       "1                   0.7873                                     0.0074   \n",
       "2                   0.7294                                     0.0058   \n",
       "3                   0.7298                                    -0.0013   \n",
       "4                   0.7143                                     0.0084   \n",
       "\n",
       "   PROMMATEMATICATENDENCIA 2022-2023  \\\n",
       "0                             0.0058   \n",
       "1                             0.0001   \n",
       "2                             0.0025   \n",
       "3                            -0.0084   \n",
       "4                             0.0074   \n",
       "\n",
       "   PROMSOCIALESYCIUDADANAS TENDENCIA 2022-2023  \\\n",
       "0                                       0.0051   \n",
       "1                                       0.0027   \n",
       "2                                       0.0020   \n",
       "3                                      -0.0049   \n",
       "4                                       0.0098   \n",
       "\n",
       "   PROMCIENCIASNATURALES TENDENCIA 2022-2023  PROMINGLES TENDENCIA 2022-2023  \\\n",
       "0                                     0.0220                          0.0236   \n",
       "1                                    -0.0019                          0.0181   \n",
       "2                                     0.0068                          0.0101   \n",
       "3                                     0.0001                          0.0017   \n",
       "4                                     0.0138                          0.0092   \n",
       "\n",
       "   INDICE TOTAL 2023  \n",
       "0             0.7717  \n",
       "1             0.7679  \n",
       "2             0.7328  \n",
       "3             0.7320  \n",
       "4             0.7243  \n",
       "\n",
       "[5 rows x 21 columns]"
      ]
     },
     "execution_count": 19,
     "metadata": {},
     "output_type": "execute_result"
    }
   ],
   "source": [
    "import pandas as pd\n",
    "\n",
    "archivo_xls = 'C:/Users/Edward Morales/Downloads/Clasificación.xls'\n",
    "nombre_hoja = 'Historico BD'  \n",
    "\n",
    "df = pd.read_excel(archivo_xls, sheet_name=nombre_hoja, engine='xlrd')\n",
    "df.head()\n"
   ]
  },
  {
   "cell_type": "code",
   "execution_count": 35,
   "metadata": {},
   "outputs": [
    {
     "data": {
      "text/html": [
       "<div>\n",
       "<style scoped>\n",
       "    .dataframe tbody tr th:only-of-type {\n",
       "        vertical-align: middle;\n",
       "    }\n",
       "\n",
       "    .dataframe tbody tr th {\n",
       "        vertical-align: top;\n",
       "    }\n",
       "\n",
       "    .dataframe thead th {\n",
       "        text-align: right;\n",
       "    }\n",
       "</style>\n",
       "<table border=\"1\" class=\"dataframe\">\n",
       "  <thead>\n",
       "    <tr style=\"text-align: right;\">\n",
       "      <th></th>\n",
       "      <th>INSTITUCION</th>\n",
       "      <th>CLASIFICACION 2020</th>\n",
       "      <th>CLASIFICACION 2021</th>\n",
       "      <th>CLASIFICACION 2022</th>\n",
       "      <th>CLASIFICACION 2023</th>\n",
       "      <th>PROMEDIO DE LECTURA CRITICA 2022</th>\n",
       "      <th>PROMEDIO DE MATEMATICA 2022</th>\n",
       "      <th>PROMEDIO DE SOCIALES Y CIUDADANAS 2022</th>\n",
       "      <th>PROMEDIO DE CIENCIASNATURALES 2022</th>\n",
       "      <th>PROMEDIO DE INGLES 2022</th>\n",
       "      <th>...</th>\n",
       "      <th>PROMEDIO DE MATEMATICA 2023</th>\n",
       "      <th>PROMEDIO DE SOCIALES Y CIUDADANAS 2023</th>\n",
       "      <th>PROMEDIO DE CIENCIASNATURALES 2023</th>\n",
       "      <th>PROMEDIO DE INGLES 2023</th>\n",
       "      <th>PROMEDLECTURA CRITICA TENDENCIA 2022-2023</th>\n",
       "      <th>PROMMATEMATICATENDENCIA 2022-2023</th>\n",
       "      <th>PROMSOCIALESYCIUDADANAS TENDENCIA 2022-2023</th>\n",
       "      <th>PROMCIENCIASNATURALES TENDENCIA 2022-2023</th>\n",
       "      <th>PROMINGLES TENDENCIA 2022-2023</th>\n",
       "      <th>INDICE TOTAL 2023</th>\n",
       "    </tr>\n",
       "  </thead>\n",
       "  <tbody>\n",
       "    <tr>\n",
       "      <th>0</th>\n",
       "      <td>IE VILLA ESTADIO</td>\n",
       "      <td>A+</td>\n",
       "      <td>A</td>\n",
       "      <td>A</td>\n",
       "      <td>A+</td>\n",
       "      <td>0.7944</td>\n",
       "      <td>0.7888</td>\n",
       "      <td>0.7453</td>\n",
       "      <td>0.7291</td>\n",
       "      <td>0.7127</td>\n",
       "      <td>...</td>\n",
       "      <td>0.7946</td>\n",
       "      <td>0.7504</td>\n",
       "      <td>0.7511</td>\n",
       "      <td>0.7363</td>\n",
       "      <td>0.0081</td>\n",
       "      <td>0.0058</td>\n",
       "      <td>0.0051</td>\n",
       "      <td>0.0220</td>\n",
       "      <td>0.0236</td>\n",
       "      <td>0.7717</td>\n",
       "    </tr>\n",
       "    <tr>\n",
       "      <th>1</th>\n",
       "      <td>IE NUESTRA SEÑORA DE FATIMA</td>\n",
       "      <td>A</td>\n",
       "      <td>A</td>\n",
       "      <td>A</td>\n",
       "      <td>A</td>\n",
       "      <td>0.7866</td>\n",
       "      <td>0.7731</td>\n",
       "      <td>0.7480</td>\n",
       "      <td>0.7490</td>\n",
       "      <td>0.7692</td>\n",
       "      <td>...</td>\n",
       "      <td>0.7732</td>\n",
       "      <td>0.7507</td>\n",
       "      <td>0.7471</td>\n",
       "      <td>0.7873</td>\n",
       "      <td>0.0074</td>\n",
       "      <td>0.0001</td>\n",
       "      <td>0.0027</td>\n",
       "      <td>-0.0019</td>\n",
       "      <td>0.0181</td>\n",
       "      <td>0.7679</td>\n",
       "    </tr>\n",
       "    <tr>\n",
       "      <th>2</th>\n",
       "      <td>IE TECNICO INDUSTRIAL BLAS TORRES DE LA TORRE</td>\n",
       "      <td>A</td>\n",
       "      <td>A</td>\n",
       "      <td>A</td>\n",
       "      <td>A</td>\n",
       "      <td>0.7517</td>\n",
       "      <td>0.7515</td>\n",
       "      <td>0.6959</td>\n",
       "      <td>0.7162</td>\n",
       "      <td>0.7193</td>\n",
       "      <td>...</td>\n",
       "      <td>0.7540</td>\n",
       "      <td>0.6979</td>\n",
       "      <td>0.7230</td>\n",
       "      <td>0.7294</td>\n",
       "      <td>0.0058</td>\n",
       "      <td>0.0025</td>\n",
       "      <td>0.0020</td>\n",
       "      <td>0.0068</td>\n",
       "      <td>0.0101</td>\n",
       "      <td>0.7328</td>\n",
       "    </tr>\n",
       "    <tr>\n",
       "      <th>3</th>\n",
       "      <td>IE POLITECNICO DE SOLEDAD</td>\n",
       "      <td>A</td>\n",
       "      <td>A</td>\n",
       "      <td>A</td>\n",
       "      <td>A</td>\n",
       "      <td>0.7716</td>\n",
       "      <td>0.7446</td>\n",
       "      <td>0.7172</td>\n",
       "      <td>0.7098</td>\n",
       "      <td>0.7281</td>\n",
       "      <td>...</td>\n",
       "      <td>0.7362</td>\n",
       "      <td>0.7123</td>\n",
       "      <td>0.7099</td>\n",
       "      <td>0.7298</td>\n",
       "      <td>-0.0013</td>\n",
       "      <td>-0.0084</td>\n",
       "      <td>-0.0049</td>\n",
       "      <td>0.0001</td>\n",
       "      <td>0.0017</td>\n",
       "      <td>0.7320</td>\n",
       "    </tr>\n",
       "    <tr>\n",
       "      <th>4</th>\n",
       "      <td>IE JESUS MAESTRO F.M.S.D.</td>\n",
       "      <td>A</td>\n",
       "      <td>B</td>\n",
       "      <td>B</td>\n",
       "      <td>A</td>\n",
       "      <td>0.7535</td>\n",
       "      <td>0.7286</td>\n",
       "      <td>0.6907</td>\n",
       "      <td>0.6884</td>\n",
       "      <td>0.7051</td>\n",
       "      <td>...</td>\n",
       "      <td>0.7360</td>\n",
       "      <td>0.7005</td>\n",
       "      <td>0.7022</td>\n",
       "      <td>0.7143</td>\n",
       "      <td>0.0084</td>\n",
       "      <td>0.0074</td>\n",
       "      <td>0.0098</td>\n",
       "      <td>0.0138</td>\n",
       "      <td>0.0092</td>\n",
       "      <td>0.7243</td>\n",
       "    </tr>\n",
       "  </tbody>\n",
       "</table>\n",
       "<p>5 rows × 21 columns</p>\n",
       "</div>"
      ],
      "text/plain": [
       "                                     INSTITUCION CLASIFICACION 2020  \\\n",
       "0                               IE VILLA ESTADIO                 A+   \n",
       "1                    IE NUESTRA SEÑORA DE FATIMA                  A   \n",
       "2  IE TECNICO INDUSTRIAL BLAS TORRES DE LA TORRE                  A   \n",
       "3                      IE POLITECNICO DE SOLEDAD                  A   \n",
       "4                      IE JESUS MAESTRO F.M.S.D.                  A   \n",
       "\n",
       "  CLASIFICACION 2021 CLASIFICACION 2022 CLASIFICACION 2023  \\\n",
       "0                  A                  A                 A+   \n",
       "1                  A                  A                  A   \n",
       "2                  A                  A                  A   \n",
       "3                  A                  A                  A   \n",
       "4                  B                  B                  A   \n",
       "\n",
       "   PROMEDIO DE LECTURA CRITICA 2022  PROMEDIO DE MATEMATICA 2022  \\\n",
       "0                            0.7944                       0.7888   \n",
       "1                            0.7866                       0.7731   \n",
       "2                            0.7517                       0.7515   \n",
       "3                            0.7716                       0.7446   \n",
       "4                            0.7535                       0.7286   \n",
       "\n",
       "   PROMEDIO DE SOCIALES Y CIUDADANAS 2022  PROMEDIO DE CIENCIASNATURALES 2022  \\\n",
       "0                                  0.7453                              0.7291   \n",
       "1                                  0.7480                              0.7490   \n",
       "2                                  0.6959                              0.7162   \n",
       "3                                  0.7172                              0.7098   \n",
       "4                                  0.6907                              0.6884   \n",
       "\n",
       "   PROMEDIO DE INGLES 2022  ...  PROMEDIO DE MATEMATICA 2023  \\\n",
       "0                   0.7127  ...                       0.7946   \n",
       "1                   0.7692  ...                       0.7732   \n",
       "2                   0.7193  ...                       0.7540   \n",
       "3                   0.7281  ...                       0.7362   \n",
       "4                   0.7051  ...                       0.7360   \n",
       "\n",
       "   PROMEDIO DE SOCIALES Y CIUDADANAS 2023  PROMEDIO DE CIENCIASNATURALES 2023  \\\n",
       "0                                  0.7504                              0.7511   \n",
       "1                                  0.7507                              0.7471   \n",
       "2                                  0.6979                              0.7230   \n",
       "3                                  0.7123                              0.7099   \n",
       "4                                  0.7005                              0.7022   \n",
       "\n",
       "   PROMEDIO DE INGLES 2023  PROMEDLECTURA CRITICA TENDENCIA 2022-2023  \\\n",
       "0                   0.7363                                     0.0081   \n",
       "1                   0.7873                                     0.0074   \n",
       "2                   0.7294                                     0.0058   \n",
       "3                   0.7298                                    -0.0013   \n",
       "4                   0.7143                                     0.0084   \n",
       "\n",
       "   PROMMATEMATICATENDENCIA 2022-2023  \\\n",
       "0                             0.0058   \n",
       "1                             0.0001   \n",
       "2                             0.0025   \n",
       "3                            -0.0084   \n",
       "4                             0.0074   \n",
       "\n",
       "   PROMSOCIALESYCIUDADANAS TENDENCIA 2022-2023  \\\n",
       "0                                       0.0051   \n",
       "1                                       0.0027   \n",
       "2                                       0.0020   \n",
       "3                                      -0.0049   \n",
       "4                                       0.0098   \n",
       "\n",
       "   PROMCIENCIASNATURALES TENDENCIA 2022-2023  PROMINGLES TENDENCIA 2022-2023  \\\n",
       "0                                     0.0220                          0.0236   \n",
       "1                                    -0.0019                          0.0181   \n",
       "2                                     0.0068                          0.0101   \n",
       "3                                     0.0001                          0.0017   \n",
       "4                                     0.0138                          0.0092   \n",
       "\n",
       "   INDICE TOTAL 2023  \n",
       "0             0.7717  \n",
       "1             0.7679  \n",
       "2             0.7328  \n",
       "3             0.7320  \n",
       "4             0.7243  \n",
       "\n",
       "[5 rows x 21 columns]"
      ]
     },
     "execution_count": 35,
     "metadata": {},
     "output_type": "execute_result"
    }
   ],
   "source": [
    "import pandas as pd\n",
    "\n",
    "# Crear un DataFrame de ejemplo\n",
    "\n",
    "# Reemplazar parte de la cadena en la columna\n",
    "cadena_a_reemplazar = \"INSTITUCIÓN EDUCATIVA \"\n",
    "cadena_a_reemplazar = \"INSTITUCION EDUCATIVA \"\n",
    "nuevo_valor = \"IE \"\n",
    "\n",
    "df['INSTITUCION'] = df['INSTITUCION'].str.replace(cadena_a_reemplazar, nuevo_valor)\n",
    "\n",
    "# Mostrar el DataFrame resultante\n",
    "df.head()\n"
   ]
  },
  {
   "cell_type": "code",
   "execution_count": 5,
   "metadata": {},
   "outputs": [
    {
     "data": {
      "text/html": [
       "<div>\n",
       "<style scoped>\n",
       "    .dataframe tbody tr th:only-of-type {\n",
       "        vertical-align: middle;\n",
       "    }\n",
       "\n",
       "    .dataframe tbody tr th {\n",
       "        vertical-align: top;\n",
       "    }\n",
       "\n",
       "    .dataframe thead th {\n",
       "        text-align: right;\n",
       "    }\n",
       "</style>\n",
       "<table border=\"1\" class=\"dataframe\">\n",
       "  <thead>\n",
       "    <tr style=\"text-align: right;\">\n",
       "      <th></th>\n",
       "      <th>PROMEDIO DE LECTURA CRITICA 2022</th>\n",
       "      <th>PROMEDIO DE MATEMATICA 2022</th>\n",
       "      <th>PROMEDIO DE SOCIALES Y CIUDADANAS 2022</th>\n",
       "      <th>PROMEDIO DE CIENCIASNATURALES 2022</th>\n",
       "      <th>PROMEDIO DE INGLES 2022</th>\n",
       "      <th>PROMEDIO DE LECTURA CRITICA 2023</th>\n",
       "      <th>PROMEDIO DE MATEMATICA 2023</th>\n",
       "      <th>PROMEDIO DE SOCIALES Y CIUDADANAS 2023</th>\n",
       "      <th>PROMEDIO DE CIENCIASNATURALES 2023</th>\n",
       "      <th>PROMEDIO DE INGLES 2023</th>\n",
       "      <th>PROMEDLECTURA CRITICA TENDENCIA 2022-2023</th>\n",
       "      <th>PROMMATEMATICATENDENCIA 2022-2023</th>\n",
       "      <th>PROMSOCIALESYCIUDADANAS TENDENCIA 2022-2023</th>\n",
       "      <th>PROMCIENCIASNATURALES TENDENCIA 2022-2023</th>\n",
       "      <th>PROMINGLES TENDENCIA 2022-2023</th>\n",
       "      <th>INDICE TOTAL 2023</th>\n",
       "    </tr>\n",
       "  </thead>\n",
       "  <tbody>\n",
       "    <tr>\n",
       "      <th>count</th>\n",
       "      <td>32.000000</td>\n",
       "      <td>32.000000</td>\n",
       "      <td>32.000000</td>\n",
       "      <td>32.000000</td>\n",
       "      <td>32.000000</td>\n",
       "      <td>32.000000</td>\n",
       "      <td>32.000000</td>\n",
       "      <td>32.000000</td>\n",
       "      <td>32.000000</td>\n",
       "      <td>32.000000</td>\n",
       "      <td>32.000000</td>\n",
       "      <td>32.000000</td>\n",
       "      <td>3.200000e+01</td>\n",
       "      <td>32.000000</td>\n",
       "      <td>32.000000</td>\n",
       "      <td>32.000000</td>\n",
       "    </tr>\n",
       "    <tr>\n",
       "      <th>mean</th>\n",
       "      <td>0.687978</td>\n",
       "      <td>0.659328</td>\n",
       "      <td>0.611947</td>\n",
       "      <td>0.629025</td>\n",
       "      <td>0.624284</td>\n",
       "      <td>0.695622</td>\n",
       "      <td>0.662744</td>\n",
       "      <td>0.616794</td>\n",
       "      <td>0.639628</td>\n",
       "      <td>0.643822</td>\n",
       "      <td>0.007644</td>\n",
       "      <td>0.003416</td>\n",
       "      <td>4.846875e-03</td>\n",
       "      <td>0.010603</td>\n",
       "      <td>0.019538</td>\n",
       "      <td>0.652944</td>\n",
       "    </tr>\n",
       "    <tr>\n",
       "      <th>std</th>\n",
       "      <td>0.054630</td>\n",
       "      <td>0.060328</td>\n",
       "      <td>0.071592</td>\n",
       "      <td>0.056154</td>\n",
       "      <td>0.064924</td>\n",
       "      <td>0.055414</td>\n",
       "      <td>0.061119</td>\n",
       "      <td>0.070550</td>\n",
       "      <td>0.057552</td>\n",
       "      <td>0.064304</td>\n",
       "      <td>0.008761</td>\n",
       "      <td>0.010366</td>\n",
       "      <td>9.921725e-03</td>\n",
       "      <td>0.008917</td>\n",
       "      <td>0.009315</td>\n",
       "      <td>0.060538</td>\n",
       "    </tr>\n",
       "    <tr>\n",
       "      <th>min</th>\n",
       "      <td>0.583400</td>\n",
       "      <td>0.548300</td>\n",
       "      <td>0.482200</td>\n",
       "      <td>0.537400</td>\n",
       "      <td>0.527700</td>\n",
       "      <td>0.579800</td>\n",
       "      <td>0.541100</td>\n",
       "      <td>0.480600</td>\n",
       "      <td>0.529700</td>\n",
       "      <td>0.541200</td>\n",
       "      <td>-0.007900</td>\n",
       "      <td>-0.012000</td>\n",
       "      <td>-1.750000e-02</td>\n",
       "      <td>-0.007700</td>\n",
       "      <td>0.001700</td>\n",
       "      <td>0.536400</td>\n",
       "    </tr>\n",
       "    <tr>\n",
       "      <th>25%</th>\n",
       "      <td>0.653975</td>\n",
       "      <td>0.609800</td>\n",
       "      <td>0.565025</td>\n",
       "      <td>0.586350</td>\n",
       "      <td>0.567975</td>\n",
       "      <td>0.652975</td>\n",
       "      <td>0.616175</td>\n",
       "      <td>0.567950</td>\n",
       "      <td>0.596000</td>\n",
       "      <td>0.592150</td>\n",
       "      <td>0.000375</td>\n",
       "      <td>-0.003875</td>\n",
       "      <td>-2.775558e-17</td>\n",
       "      <td>0.004100</td>\n",
       "      <td>0.011875</td>\n",
       "      <td>0.606325</td>\n",
       "    </tr>\n",
       "    <tr>\n",
       "      <th>50%</th>\n",
       "      <td>0.690700</td>\n",
       "      <td>0.658550</td>\n",
       "      <td>0.605200</td>\n",
       "      <td>0.626450</td>\n",
       "      <td>0.609250</td>\n",
       "      <td>0.693550</td>\n",
       "      <td>0.653850</td>\n",
       "      <td>0.611300</td>\n",
       "      <td>0.636500</td>\n",
       "      <td>0.639500</td>\n",
       "      <td>0.008000</td>\n",
       "      <td>0.002450</td>\n",
       "      <td>3.900000e-03</td>\n",
       "      <td>0.009850</td>\n",
       "      <td>0.020600</td>\n",
       "      <td>0.649200</td>\n",
       "    </tr>\n",
       "    <tr>\n",
       "      <th>75%</th>\n",
       "      <td>0.718925</td>\n",
       "      <td>0.692400</td>\n",
       "      <td>0.665500</td>\n",
       "      <td>0.672450</td>\n",
       "      <td>0.676300</td>\n",
       "      <td>0.729700</td>\n",
       "      <td>0.707400</td>\n",
       "      <td>0.668950</td>\n",
       "      <td>0.685550</td>\n",
       "      <td>0.697200</td>\n",
       "      <td>0.013725</td>\n",
       "      <td>0.008450</td>\n",
       "      <td>1.032500e-02</td>\n",
       "      <td>0.016600</td>\n",
       "      <td>0.023650</td>\n",
       "      <td>0.695750</td>\n",
       "    </tr>\n",
       "    <tr>\n",
       "      <th>max</th>\n",
       "      <td>0.794400</td>\n",
       "      <td>0.788800</td>\n",
       "      <td>0.748000</td>\n",
       "      <td>0.749000</td>\n",
       "      <td>0.769200</td>\n",
       "      <td>0.802500</td>\n",
       "      <td>0.794600</td>\n",
       "      <td>0.750700</td>\n",
       "      <td>0.751100</td>\n",
       "      <td>0.787300</td>\n",
       "      <td>0.027200</td>\n",
       "      <td>0.025500</td>\n",
       "      <td>3.120000e-02</td>\n",
       "      <td>0.032100</td>\n",
       "      <td>0.048900</td>\n",
       "      <td>0.771700</td>\n",
       "    </tr>\n",
       "  </tbody>\n",
       "</table>\n",
       "</div>"
      ],
      "text/plain": [
       "       PROMEDIO DE LECTURA CRITICA 2022  PROMEDIO DE MATEMATICA 2022  \\\n",
       "count                         32.000000                    32.000000   \n",
       "mean                           0.687978                     0.659328   \n",
       "std                            0.054630                     0.060328   \n",
       "min                            0.583400                     0.548300   \n",
       "25%                            0.653975                     0.609800   \n",
       "50%                            0.690700                     0.658550   \n",
       "75%                            0.718925                     0.692400   \n",
       "max                            0.794400                     0.788800   \n",
       "\n",
       "       PROMEDIO DE SOCIALES Y CIUDADANAS 2022  \\\n",
       "count                               32.000000   \n",
       "mean                                 0.611947   \n",
       "std                                  0.071592   \n",
       "min                                  0.482200   \n",
       "25%                                  0.565025   \n",
       "50%                                  0.605200   \n",
       "75%                                  0.665500   \n",
       "max                                  0.748000   \n",
       "\n",
       "       PROMEDIO DE CIENCIASNATURALES 2022  PROMEDIO DE INGLES 2022  \\\n",
       "count                           32.000000                32.000000   \n",
       "mean                             0.629025                 0.624284   \n",
       "std                              0.056154                 0.064924   \n",
       "min                              0.537400                 0.527700   \n",
       "25%                              0.586350                 0.567975   \n",
       "50%                              0.626450                 0.609250   \n",
       "75%                              0.672450                 0.676300   \n",
       "max                              0.749000                 0.769200   \n",
       "\n",
       "       PROMEDIO DE LECTURA CRITICA 2023  PROMEDIO DE MATEMATICA 2023  \\\n",
       "count                         32.000000                    32.000000   \n",
       "mean                           0.695622                     0.662744   \n",
       "std                            0.055414                     0.061119   \n",
       "min                            0.579800                     0.541100   \n",
       "25%                            0.652975                     0.616175   \n",
       "50%                            0.693550                     0.653850   \n",
       "75%                            0.729700                     0.707400   \n",
       "max                            0.802500                     0.794600   \n",
       "\n",
       "       PROMEDIO DE SOCIALES Y CIUDADANAS 2023  \\\n",
       "count                               32.000000   \n",
       "mean                                 0.616794   \n",
       "std                                  0.070550   \n",
       "min                                  0.480600   \n",
       "25%                                  0.567950   \n",
       "50%                                  0.611300   \n",
       "75%                                  0.668950   \n",
       "max                                  0.750700   \n",
       "\n",
       "       PROMEDIO DE CIENCIASNATURALES 2023  PROMEDIO DE INGLES 2023  \\\n",
       "count                           32.000000                32.000000   \n",
       "mean                             0.639628                 0.643822   \n",
       "std                              0.057552                 0.064304   \n",
       "min                              0.529700                 0.541200   \n",
       "25%                              0.596000                 0.592150   \n",
       "50%                              0.636500                 0.639500   \n",
       "75%                              0.685550                 0.697200   \n",
       "max                              0.751100                 0.787300   \n",
       "\n",
       "       PROMEDLECTURA CRITICA TENDENCIA 2022-2023  \\\n",
       "count                                  32.000000   \n",
       "mean                                    0.007644   \n",
       "std                                     0.008761   \n",
       "min                                    -0.007900   \n",
       "25%                                     0.000375   \n",
       "50%                                     0.008000   \n",
       "75%                                     0.013725   \n",
       "max                                     0.027200   \n",
       "\n",
       "       PROMMATEMATICATENDENCIA 2022-2023  \\\n",
       "count                          32.000000   \n",
       "mean                            0.003416   \n",
       "std                             0.010366   \n",
       "min                            -0.012000   \n",
       "25%                            -0.003875   \n",
       "50%                             0.002450   \n",
       "75%                             0.008450   \n",
       "max                             0.025500   \n",
       "\n",
       "       PROMSOCIALESYCIUDADANAS TENDENCIA 2022-2023  \\\n",
       "count                                 3.200000e+01   \n",
       "mean                                  4.846875e-03   \n",
       "std                                   9.921725e-03   \n",
       "min                                  -1.750000e-02   \n",
       "25%                                  -2.775558e-17   \n",
       "50%                                   3.900000e-03   \n",
       "75%                                   1.032500e-02   \n",
       "max                                   3.120000e-02   \n",
       "\n",
       "       PROMCIENCIASNATURALES TENDENCIA 2022-2023  \\\n",
       "count                                  32.000000   \n",
       "mean                                    0.010603   \n",
       "std                                     0.008917   \n",
       "min                                    -0.007700   \n",
       "25%                                     0.004100   \n",
       "50%                                     0.009850   \n",
       "75%                                     0.016600   \n",
       "max                                     0.032100   \n",
       "\n",
       "       PROMINGLES TENDENCIA 2022-2023  INDICE TOTAL 2023  \n",
       "count                       32.000000          32.000000  \n",
       "mean                         0.019538           0.652944  \n",
       "std                          0.009315           0.060538  \n",
       "min                          0.001700           0.536400  \n",
       "25%                          0.011875           0.606325  \n",
       "50%                          0.020600           0.649200  \n",
       "75%                          0.023650           0.695750  \n",
       "max                          0.048900           0.771700  "
      ]
     },
     "execution_count": 5,
     "metadata": {},
     "output_type": "execute_result"
    }
   ],
   "source": [
    "df.describe()"
   ]
  },
  {
   "cell_type": "code",
   "execution_count": 6,
   "metadata": {},
   "outputs": [
    {
     "name": "stdout",
     "output_type": "stream",
     "text": [
      "<class 'pandas.core.frame.DataFrame'>\n",
      "RangeIndex: 32 entries, 0 to 31\n",
      "Data columns (total 21 columns):\n",
      " #   Column                                       Non-Null Count  Dtype  \n",
      "---  ------                                       --------------  -----  \n",
      " 0   INSTITUCION                                  32 non-null     object \n",
      " 1   CLASIFICACION 2020                           32 non-null     object \n",
      " 2   CLASIFICACION 2021                           32 non-null     object \n",
      " 3   CLASIFICACION 2022                           32 non-null     object \n",
      " 4   CLASIFICACION 2023                           32 non-null     object \n",
      " 5   PROMEDIO DE LECTURA CRITICA 2022             32 non-null     float64\n",
      " 6   PROMEDIO DE MATEMATICA 2022                  32 non-null     float64\n",
      " 7   PROMEDIO DE SOCIALES Y CIUDADANAS 2022       32 non-null     float64\n",
      " 8   PROMEDIO DE CIENCIASNATURALES 2022           32 non-null     float64\n",
      " 9   PROMEDIO DE INGLES 2022                      32 non-null     float64\n",
      " 10  PROMEDIO DE LECTURA CRITICA 2023             32 non-null     float64\n",
      " 11  PROMEDIO DE MATEMATICA 2023                  32 non-null     float64\n",
      " 12  PROMEDIO DE SOCIALES Y CIUDADANAS 2023       32 non-null     float64\n",
      " 13  PROMEDIO DE CIENCIASNATURALES 2023           32 non-null     float64\n",
      " 14  PROMEDIO DE INGLES 2023                      32 non-null     float64\n",
      " 15  PROMEDLECTURA CRITICA TENDENCIA 2022-2023    32 non-null     float64\n",
      " 16  PROMMATEMATICATENDENCIA 2022-2023            32 non-null     float64\n",
      " 17  PROMSOCIALESYCIUDADANAS TENDENCIA 2022-2023  32 non-null     float64\n",
      " 18  PROMCIENCIASNATURALES TENDENCIA 2022-2023    32 non-null     float64\n",
      " 19  PROMINGLES TENDENCIA 2022-2023               32 non-null     float64\n",
      " 20  INDICE TOTAL 2023                            32 non-null     float64\n",
      "dtypes: float64(16), object(5)\n",
      "memory usage: 5.4+ KB\n"
     ]
    }
   ],
   "source": [
    "df.info()"
   ]
  },
  {
   "cell_type": "markdown",
   "metadata": {},
   "source": [
    "Distribuon de las instituciones por clasificacion y año"
   ]
  },
  {
   "cell_type": "code",
   "execution_count": 76,
   "metadata": {},
   "outputs": [
    {
     "data": {
      "application/vnd.plotly.v1+json": {
       "config": {
        "plotlyServerURL": "https://plot.ly"
       },
       "data": [
        {
         "alignmentgroup": "True",
         "hovertemplate": "Año=2020<br>Clasificación=%{x}<br>Número de Instituciones=%{y}<extra></extra>",
         "legendgroup": "2020",
         "marker": {
          "color": "#636efa",
          "pattern": {
           "shape": ""
          }
         },
         "name": "2020",
         "offsetgroup": "2020",
         "orientation": "v",
         "showlegend": true,
         "textposition": "auto",
         "type": "bar",
         "x": [
          "A+",
          "A",
          "B",
          "C",
          "D"
         ],
         "xaxis": "x",
         "y": [
          1,
          5,
          5,
          8,
          10
         ],
         "yaxis": "y"
        },
        {
         "alignmentgroup": "True",
         "hovertemplate": "Año=2021<br>Clasificación=%{x}<br>Número de Instituciones=%{y}<extra></extra>",
         "legendgroup": "2021",
         "marker": {
          "color": "#EF553B",
          "pattern": {
           "shape": ""
          }
         },
         "name": "2021",
         "offsetgroup": "2021",
         "orientation": "v",
         "showlegend": true,
         "textposition": "auto",
         "type": "bar",
         "x": [
          "A+",
          "A",
          "B",
          "C",
          "D"
         ],
         "xaxis": "x",
         "y": [
          0,
          4,
          6,
          7,
          15
         ],
         "yaxis": "y"
        },
        {
         "alignmentgroup": "True",
         "hovertemplate": "Año=2022<br>Clasificación=%{x}<br>Número de Instituciones=%{y}<extra></extra>",
         "legendgroup": "2022",
         "marker": {
          "color": "#00cc96",
          "pattern": {
           "shape": ""
          }
         },
         "name": "2022",
         "offsetgroup": "2022",
         "orientation": "v",
         "showlegend": true,
         "textposition": "auto",
         "type": "bar",
         "x": [
          "A+",
          "A",
          "B",
          "C",
          "D"
         ],
         "xaxis": "x",
         "y": [
          0,
          4,
          5,
          9,
          14
         ],
         "yaxis": "y"
        },
        {
         "alignmentgroup": "True",
         "hovertemplate": "Año=2023<br>Clasificación=%{x}<br>Número de Instituciones=%{y}<extra></extra>",
         "legendgroup": "2023",
         "marker": {
          "color": "#ab63fa",
          "pattern": {
           "shape": ""
          }
         },
         "name": "2023",
         "offsetgroup": "2023",
         "orientation": "v",
         "showlegend": true,
         "textposition": "auto",
         "type": "bar",
         "x": [
          "A+",
          "A",
          "B",
          "C",
          "D"
         ],
         "xaxis": "x",
         "y": [
          1,
          4,
          8,
          8,
          11
         ],
         "yaxis": "y"
        }
       ],
       "layout": {
        "barmode": "group",
        "legend": {
         "title": {
          "text": "Año"
         },
         "tracegroupgap": 0
        },
        "template": {
         "data": {
          "bar": [
           {
            "error_x": {
             "color": "#2a3f5f"
            },
            "error_y": {
             "color": "#2a3f5f"
            },
            "marker": {
             "line": {
              "color": "#E5ECF6",
              "width": 0.5
             },
             "pattern": {
              "fillmode": "overlay",
              "size": 10,
              "solidity": 0.2
             }
            },
            "type": "bar"
           }
          ],
          "barpolar": [
           {
            "marker": {
             "line": {
              "color": "#E5ECF6",
              "width": 0.5
             },
             "pattern": {
              "fillmode": "overlay",
              "size": 10,
              "solidity": 0.2
             }
            },
            "type": "barpolar"
           }
          ],
          "carpet": [
           {
            "aaxis": {
             "endlinecolor": "#2a3f5f",
             "gridcolor": "white",
             "linecolor": "white",
             "minorgridcolor": "white",
             "startlinecolor": "#2a3f5f"
            },
            "baxis": {
             "endlinecolor": "#2a3f5f",
             "gridcolor": "white",
             "linecolor": "white",
             "minorgridcolor": "white",
             "startlinecolor": "#2a3f5f"
            },
            "type": "carpet"
           }
          ],
          "choropleth": [
           {
            "colorbar": {
             "outlinewidth": 0,
             "ticks": ""
            },
            "type": "choropleth"
           }
          ],
          "contour": [
           {
            "colorbar": {
             "outlinewidth": 0,
             "ticks": ""
            },
            "colorscale": [
             [
              0,
              "#0d0887"
             ],
             [
              0.1111111111111111,
              "#46039f"
             ],
             [
              0.2222222222222222,
              "#7201a8"
             ],
             [
              0.3333333333333333,
              "#9c179e"
             ],
             [
              0.4444444444444444,
              "#bd3786"
             ],
             [
              0.5555555555555556,
              "#d8576b"
             ],
             [
              0.6666666666666666,
              "#ed7953"
             ],
             [
              0.7777777777777778,
              "#fb9f3a"
             ],
             [
              0.8888888888888888,
              "#fdca26"
             ],
             [
              1,
              "#f0f921"
             ]
            ],
            "type": "contour"
           }
          ],
          "contourcarpet": [
           {
            "colorbar": {
             "outlinewidth": 0,
             "ticks": ""
            },
            "type": "contourcarpet"
           }
          ],
          "heatmap": [
           {
            "colorbar": {
             "outlinewidth": 0,
             "ticks": ""
            },
            "colorscale": [
             [
              0,
              "#0d0887"
             ],
             [
              0.1111111111111111,
              "#46039f"
             ],
             [
              0.2222222222222222,
              "#7201a8"
             ],
             [
              0.3333333333333333,
              "#9c179e"
             ],
             [
              0.4444444444444444,
              "#bd3786"
             ],
             [
              0.5555555555555556,
              "#d8576b"
             ],
             [
              0.6666666666666666,
              "#ed7953"
             ],
             [
              0.7777777777777778,
              "#fb9f3a"
             ],
             [
              0.8888888888888888,
              "#fdca26"
             ],
             [
              1,
              "#f0f921"
             ]
            ],
            "type": "heatmap"
           }
          ],
          "heatmapgl": [
           {
            "colorbar": {
             "outlinewidth": 0,
             "ticks": ""
            },
            "colorscale": [
             [
              0,
              "#0d0887"
             ],
             [
              0.1111111111111111,
              "#46039f"
             ],
             [
              0.2222222222222222,
              "#7201a8"
             ],
             [
              0.3333333333333333,
              "#9c179e"
             ],
             [
              0.4444444444444444,
              "#bd3786"
             ],
             [
              0.5555555555555556,
              "#d8576b"
             ],
             [
              0.6666666666666666,
              "#ed7953"
             ],
             [
              0.7777777777777778,
              "#fb9f3a"
             ],
             [
              0.8888888888888888,
              "#fdca26"
             ],
             [
              1,
              "#f0f921"
             ]
            ],
            "type": "heatmapgl"
           }
          ],
          "histogram": [
           {
            "marker": {
             "pattern": {
              "fillmode": "overlay",
              "size": 10,
              "solidity": 0.2
             }
            },
            "type": "histogram"
           }
          ],
          "histogram2d": [
           {
            "colorbar": {
             "outlinewidth": 0,
             "ticks": ""
            },
            "colorscale": [
             [
              0,
              "#0d0887"
             ],
             [
              0.1111111111111111,
              "#46039f"
             ],
             [
              0.2222222222222222,
              "#7201a8"
             ],
             [
              0.3333333333333333,
              "#9c179e"
             ],
             [
              0.4444444444444444,
              "#bd3786"
             ],
             [
              0.5555555555555556,
              "#d8576b"
             ],
             [
              0.6666666666666666,
              "#ed7953"
             ],
             [
              0.7777777777777778,
              "#fb9f3a"
             ],
             [
              0.8888888888888888,
              "#fdca26"
             ],
             [
              1,
              "#f0f921"
             ]
            ],
            "type": "histogram2d"
           }
          ],
          "histogram2dcontour": [
           {
            "colorbar": {
             "outlinewidth": 0,
             "ticks": ""
            },
            "colorscale": [
             [
              0,
              "#0d0887"
             ],
             [
              0.1111111111111111,
              "#46039f"
             ],
             [
              0.2222222222222222,
              "#7201a8"
             ],
             [
              0.3333333333333333,
              "#9c179e"
             ],
             [
              0.4444444444444444,
              "#bd3786"
             ],
             [
              0.5555555555555556,
              "#d8576b"
             ],
             [
              0.6666666666666666,
              "#ed7953"
             ],
             [
              0.7777777777777778,
              "#fb9f3a"
             ],
             [
              0.8888888888888888,
              "#fdca26"
             ],
             [
              1,
              "#f0f921"
             ]
            ],
            "type": "histogram2dcontour"
           }
          ],
          "mesh3d": [
           {
            "colorbar": {
             "outlinewidth": 0,
             "ticks": ""
            },
            "type": "mesh3d"
           }
          ],
          "parcoords": [
           {
            "line": {
             "colorbar": {
              "outlinewidth": 0,
              "ticks": ""
             }
            },
            "type": "parcoords"
           }
          ],
          "pie": [
           {
            "automargin": true,
            "type": "pie"
           }
          ],
          "scatter": [
           {
            "fillpattern": {
             "fillmode": "overlay",
             "size": 10,
             "solidity": 0.2
            },
            "type": "scatter"
           }
          ],
          "scatter3d": [
           {
            "line": {
             "colorbar": {
              "outlinewidth": 0,
              "ticks": ""
             }
            },
            "marker": {
             "colorbar": {
              "outlinewidth": 0,
              "ticks": ""
             }
            },
            "type": "scatter3d"
           }
          ],
          "scattercarpet": [
           {
            "marker": {
             "colorbar": {
              "outlinewidth": 0,
              "ticks": ""
             }
            },
            "type": "scattercarpet"
           }
          ],
          "scattergeo": [
           {
            "marker": {
             "colorbar": {
              "outlinewidth": 0,
              "ticks": ""
             }
            },
            "type": "scattergeo"
           }
          ],
          "scattergl": [
           {
            "marker": {
             "colorbar": {
              "outlinewidth": 0,
              "ticks": ""
             }
            },
            "type": "scattergl"
           }
          ],
          "scattermapbox": [
           {
            "marker": {
             "colorbar": {
              "outlinewidth": 0,
              "ticks": ""
             }
            },
            "type": "scattermapbox"
           }
          ],
          "scatterpolar": [
           {
            "marker": {
             "colorbar": {
              "outlinewidth": 0,
              "ticks": ""
             }
            },
            "type": "scatterpolar"
           }
          ],
          "scatterpolargl": [
           {
            "marker": {
             "colorbar": {
              "outlinewidth": 0,
              "ticks": ""
             }
            },
            "type": "scatterpolargl"
           }
          ],
          "scatterternary": [
           {
            "marker": {
             "colorbar": {
              "outlinewidth": 0,
              "ticks": ""
             }
            },
            "type": "scatterternary"
           }
          ],
          "surface": [
           {
            "colorbar": {
             "outlinewidth": 0,
             "ticks": ""
            },
            "colorscale": [
             [
              0,
              "#0d0887"
             ],
             [
              0.1111111111111111,
              "#46039f"
             ],
             [
              0.2222222222222222,
              "#7201a8"
             ],
             [
              0.3333333333333333,
              "#9c179e"
             ],
             [
              0.4444444444444444,
              "#bd3786"
             ],
             [
              0.5555555555555556,
              "#d8576b"
             ],
             [
              0.6666666666666666,
              "#ed7953"
             ],
             [
              0.7777777777777778,
              "#fb9f3a"
             ],
             [
              0.8888888888888888,
              "#fdca26"
             ],
             [
              1,
              "#f0f921"
             ]
            ],
            "type": "surface"
           }
          ],
          "table": [
           {
            "cells": {
             "fill": {
              "color": "#EBF0F8"
             },
             "line": {
              "color": "white"
             }
            },
            "header": {
             "fill": {
              "color": "#C8D4E3"
             },
             "line": {
              "color": "white"
             }
            },
            "type": "table"
           }
          ]
         },
         "layout": {
          "annotationdefaults": {
           "arrowcolor": "#2a3f5f",
           "arrowhead": 0,
           "arrowwidth": 1
          },
          "autotypenumbers": "strict",
          "coloraxis": {
           "colorbar": {
            "outlinewidth": 0,
            "ticks": ""
           }
          },
          "colorscale": {
           "diverging": [
            [
             0,
             "#8e0152"
            ],
            [
             0.1,
             "#c51b7d"
            ],
            [
             0.2,
             "#de77ae"
            ],
            [
             0.3,
             "#f1b6da"
            ],
            [
             0.4,
             "#fde0ef"
            ],
            [
             0.5,
             "#f7f7f7"
            ],
            [
             0.6,
             "#e6f5d0"
            ],
            [
             0.7,
             "#b8e186"
            ],
            [
             0.8,
             "#7fbc41"
            ],
            [
             0.9,
             "#4d9221"
            ],
            [
             1,
             "#276419"
            ]
           ],
           "sequential": [
            [
             0,
             "#0d0887"
            ],
            [
             0.1111111111111111,
             "#46039f"
            ],
            [
             0.2222222222222222,
             "#7201a8"
            ],
            [
             0.3333333333333333,
             "#9c179e"
            ],
            [
             0.4444444444444444,
             "#bd3786"
            ],
            [
             0.5555555555555556,
             "#d8576b"
            ],
            [
             0.6666666666666666,
             "#ed7953"
            ],
            [
             0.7777777777777778,
             "#fb9f3a"
            ],
            [
             0.8888888888888888,
             "#fdca26"
            ],
            [
             1,
             "#f0f921"
            ]
           ],
           "sequentialminus": [
            [
             0,
             "#0d0887"
            ],
            [
             0.1111111111111111,
             "#46039f"
            ],
            [
             0.2222222222222222,
             "#7201a8"
            ],
            [
             0.3333333333333333,
             "#9c179e"
            ],
            [
             0.4444444444444444,
             "#bd3786"
            ],
            [
             0.5555555555555556,
             "#d8576b"
            ],
            [
             0.6666666666666666,
             "#ed7953"
            ],
            [
             0.7777777777777778,
             "#fb9f3a"
            ],
            [
             0.8888888888888888,
             "#fdca26"
            ],
            [
             1,
             "#f0f921"
            ]
           ]
          },
          "colorway": [
           "#636efa",
           "#EF553B",
           "#00cc96",
           "#ab63fa",
           "#FFA15A",
           "#19d3f3",
           "#FF6692",
           "#B6E880",
           "#FF97FF",
           "#FECB52"
          ],
          "font": {
           "color": "#2a3f5f"
          },
          "geo": {
           "bgcolor": "white",
           "lakecolor": "white",
           "landcolor": "#E5ECF6",
           "showlakes": true,
           "showland": true,
           "subunitcolor": "white"
          },
          "hoverlabel": {
           "align": "left"
          },
          "hovermode": "closest",
          "mapbox": {
           "style": "light"
          },
          "paper_bgcolor": "white",
          "plot_bgcolor": "#E5ECF6",
          "polar": {
           "angularaxis": {
            "gridcolor": "white",
            "linecolor": "white",
            "ticks": ""
           },
           "bgcolor": "#E5ECF6",
           "radialaxis": {
            "gridcolor": "white",
            "linecolor": "white",
            "ticks": ""
           }
          },
          "scene": {
           "xaxis": {
            "backgroundcolor": "#E5ECF6",
            "gridcolor": "white",
            "gridwidth": 2,
            "linecolor": "white",
            "showbackground": true,
            "ticks": "",
            "zerolinecolor": "white"
           },
           "yaxis": {
            "backgroundcolor": "#E5ECF6",
            "gridcolor": "white",
            "gridwidth": 2,
            "linecolor": "white",
            "showbackground": true,
            "ticks": "",
            "zerolinecolor": "white"
           },
           "zaxis": {
            "backgroundcolor": "#E5ECF6",
            "gridcolor": "white",
            "gridwidth": 2,
            "linecolor": "white",
            "showbackground": true,
            "ticks": "",
            "zerolinecolor": "white"
           }
          },
          "shapedefaults": {
           "line": {
            "color": "#2a3f5f"
           }
          },
          "ternary": {
           "aaxis": {
            "gridcolor": "white",
            "linecolor": "white",
            "ticks": ""
           },
           "baxis": {
            "gridcolor": "white",
            "linecolor": "white",
            "ticks": ""
           },
           "bgcolor": "#E5ECF6",
           "caxis": {
            "gridcolor": "white",
            "linecolor": "white",
            "ticks": ""
           }
          },
          "title": {
           "x": 0.05
          },
          "xaxis": {
           "automargin": true,
           "gridcolor": "white",
           "linecolor": "white",
           "ticks": "",
           "title": {
            "standoff": 15
           },
           "zerolinecolor": "white",
           "zerolinewidth": 2
          },
          "yaxis": {
           "automargin": true,
           "gridcolor": "white",
           "linecolor": "white",
           "ticks": "",
           "title": {
            "standoff": 15
           },
           "zerolinecolor": "white",
           "zerolinewidth": 2
          }
         }
        },
        "title": {
         "text": "Recuento de Clasificaciones por Año"
        },
        "xaxis": {
         "anchor": "y",
         "domain": [
          0,
          1
         ],
         "title": {
          "text": "Clasificación"
         }
        },
        "yaxis": {
         "anchor": "x",
         "domain": [
          0,
          1
         ],
         "title": {
          "text": "Número de Instituciones"
         }
        }
       }
      }
     },
     "metadata": {},
     "output_type": "display_data"
    },
    {
     "data": {
      "text/html": [
       "<div>\n",
       "<style scoped>\n",
       "    .dataframe tbody tr th:only-of-type {\n",
       "        vertical-align: middle;\n",
       "    }\n",
       "\n",
       "    .dataframe tbody tr th {\n",
       "        vertical-align: top;\n",
       "    }\n",
       "\n",
       "    .dataframe thead th {\n",
       "        text-align: right;\n",
       "    }\n",
       "</style>\n",
       "<table border=\"1\" class=\"dataframe\">\n",
       "  <thead>\n",
       "    <tr style=\"text-align: right;\">\n",
       "      <th></th>\n",
       "      <th>2020</th>\n",
       "      <th>2021</th>\n",
       "      <th>2022</th>\n",
       "      <th>2023</th>\n",
       "    </tr>\n",
       "  </thead>\n",
       "  <tbody>\n",
       "    <tr>\n",
       "      <th>A+</th>\n",
       "      <td>1</td>\n",
       "      <td>0</td>\n",
       "      <td>0</td>\n",
       "      <td>1</td>\n",
       "    </tr>\n",
       "    <tr>\n",
       "      <th>A</th>\n",
       "      <td>5</td>\n",
       "      <td>4</td>\n",
       "      <td>4</td>\n",
       "      <td>4</td>\n",
       "    </tr>\n",
       "    <tr>\n",
       "      <th>B</th>\n",
       "      <td>5</td>\n",
       "      <td>6</td>\n",
       "      <td>5</td>\n",
       "      <td>8</td>\n",
       "    </tr>\n",
       "    <tr>\n",
       "      <th>C</th>\n",
       "      <td>8</td>\n",
       "      <td>7</td>\n",
       "      <td>9</td>\n",
       "      <td>8</td>\n",
       "    </tr>\n",
       "    <tr>\n",
       "      <th>D</th>\n",
       "      <td>10</td>\n",
       "      <td>15</td>\n",
       "      <td>14</td>\n",
       "      <td>11</td>\n",
       "    </tr>\n",
       "    <tr>\n",
       "      <th>Total</th>\n",
       "      <td>29</td>\n",
       "      <td>32</td>\n",
       "      <td>32</td>\n",
       "      <td>32</td>\n",
       "    </tr>\n",
       "  </tbody>\n",
       "</table>\n",
       "</div>"
      ],
      "text/plain": [
       "       2020  2021  2022  2023\n",
       "A+        1     0     0     1\n",
       "A         5     4     4     4\n",
       "B         5     6     5     8\n",
       "C         8     7     9     8\n",
       "D        10    15    14    11\n",
       "Total    29    32    32    32"
      ]
     },
     "execution_count": 76,
     "metadata": {},
     "output_type": "execute_result"
    }
   ],
   "source": [
    "import pandas as pd\n",
    "import plotly.express as px\n",
    "\n",
    "# Asumiendo que tu DataFrame 'df' se ve así y está correctamente definido con tus datos...\n",
    "\n",
    "# ... (tu DataFrame 'df' ya está definido aquí) ...\n",
    "\n",
    "# Eliminar la fila que contiene \"No es posible presentar los resultados...\"\n",
    "df = df[df['CLASIFICACION 2020'] != 'No es posible presentar los resultados...']\n",
    "\n",
    "# Ahora, para obtener el recuento de clasificaciones por año, puedes hacer:\n",
    "recuento_2020 = df['CLASIFICACION 2020'].value_counts()\n",
    "recuento_2021 = df['CLASIFICACION 2021'].value_counts()\n",
    "recuento_2022 = df['CLASIFICACION 2022'].value_counts()\n",
    "recuento_2023 = df['CLASIFICACION 2023'].value_counts()\n",
    "\n",
    "# Para tener una tabla con todos los recuentos por año, podemos crear un nuevo DataFrame:\n",
    "recuento_total = pd.DataFrame({\n",
    "    '2020': recuento_2020,\n",
    "    '2021': recuento_2021,\n",
    "    '2022': recuento_2022,\n",
    "    '2023': recuento_2023\n",
    "}).fillna(0).astype(int)  # Llenamos los valores NaN con 0 y convertimos a enteros\n",
    "\n",
    "# Eliminar la fila con el texto no deseado en el recuento_total\n",
    "recuento_total = recuento_total.drop('No es posible presentar los resultados...')\n",
    "\n",
    "# Agregar una fila al final con los totales por año\n",
    "recuento_total.loc['Total'] = recuento_total.sum()\n",
    "\n",
    "\n",
    "df_long = recuento_total.drop('Total').reset_index().rename(columns={'index': 'Clasificación'}).melt(id_vars='Clasificación', var_name='Año', value_name='Número de Instituciones')\n",
    "\n",
    "# Crear la gráfica de barras interactiva\n",
    "fig = px.bar(df_long, x='Clasificación', y='Número de Instituciones', color='Año', barmode='group', title='Recuento de Clasificaciones por Año')\n",
    "\n",
    "# Mostrar la gráfica\n",
    "fig.show()\n",
    "recuento_total\n",
    "\n"
   ]
  },
  {
   "cell_type": "code",
   "execution_count": 94,
   "metadata": {},
   "outputs": [
    {
     "data": {
      "application/vnd.plotly.v1+json": {
       "config": {
        "plotlyServerURL": "https://plot.ly"
       },
       "data": [
        {
         "domain": {
          "x": [
           0,
           0.45
          ],
          "y": [
           0,
           1
          ]
         },
         "labels": [
          "D",
          "C",
          "B",
          "A",
          "A+"
         ],
         "name": "2022",
         "sort": false,
         "title": {
          "text": "2022"
         },
         "type": "pie",
         "values": [
          14,
          9,
          5,
          4,
          0
         ]
        },
        {
         "domain": {
          "x": [
           0.55,
           1
          ],
          "y": [
           0,
           1
          ]
         },
         "labels": [
          "D",
          "C",
          "B",
          "A",
          "A+"
         ],
         "name": "2023",
         "sort": false,
         "title": {
          "text": "2023"
         },
         "type": "pie",
         "values": [
          11,
          8,
          8,
          4,
          1
         ]
        }
       ],
       "layout": {
        "legend": {
         "itemsizing": "constant",
         "title": {
          "text": "Clasificación"
         },
         "traceorder": "reversed"
        },
        "template": {
         "data": {
          "bar": [
           {
            "error_x": {
             "color": "#2a3f5f"
            },
            "error_y": {
             "color": "#2a3f5f"
            },
            "marker": {
             "line": {
              "color": "#E5ECF6",
              "width": 0.5
             },
             "pattern": {
              "fillmode": "overlay",
              "size": 10,
              "solidity": 0.2
             }
            },
            "type": "bar"
           }
          ],
          "barpolar": [
           {
            "marker": {
             "line": {
              "color": "#E5ECF6",
              "width": 0.5
             },
             "pattern": {
              "fillmode": "overlay",
              "size": 10,
              "solidity": 0.2
             }
            },
            "type": "barpolar"
           }
          ],
          "carpet": [
           {
            "aaxis": {
             "endlinecolor": "#2a3f5f",
             "gridcolor": "white",
             "linecolor": "white",
             "minorgridcolor": "white",
             "startlinecolor": "#2a3f5f"
            },
            "baxis": {
             "endlinecolor": "#2a3f5f",
             "gridcolor": "white",
             "linecolor": "white",
             "minorgridcolor": "white",
             "startlinecolor": "#2a3f5f"
            },
            "type": "carpet"
           }
          ],
          "choropleth": [
           {
            "colorbar": {
             "outlinewidth": 0,
             "ticks": ""
            },
            "type": "choropleth"
           }
          ],
          "contour": [
           {
            "colorbar": {
             "outlinewidth": 0,
             "ticks": ""
            },
            "colorscale": [
             [
              0,
              "#0d0887"
             ],
             [
              0.1111111111111111,
              "#46039f"
             ],
             [
              0.2222222222222222,
              "#7201a8"
             ],
             [
              0.3333333333333333,
              "#9c179e"
             ],
             [
              0.4444444444444444,
              "#bd3786"
             ],
             [
              0.5555555555555556,
              "#d8576b"
             ],
             [
              0.6666666666666666,
              "#ed7953"
             ],
             [
              0.7777777777777778,
              "#fb9f3a"
             ],
             [
              0.8888888888888888,
              "#fdca26"
             ],
             [
              1,
              "#f0f921"
             ]
            ],
            "type": "contour"
           }
          ],
          "contourcarpet": [
           {
            "colorbar": {
             "outlinewidth": 0,
             "ticks": ""
            },
            "type": "contourcarpet"
           }
          ],
          "heatmap": [
           {
            "colorbar": {
             "outlinewidth": 0,
             "ticks": ""
            },
            "colorscale": [
             [
              0,
              "#0d0887"
             ],
             [
              0.1111111111111111,
              "#46039f"
             ],
             [
              0.2222222222222222,
              "#7201a8"
             ],
             [
              0.3333333333333333,
              "#9c179e"
             ],
             [
              0.4444444444444444,
              "#bd3786"
             ],
             [
              0.5555555555555556,
              "#d8576b"
             ],
             [
              0.6666666666666666,
              "#ed7953"
             ],
             [
              0.7777777777777778,
              "#fb9f3a"
             ],
             [
              0.8888888888888888,
              "#fdca26"
             ],
             [
              1,
              "#f0f921"
             ]
            ],
            "type": "heatmap"
           }
          ],
          "heatmapgl": [
           {
            "colorbar": {
             "outlinewidth": 0,
             "ticks": ""
            },
            "colorscale": [
             [
              0,
              "#0d0887"
             ],
             [
              0.1111111111111111,
              "#46039f"
             ],
             [
              0.2222222222222222,
              "#7201a8"
             ],
             [
              0.3333333333333333,
              "#9c179e"
             ],
             [
              0.4444444444444444,
              "#bd3786"
             ],
             [
              0.5555555555555556,
              "#d8576b"
             ],
             [
              0.6666666666666666,
              "#ed7953"
             ],
             [
              0.7777777777777778,
              "#fb9f3a"
             ],
             [
              0.8888888888888888,
              "#fdca26"
             ],
             [
              1,
              "#f0f921"
             ]
            ],
            "type": "heatmapgl"
           }
          ],
          "histogram": [
           {
            "marker": {
             "pattern": {
              "fillmode": "overlay",
              "size": 10,
              "solidity": 0.2
             }
            },
            "type": "histogram"
           }
          ],
          "histogram2d": [
           {
            "colorbar": {
             "outlinewidth": 0,
             "ticks": ""
            },
            "colorscale": [
             [
              0,
              "#0d0887"
             ],
             [
              0.1111111111111111,
              "#46039f"
             ],
             [
              0.2222222222222222,
              "#7201a8"
             ],
             [
              0.3333333333333333,
              "#9c179e"
             ],
             [
              0.4444444444444444,
              "#bd3786"
             ],
             [
              0.5555555555555556,
              "#d8576b"
             ],
             [
              0.6666666666666666,
              "#ed7953"
             ],
             [
              0.7777777777777778,
              "#fb9f3a"
             ],
             [
              0.8888888888888888,
              "#fdca26"
             ],
             [
              1,
              "#f0f921"
             ]
            ],
            "type": "histogram2d"
           }
          ],
          "histogram2dcontour": [
           {
            "colorbar": {
             "outlinewidth": 0,
             "ticks": ""
            },
            "colorscale": [
             [
              0,
              "#0d0887"
             ],
             [
              0.1111111111111111,
              "#46039f"
             ],
             [
              0.2222222222222222,
              "#7201a8"
             ],
             [
              0.3333333333333333,
              "#9c179e"
             ],
             [
              0.4444444444444444,
              "#bd3786"
             ],
             [
              0.5555555555555556,
              "#d8576b"
             ],
             [
              0.6666666666666666,
              "#ed7953"
             ],
             [
              0.7777777777777778,
              "#fb9f3a"
             ],
             [
              0.8888888888888888,
              "#fdca26"
             ],
             [
              1,
              "#f0f921"
             ]
            ],
            "type": "histogram2dcontour"
           }
          ],
          "mesh3d": [
           {
            "colorbar": {
             "outlinewidth": 0,
             "ticks": ""
            },
            "type": "mesh3d"
           }
          ],
          "parcoords": [
           {
            "line": {
             "colorbar": {
              "outlinewidth": 0,
              "ticks": ""
             }
            },
            "type": "parcoords"
           }
          ],
          "pie": [
           {
            "automargin": true,
            "type": "pie"
           }
          ],
          "scatter": [
           {
            "fillpattern": {
             "fillmode": "overlay",
             "size": 10,
             "solidity": 0.2
            },
            "type": "scatter"
           }
          ],
          "scatter3d": [
           {
            "line": {
             "colorbar": {
              "outlinewidth": 0,
              "ticks": ""
             }
            },
            "marker": {
             "colorbar": {
              "outlinewidth": 0,
              "ticks": ""
             }
            },
            "type": "scatter3d"
           }
          ],
          "scattercarpet": [
           {
            "marker": {
             "colorbar": {
              "outlinewidth": 0,
              "ticks": ""
             }
            },
            "type": "scattercarpet"
           }
          ],
          "scattergeo": [
           {
            "marker": {
             "colorbar": {
              "outlinewidth": 0,
              "ticks": ""
             }
            },
            "type": "scattergeo"
           }
          ],
          "scattergl": [
           {
            "marker": {
             "colorbar": {
              "outlinewidth": 0,
              "ticks": ""
             }
            },
            "type": "scattergl"
           }
          ],
          "scattermapbox": [
           {
            "marker": {
             "colorbar": {
              "outlinewidth": 0,
              "ticks": ""
             }
            },
            "type": "scattermapbox"
           }
          ],
          "scatterpolar": [
           {
            "marker": {
             "colorbar": {
              "outlinewidth": 0,
              "ticks": ""
             }
            },
            "type": "scatterpolar"
           }
          ],
          "scatterpolargl": [
           {
            "marker": {
             "colorbar": {
              "outlinewidth": 0,
              "ticks": ""
             }
            },
            "type": "scatterpolargl"
           }
          ],
          "scatterternary": [
           {
            "marker": {
             "colorbar": {
              "outlinewidth": 0,
              "ticks": ""
             }
            },
            "type": "scatterternary"
           }
          ],
          "surface": [
           {
            "colorbar": {
             "outlinewidth": 0,
             "ticks": ""
            },
            "colorscale": [
             [
              0,
              "#0d0887"
             ],
             [
              0.1111111111111111,
              "#46039f"
             ],
             [
              0.2222222222222222,
              "#7201a8"
             ],
             [
              0.3333333333333333,
              "#9c179e"
             ],
             [
              0.4444444444444444,
              "#bd3786"
             ],
             [
              0.5555555555555556,
              "#d8576b"
             ],
             [
              0.6666666666666666,
              "#ed7953"
             ],
             [
              0.7777777777777778,
              "#fb9f3a"
             ],
             [
              0.8888888888888888,
              "#fdca26"
             ],
             [
              1,
              "#f0f921"
             ]
            ],
            "type": "surface"
           }
          ],
          "table": [
           {
            "cells": {
             "fill": {
              "color": "#EBF0F8"
             },
             "line": {
              "color": "white"
             }
            },
            "header": {
             "fill": {
              "color": "#C8D4E3"
             },
             "line": {
              "color": "white"
             }
            },
            "type": "table"
           }
          ]
         },
         "layout": {
          "annotationdefaults": {
           "arrowcolor": "#2a3f5f",
           "arrowhead": 0,
           "arrowwidth": 1
          },
          "autotypenumbers": "strict",
          "coloraxis": {
           "colorbar": {
            "outlinewidth": 0,
            "ticks": ""
           }
          },
          "colorscale": {
           "diverging": [
            [
             0,
             "#8e0152"
            ],
            [
             0.1,
             "#c51b7d"
            ],
            [
             0.2,
             "#de77ae"
            ],
            [
             0.3,
             "#f1b6da"
            ],
            [
             0.4,
             "#fde0ef"
            ],
            [
             0.5,
             "#f7f7f7"
            ],
            [
             0.6,
             "#e6f5d0"
            ],
            [
             0.7,
             "#b8e186"
            ],
            [
             0.8,
             "#7fbc41"
            ],
            [
             0.9,
             "#4d9221"
            ],
            [
             1,
             "#276419"
            ]
           ],
           "sequential": [
            [
             0,
             "#0d0887"
            ],
            [
             0.1111111111111111,
             "#46039f"
            ],
            [
             0.2222222222222222,
             "#7201a8"
            ],
            [
             0.3333333333333333,
             "#9c179e"
            ],
            [
             0.4444444444444444,
             "#bd3786"
            ],
            [
             0.5555555555555556,
             "#d8576b"
            ],
            [
             0.6666666666666666,
             "#ed7953"
            ],
            [
             0.7777777777777778,
             "#fb9f3a"
            ],
            [
             0.8888888888888888,
             "#fdca26"
            ],
            [
             1,
             "#f0f921"
            ]
           ],
           "sequentialminus": [
            [
             0,
             "#0d0887"
            ],
            [
             0.1111111111111111,
             "#46039f"
            ],
            [
             0.2222222222222222,
             "#7201a8"
            ],
            [
             0.3333333333333333,
             "#9c179e"
            ],
            [
             0.4444444444444444,
             "#bd3786"
            ],
            [
             0.5555555555555556,
             "#d8576b"
            ],
            [
             0.6666666666666666,
             "#ed7953"
            ],
            [
             0.7777777777777778,
             "#fb9f3a"
            ],
            [
             0.8888888888888888,
             "#fdca26"
            ],
            [
             1,
             "#f0f921"
            ]
           ]
          },
          "colorway": [
           "#636efa",
           "#EF553B",
           "#00cc96",
           "#ab63fa",
           "#FFA15A",
           "#19d3f3",
           "#FF6692",
           "#B6E880",
           "#FF97FF",
           "#FECB52"
          ],
          "font": {
           "color": "#2a3f5f"
          },
          "geo": {
           "bgcolor": "white",
           "lakecolor": "white",
           "landcolor": "#E5ECF6",
           "showlakes": true,
           "showland": true,
           "subunitcolor": "white"
          },
          "hoverlabel": {
           "align": "left"
          },
          "hovermode": "closest",
          "mapbox": {
           "style": "light"
          },
          "paper_bgcolor": "white",
          "plot_bgcolor": "#E5ECF6",
          "polar": {
           "angularaxis": {
            "gridcolor": "white",
            "linecolor": "white",
            "ticks": ""
           },
           "bgcolor": "#E5ECF6",
           "radialaxis": {
            "gridcolor": "white",
            "linecolor": "white",
            "ticks": ""
           }
          },
          "scene": {
           "xaxis": {
            "backgroundcolor": "#E5ECF6",
            "gridcolor": "white",
            "gridwidth": 2,
            "linecolor": "white",
            "showbackground": true,
            "ticks": "",
            "zerolinecolor": "white"
           },
           "yaxis": {
            "backgroundcolor": "#E5ECF6",
            "gridcolor": "white",
            "gridwidth": 2,
            "linecolor": "white",
            "showbackground": true,
            "ticks": "",
            "zerolinecolor": "white"
           },
           "zaxis": {
            "backgroundcolor": "#E5ECF6",
            "gridcolor": "white",
            "gridwidth": 2,
            "linecolor": "white",
            "showbackground": true,
            "ticks": "",
            "zerolinecolor": "white"
           }
          },
          "shapedefaults": {
           "line": {
            "color": "#2a3f5f"
           }
          },
          "ternary": {
           "aaxis": {
            "gridcolor": "white",
            "linecolor": "white",
            "ticks": ""
           },
           "baxis": {
            "gridcolor": "white",
            "linecolor": "white",
            "ticks": ""
           },
           "bgcolor": "#E5ECF6",
           "caxis": {
            "gridcolor": "white",
            "linecolor": "white",
            "ticks": ""
           }
          },
          "title": {
           "x": 0.05
          },
          "xaxis": {
           "automargin": true,
           "gridcolor": "white",
           "linecolor": "white",
           "ticks": "",
           "title": {
            "standoff": 15
           },
           "zerolinecolor": "white",
           "zerolinewidth": 2
          },
          "yaxis": {
           "automargin": true,
           "gridcolor": "white",
           "linecolor": "white",
           "ticks": "",
           "title": {
            "standoff": 15
           },
           "zerolinecolor": "white",
           "zerolinewidth": 2
          }
         }
        },
        "title": {
         "text": "Porcentaje de Clasificaciones por Año"
        }
       }
      }
     },
     "metadata": {},
     "output_type": "display_data"
    }
   ],
   "source": [
    "import pandas as pd\n",
    "import plotly.graph_objects as go\n",
    "from plotly.subplots import make_subplots\n",
    "\n",
    "# Asumiendo que 'recuento_total' es tu DataFrame y ya está definido...\n",
    "\n",
    "# Invertir el orden de las clasificaciones para la leyenda\n",
    "orden_clasificaciones = ['A+', 'A', 'B', 'C', 'D'][::-1]  # Se invierte la lista\n",
    "\n",
    "# Filtrar el DataFrame para excluir la fila 'Total' y reordenar las clasificaciones\n",
    "df_pie = recuento_total.drop('Total').reindex(orden_clasificaciones)\n",
    "\n",
    "# Crear una figura con 1 fila y 2 columnas para mostrar dos gráficos de tarta\n",
    "fig = make_subplots(rows=1, cols=2, specs=[[{'type': 'pie'}, {'type': 'pie'}]])\n",
    "\n",
    "# Agregar el gráfico de tarta para el año 2022\n",
    "fig.add_trace(\n",
    "    go.Pie(\n",
    "        labels=df_pie.index, \n",
    "        values=df_pie['2022'], \n",
    "        name='2022',\n",
    "        title='2022',\n",
    "        sort=False  # Evita que Plotly ordene las etiquetas automáticamente\n",
    "    ),\n",
    "    row=1, col=1\n",
    ")\n",
    "\n",
    "# Agregar el gráfico de tarta para el año 2023\n",
    "fig.add_trace(\n",
    "    go.Pie(\n",
    "        labels=df_pie.index, \n",
    "        values=df_pie['2023'], \n",
    "        name='2023',\n",
    "        title='2023',\n",
    "        sort=False  # Evita que Plotly ordene las etiquetas automáticamente\n",
    "    ),\n",
    "    row=1, col=2\n",
    ")\n",
    "\n",
    "# Actualizar la disposición de la figura para mostrar los títulos y ajustar la leyenda\n",
    "fig.update_layout(\n",
    "    title_text='Porcentaje de Clasificaciones por Año',\n",
    "    legend_title='Clasificación',\n",
    "    legend=dict(\n",
    "        traceorder='normal',\n",
    "        itemsizing='constant'\n",
    "    ),\n",
    "    # Asegúrate de que las trazas de la leyenda estén en el orden inverso\n",
    "    legend_traceorder='reversed'\n",
    ")\n",
    "\n",
    "# Mostrar la figura\n",
    "fig.show()\n"
   ]
  },
  {
   "cell_type": "code",
   "execution_count": 97,
   "metadata": {},
   "outputs": [
    {
     "name": "stdout",
     "output_type": "stream",
     "text": [
      "               2022  2023  % 2022  % 2023  % Diferencia\n",
      "Clasificación                                          \n",
      "A+                0     1   0.000   3.125         3.125\n",
      "A                 4     4  12.500  12.500         0.000\n",
      "B                 5     8  15.625  25.000         9.375\n",
      "C                 9     8  28.125  25.000        -3.125\n",
      "D                14    11  43.750  34.375        -9.375\n"
     ]
    },
    {
     "data": {
      "text/plain": [
       "['Pasó del 0% al 3.12% por lo que una institución llegó a esta clase cuando antes no había ninguna.',\n",
       " 'Se mantuvieron las mismas instituciones.',\n",
       " 'Aumentó un 9.38% el porcentaje lo que significa que a esta clase llegaron los de las clases inferiores.',\n",
       " 'El porcentaje se redujo un 3.12%, lo que significa que las instituciones de esta clase pasaron a una mejor.',\n",
       " 'El porcentaje se redujo un 9.38% con respecto al año 2022, lo que significa que las instituciones de esta clasificación subieron a una mejor.']"
      ]
     },
     "execution_count": 97,
     "metadata": {},
     "output_type": "execute_result"
    }
   ],
   "source": [
    "# Convertir los datos a un DataFrame de pandas.\n",
    "import pandas as pd\n",
    "\n",
    "# Suponiendo que los datos ya están en un DataFrame 'df'\n",
    "data = {\n",
    "    \"Clasificación\": [\"A+\", \"A\", \"B\", \"C\", \"D\"],\n",
    "    \"2022\": [0, 4, 5, 9, 14],\n",
    "    \"2023\": [1, 4, 8, 8, 11]\n",
    "}\n",
    "\n",
    "df = pd.DataFrame(data).set_index(\"Clasificación\")\n",
    "\n",
    "# Calcular los porcentajes de cada clasificación para los años 2022 y 2023\n",
    "total_2022 = df['2022'].sum()\n",
    "total_2023 = df['2023'].sum()\n",
    "\n",
    "df['% 2022'] = (df['2022'] / total_2022) * 100\n",
    "df['% 2023'] = (df['2023'] / total_2023) * 100\n",
    "\n",
    "# Calcular la diferencia de porcentajes entre los dos años para cada clasificación\n",
    "df['% Diferencia'] = df['% 2023'] - df['% 2022']\n",
    "\n",
    "# Añadir las anotaciones según los porcentajes calculados\n",
    "annotations = []\n",
    "for clasif, row in df.iterrows():\n",
    "    diff = row['% Diferencia']\n",
    "    if clasif == \"D\":\n",
    "        text = f\"El porcentaje se redujo un {abs(diff):.2f}% con respecto al año 2022, lo que significa que las instituciones de esta clasificación subieron a una mejor.\"\n",
    "    elif clasif == \"C\":\n",
    "        text = f\"El porcentaje se redujo un {abs(diff):.2f}%, lo que significa que las instituciones de esta clase pasaron a una mejor.\"\n",
    "    elif clasif == \"B\":\n",
    "        text = f\"Aumentó un {abs(diff):.2f}% el porcentaje lo que significa que a esta clase llegaron los de las clases inferiores.\"\n",
    "    elif clasif == \"A\":\n",
    "        text = \"Se mantuvieron las mismas instituciones.\"\n",
    "    elif clasif == \"A+\":\n",
    "        text = f\"Pasó del 0% al {row['% 2023']:.2f}% por lo que una institución llegó a esta clase cuando antes no había ninguna.\"\n",
    "    annotations.append(text)\n",
    "\n",
    "# Mostrar el DataFrame y las anotaciones\n",
    "print(df)\n",
    "annotations\n"
   ]
  },
  {
   "cell_type": "markdown",
   "metadata": {},
   "source": [
    "## PROMEDIO DE LECTURA CRITICA 2022 - 2023"
   ]
  },
  {
   "cell_type": "code",
   "execution_count": 49,
   "metadata": {},
   "outputs": [
    {
     "data": {
      "application/vnd.plotly.v1+json": {
       "config": {
        "plotlyServerURL": "https://plot.ly"
       },
       "data": [
        {
         "alignmentgroup": "True",
         "hovertemplate": "Año=PROMEDIO DE LECTURA CRITICA 2022<br>INSTITUCION=%{x}<br>Promedio de Lectura Crítica=%{y}<extra></extra>",
         "legendgroup": "PROMEDIO DE LECTURA CRITICA 2022",
         "marker": {
          "color": "#636efa",
          "pattern": {
           "shape": ""
          }
         },
         "name": "PROMEDIO DE LECTURA CRITICA 2022",
         "offsetgroup": "PROMEDIO DE LECTURA CRITICA 2022",
         "orientation": "v",
         "showlegend": true,
         "textposition": "auto",
         "type": "bar",
         "x": [
          "IE VILLA ESTADIO",
          "IE NUESTRA SEÑORA DE FATIMA",
          "IE TECNICO INDUSTRIAL BLAS TORRES DE LA TORRE",
          "IE JESUS MAESTRO F.M.S.D.",
          "IE COMERCIAL NTRA SRA DE LAS MISERICORDIAS",
          "IE SAGRADO CORAZON",
          "IE VISTA HERMOSA DE SOLEDAD",
          "IE TECNICA MANUELA BELTRAN",
          "IE TAJAMAR",
          "IE DOLORES MARIA UCROS",
          "IE LUIS R. CAPARROSO",
          "IE FRANCISCO JOSE DE CALDAS",
          "IE NOROCCIDENTAL DE SOLEDAD",
          "IE INEM MIGUEL ANTONIO CARO",
          "IE NUESTRA SEÑORA DEL CARMEN",
          "IE GABRIEL ESCORCIA GRAVINI DE SOLEDAD",
          "IE TECNICA INDUSTRIAL JOSE CASTILLO BOLIVAR",
          "IE TECNICA INDUSTRIAL DE SOLEDAD MARIA AUXILIADORA",
          "IE TECNICA FRANCISCO DE PAULA SANTANDER",
          "IE JOHN F KENNEDY DE SOLEDAD",
          "IE VILLA MARIA",
          "IE POLICARPA SALAVARRIETA",
          "IE PRIMERO DE MAYO",
          "IE ANTONIO RAMON MORENO"
         ],
         "xaxis": "x",
         "y": [
          0.7944,
          0.7866,
          0.7517,
          0.7535,
          0.7548,
          0.731,
          0.7554,
          0.6975,
          0.7149,
          0.7088,
          0.7033,
          0.7062,
          0.6927,
          0.6887,
          0.6657,
          0.6628,
          0.6637,
          0.6579,
          0.6488,
          0.6637,
          0.6228,
          0.6253,
          0.6274,
          0.6067
         ],
         "yaxis": "y"
        },
        {
         "alignmentgroup": "True",
         "hovertemplate": "Año=PROMEDIO DE LECTURA CRITICA 2023<br>INSTITUCION=%{x}<br>Promedio de Lectura Crítica=%{y}<extra></extra>",
         "legendgroup": "PROMEDIO DE LECTURA CRITICA 2023",
         "marker": {
          "color": "#EF553B",
          "pattern": {
           "shape": ""
          }
         },
         "name": "PROMEDIO DE LECTURA CRITICA 2023",
         "offsetgroup": "PROMEDIO DE LECTURA CRITICA 2023",
         "orientation": "v",
         "showlegend": true,
         "textposition": "auto",
         "type": "bar",
         "x": [
          "IE VILLA ESTADIO",
          "IE NUESTRA SEÑORA DE FATIMA",
          "IE TECNICO INDUSTRIAL BLAS TORRES DE LA TORRE",
          "IE JESUS MAESTRO F.M.S.D.",
          "IE COMERCIAL NTRA SRA DE LAS MISERICORDIAS",
          "IE SAGRADO CORAZON",
          "IE VISTA HERMOSA DE SOLEDAD",
          "IE TECNICA MANUELA BELTRAN",
          "IE TAJAMAR",
          "IE DOLORES MARIA UCROS",
          "IE LUIS R. CAPARROSO",
          "IE FRANCISCO JOSE DE CALDAS",
          "IE NOROCCIDENTAL DE SOLEDAD",
          "IE INEM MIGUEL ANTONIO CARO",
          "IE NUESTRA SEÑORA DEL CARMEN",
          "IE GABRIEL ESCORCIA GRAVINI DE SOLEDAD",
          "IE TECNICA INDUSTRIAL JOSE CASTILLO BOLIVAR",
          "IE TECNICA INDUSTRIAL DE SOLEDAD MARIA AUXILIADORA",
          "IE TECNICA FRANCISCO DE PAULA SANTANDER",
          "IE JOHN F KENNEDY DE SOLEDAD",
          "IE VILLA MARIA",
          "IE POLICARPA SALAVARRIETA",
          "IE PRIMERO DE MAYO",
          "IE ANTONIO RAMON MORENO"
         ],
         "xaxis": "x",
         "y": [
          0.8025,
          0.794,
          0.7575,
          0.7619,
          0.7584,
          0.7447,
          0.7662,
          0.7247,
          0.7157,
          0.7195,
          0.722,
          0.7151,
          0.7055,
          0.6963,
          0.6802,
          0.6707,
          0.6816,
          0.6717,
          0.6539,
          0.671,
          0.6428,
          0.6442,
          0.6364,
          0.6246
         ],
         "yaxis": "y"
        },
        {
         "line": {
          "color": "black",
          "dash": "dash",
          "width": 2
         },
         "mode": "lines",
         "name": "Promedio General",
         "type": "scatter",
         "x": [
          "IE VILLA ESTADIO",
          "IE NUESTRA SEÑORA DE FATIMA",
          "IE TECNICO INDUSTRIAL BLAS TORRES DE LA TORRE",
          "IE JESUS MAESTRO F.M.S.D.",
          "IE COMERCIAL NTRA SRA DE LAS MISERICORDIAS",
          "IE SAGRADO CORAZON",
          "IE VISTA HERMOSA DE SOLEDAD",
          "IE TECNICA MANUELA BELTRAN",
          "IE TAJAMAR",
          "IE DOLORES MARIA UCROS",
          "IE LUIS R. CAPARROSO",
          "IE FRANCISCO JOSE DE CALDAS",
          "IE NOROCCIDENTAL DE SOLEDAD",
          "IE INEM MIGUEL ANTONIO CARO",
          "IE NUESTRA SEÑORA DEL CARMEN",
          "IE GABRIEL ESCORCIA GRAVINI DE SOLEDAD",
          "IE TECNICA INDUSTRIAL JOSE CASTILLO BOLIVAR",
          "IE TECNICA INDUSTRIAL DE SOLEDAD MARIA AUXILIADORA",
          "IE TECNICA FRANCISCO DE PAULA SANTANDER",
          "IE JOHN F KENNEDY DE SOLEDAD",
          "IE VILLA MARIA",
          "IE POLICARPA SALAVARRIETA",
          "IE PRIMERO DE MAYO",
          "IE ANTONIO RAMON MORENO"
         ],
         "y": [
          0.7009458333333333,
          0.7009458333333333,
          0.7009458333333333,
          0.7009458333333333,
          0.7009458333333333,
          0.7009458333333333,
          0.7009458333333333,
          0.7009458333333333,
          0.7009458333333333,
          0.7009458333333333,
          0.7009458333333333,
          0.7009458333333333,
          0.7009458333333333,
          0.7009458333333333,
          0.7009458333333333,
          0.7009458333333333,
          0.7009458333333333,
          0.7009458333333333,
          0.7009458333333333,
          0.7009458333333333,
          0.7009458333333333,
          0.7009458333333333,
          0.7009458333333333,
          0.7009458333333333
         ]
        }
       ],
       "layout": {
        "barmode": "group",
        "height": 1000,
        "legend": {
         "title": {
          "text": "Año"
         },
         "tracegroupgap": 0
        },
        "margin": {
         "t": 60
        },
        "template": {
         "data": {
          "bar": [
           {
            "error_x": {
             "color": "#2a3f5f"
            },
            "error_y": {
             "color": "#2a3f5f"
            },
            "marker": {
             "line": {
              "color": "#E5ECF6",
              "width": 0.5
             },
             "pattern": {
              "fillmode": "overlay",
              "size": 10,
              "solidity": 0.2
             }
            },
            "type": "bar"
           }
          ],
          "barpolar": [
           {
            "marker": {
             "line": {
              "color": "#E5ECF6",
              "width": 0.5
             },
             "pattern": {
              "fillmode": "overlay",
              "size": 10,
              "solidity": 0.2
             }
            },
            "type": "barpolar"
           }
          ],
          "carpet": [
           {
            "aaxis": {
             "endlinecolor": "#2a3f5f",
             "gridcolor": "white",
             "linecolor": "white",
             "minorgridcolor": "white",
             "startlinecolor": "#2a3f5f"
            },
            "baxis": {
             "endlinecolor": "#2a3f5f",
             "gridcolor": "white",
             "linecolor": "white",
             "minorgridcolor": "white",
             "startlinecolor": "#2a3f5f"
            },
            "type": "carpet"
           }
          ],
          "choropleth": [
           {
            "colorbar": {
             "outlinewidth": 0,
             "ticks": ""
            },
            "type": "choropleth"
           }
          ],
          "contour": [
           {
            "colorbar": {
             "outlinewidth": 0,
             "ticks": ""
            },
            "colorscale": [
             [
              0,
              "#0d0887"
             ],
             [
              0.1111111111111111,
              "#46039f"
             ],
             [
              0.2222222222222222,
              "#7201a8"
             ],
             [
              0.3333333333333333,
              "#9c179e"
             ],
             [
              0.4444444444444444,
              "#bd3786"
             ],
             [
              0.5555555555555556,
              "#d8576b"
             ],
             [
              0.6666666666666666,
              "#ed7953"
             ],
             [
              0.7777777777777778,
              "#fb9f3a"
             ],
             [
              0.8888888888888888,
              "#fdca26"
             ],
             [
              1,
              "#f0f921"
             ]
            ],
            "type": "contour"
           }
          ],
          "contourcarpet": [
           {
            "colorbar": {
             "outlinewidth": 0,
             "ticks": ""
            },
            "type": "contourcarpet"
           }
          ],
          "heatmap": [
           {
            "colorbar": {
             "outlinewidth": 0,
             "ticks": ""
            },
            "colorscale": [
             [
              0,
              "#0d0887"
             ],
             [
              0.1111111111111111,
              "#46039f"
             ],
             [
              0.2222222222222222,
              "#7201a8"
             ],
             [
              0.3333333333333333,
              "#9c179e"
             ],
             [
              0.4444444444444444,
              "#bd3786"
             ],
             [
              0.5555555555555556,
              "#d8576b"
             ],
             [
              0.6666666666666666,
              "#ed7953"
             ],
             [
              0.7777777777777778,
              "#fb9f3a"
             ],
             [
              0.8888888888888888,
              "#fdca26"
             ],
             [
              1,
              "#f0f921"
             ]
            ],
            "type": "heatmap"
           }
          ],
          "heatmapgl": [
           {
            "colorbar": {
             "outlinewidth": 0,
             "ticks": ""
            },
            "colorscale": [
             [
              0,
              "#0d0887"
             ],
             [
              0.1111111111111111,
              "#46039f"
             ],
             [
              0.2222222222222222,
              "#7201a8"
             ],
             [
              0.3333333333333333,
              "#9c179e"
             ],
             [
              0.4444444444444444,
              "#bd3786"
             ],
             [
              0.5555555555555556,
              "#d8576b"
             ],
             [
              0.6666666666666666,
              "#ed7953"
             ],
             [
              0.7777777777777778,
              "#fb9f3a"
             ],
             [
              0.8888888888888888,
              "#fdca26"
             ],
             [
              1,
              "#f0f921"
             ]
            ],
            "type": "heatmapgl"
           }
          ],
          "histogram": [
           {
            "marker": {
             "pattern": {
              "fillmode": "overlay",
              "size": 10,
              "solidity": 0.2
             }
            },
            "type": "histogram"
           }
          ],
          "histogram2d": [
           {
            "colorbar": {
             "outlinewidth": 0,
             "ticks": ""
            },
            "colorscale": [
             [
              0,
              "#0d0887"
             ],
             [
              0.1111111111111111,
              "#46039f"
             ],
             [
              0.2222222222222222,
              "#7201a8"
             ],
             [
              0.3333333333333333,
              "#9c179e"
             ],
             [
              0.4444444444444444,
              "#bd3786"
             ],
             [
              0.5555555555555556,
              "#d8576b"
             ],
             [
              0.6666666666666666,
              "#ed7953"
             ],
             [
              0.7777777777777778,
              "#fb9f3a"
             ],
             [
              0.8888888888888888,
              "#fdca26"
             ],
             [
              1,
              "#f0f921"
             ]
            ],
            "type": "histogram2d"
           }
          ],
          "histogram2dcontour": [
           {
            "colorbar": {
             "outlinewidth": 0,
             "ticks": ""
            },
            "colorscale": [
             [
              0,
              "#0d0887"
             ],
             [
              0.1111111111111111,
              "#46039f"
             ],
             [
              0.2222222222222222,
              "#7201a8"
             ],
             [
              0.3333333333333333,
              "#9c179e"
             ],
             [
              0.4444444444444444,
              "#bd3786"
             ],
             [
              0.5555555555555556,
              "#d8576b"
             ],
             [
              0.6666666666666666,
              "#ed7953"
             ],
             [
              0.7777777777777778,
              "#fb9f3a"
             ],
             [
              0.8888888888888888,
              "#fdca26"
             ],
             [
              1,
              "#f0f921"
             ]
            ],
            "type": "histogram2dcontour"
           }
          ],
          "mesh3d": [
           {
            "colorbar": {
             "outlinewidth": 0,
             "ticks": ""
            },
            "type": "mesh3d"
           }
          ],
          "parcoords": [
           {
            "line": {
             "colorbar": {
              "outlinewidth": 0,
              "ticks": ""
             }
            },
            "type": "parcoords"
           }
          ],
          "pie": [
           {
            "automargin": true,
            "type": "pie"
           }
          ],
          "scatter": [
           {
            "fillpattern": {
             "fillmode": "overlay",
             "size": 10,
             "solidity": 0.2
            },
            "type": "scatter"
           }
          ],
          "scatter3d": [
           {
            "line": {
             "colorbar": {
              "outlinewidth": 0,
              "ticks": ""
             }
            },
            "marker": {
             "colorbar": {
              "outlinewidth": 0,
              "ticks": ""
             }
            },
            "type": "scatter3d"
           }
          ],
          "scattercarpet": [
           {
            "marker": {
             "colorbar": {
              "outlinewidth": 0,
              "ticks": ""
             }
            },
            "type": "scattercarpet"
           }
          ],
          "scattergeo": [
           {
            "marker": {
             "colorbar": {
              "outlinewidth": 0,
              "ticks": ""
             }
            },
            "type": "scattergeo"
           }
          ],
          "scattergl": [
           {
            "marker": {
             "colorbar": {
              "outlinewidth": 0,
              "ticks": ""
             }
            },
            "type": "scattergl"
           }
          ],
          "scattermapbox": [
           {
            "marker": {
             "colorbar": {
              "outlinewidth": 0,
              "ticks": ""
             }
            },
            "type": "scattermapbox"
           }
          ],
          "scatterpolar": [
           {
            "marker": {
             "colorbar": {
              "outlinewidth": 0,
              "ticks": ""
             }
            },
            "type": "scatterpolar"
           }
          ],
          "scatterpolargl": [
           {
            "marker": {
             "colorbar": {
              "outlinewidth": 0,
              "ticks": ""
             }
            },
            "type": "scatterpolargl"
           }
          ],
          "scatterternary": [
           {
            "marker": {
             "colorbar": {
              "outlinewidth": 0,
              "ticks": ""
             }
            },
            "type": "scatterternary"
           }
          ],
          "surface": [
           {
            "colorbar": {
             "outlinewidth": 0,
             "ticks": ""
            },
            "colorscale": [
             [
              0,
              "#0d0887"
             ],
             [
              0.1111111111111111,
              "#46039f"
             ],
             [
              0.2222222222222222,
              "#7201a8"
             ],
             [
              0.3333333333333333,
              "#9c179e"
             ],
             [
              0.4444444444444444,
              "#bd3786"
             ],
             [
              0.5555555555555556,
              "#d8576b"
             ],
             [
              0.6666666666666666,
              "#ed7953"
             ],
             [
              0.7777777777777778,
              "#fb9f3a"
             ],
             [
              0.8888888888888888,
              "#fdca26"
             ],
             [
              1,
              "#f0f921"
             ]
            ],
            "type": "surface"
           }
          ],
          "table": [
           {
            "cells": {
             "fill": {
              "color": "#EBF0F8"
             },
             "line": {
              "color": "white"
             }
            },
            "header": {
             "fill": {
              "color": "#C8D4E3"
             },
             "line": {
              "color": "white"
             }
            },
            "type": "table"
           }
          ]
         },
         "layout": {
          "annotationdefaults": {
           "arrowcolor": "#2a3f5f",
           "arrowhead": 0,
           "arrowwidth": 1
          },
          "autotypenumbers": "strict",
          "coloraxis": {
           "colorbar": {
            "outlinewidth": 0,
            "ticks": ""
           }
          },
          "colorscale": {
           "diverging": [
            [
             0,
             "#8e0152"
            ],
            [
             0.1,
             "#c51b7d"
            ],
            [
             0.2,
             "#de77ae"
            ],
            [
             0.3,
             "#f1b6da"
            ],
            [
             0.4,
             "#fde0ef"
            ],
            [
             0.5,
             "#f7f7f7"
            ],
            [
             0.6,
             "#e6f5d0"
            ],
            [
             0.7,
             "#b8e186"
            ],
            [
             0.8,
             "#7fbc41"
            ],
            [
             0.9,
             "#4d9221"
            ],
            [
             1,
             "#276419"
            ]
           ],
           "sequential": [
            [
             0,
             "#0d0887"
            ],
            [
             0.1111111111111111,
             "#46039f"
            ],
            [
             0.2222222222222222,
             "#7201a8"
            ],
            [
             0.3333333333333333,
             "#9c179e"
            ],
            [
             0.4444444444444444,
             "#bd3786"
            ],
            [
             0.5555555555555556,
             "#d8576b"
            ],
            [
             0.6666666666666666,
             "#ed7953"
            ],
            [
             0.7777777777777778,
             "#fb9f3a"
            ],
            [
             0.8888888888888888,
             "#fdca26"
            ],
            [
             1,
             "#f0f921"
            ]
           ],
           "sequentialminus": [
            [
             0,
             "#0d0887"
            ],
            [
             0.1111111111111111,
             "#46039f"
            ],
            [
             0.2222222222222222,
             "#7201a8"
            ],
            [
             0.3333333333333333,
             "#9c179e"
            ],
            [
             0.4444444444444444,
             "#bd3786"
            ],
            [
             0.5555555555555556,
             "#d8576b"
            ],
            [
             0.6666666666666666,
             "#ed7953"
            ],
            [
             0.7777777777777778,
             "#fb9f3a"
            ],
            [
             0.8888888888888888,
             "#fdca26"
            ],
            [
             1,
             "#f0f921"
            ]
           ]
          },
          "colorway": [
           "#636efa",
           "#EF553B",
           "#00cc96",
           "#ab63fa",
           "#FFA15A",
           "#19d3f3",
           "#FF6692",
           "#B6E880",
           "#FF97FF",
           "#FECB52"
          ],
          "font": {
           "color": "#2a3f5f"
          },
          "geo": {
           "bgcolor": "white",
           "lakecolor": "white",
           "landcolor": "#E5ECF6",
           "showlakes": true,
           "showland": true,
           "subunitcolor": "white"
          },
          "hoverlabel": {
           "align": "left"
          },
          "hovermode": "closest",
          "mapbox": {
           "style": "light"
          },
          "paper_bgcolor": "white",
          "plot_bgcolor": "#E5ECF6",
          "polar": {
           "angularaxis": {
            "gridcolor": "white",
            "linecolor": "white",
            "ticks": ""
           },
           "bgcolor": "#E5ECF6",
           "radialaxis": {
            "gridcolor": "white",
            "linecolor": "white",
            "ticks": ""
           }
          },
          "scene": {
           "xaxis": {
            "backgroundcolor": "#E5ECF6",
            "gridcolor": "white",
            "gridwidth": 2,
            "linecolor": "white",
            "showbackground": true,
            "ticks": "",
            "zerolinecolor": "white"
           },
           "yaxis": {
            "backgroundcolor": "#E5ECF6",
            "gridcolor": "white",
            "gridwidth": 2,
            "linecolor": "white",
            "showbackground": true,
            "ticks": "",
            "zerolinecolor": "white"
           },
           "zaxis": {
            "backgroundcolor": "#E5ECF6",
            "gridcolor": "white",
            "gridwidth": 2,
            "linecolor": "white",
            "showbackground": true,
            "ticks": "",
            "zerolinecolor": "white"
           }
          },
          "shapedefaults": {
           "line": {
            "color": "#2a3f5f"
           }
          },
          "ternary": {
           "aaxis": {
            "gridcolor": "white",
            "linecolor": "white",
            "ticks": ""
           },
           "baxis": {
            "gridcolor": "white",
            "linecolor": "white",
            "ticks": ""
           },
           "bgcolor": "#E5ECF6",
           "caxis": {
            "gridcolor": "white",
            "linecolor": "white",
            "ticks": ""
           }
          },
          "title": {
           "x": 0.05
          },
          "xaxis": {
           "automargin": true,
           "gridcolor": "white",
           "linecolor": "white",
           "ticks": "",
           "title": {
            "standoff": 15
           },
           "zerolinecolor": "white",
           "zerolinewidth": 2
          },
          "yaxis": {
           "automargin": true,
           "gridcolor": "white",
           "linecolor": "white",
           "ticks": "",
           "title": {
            "standoff": 15
           },
           "zerolinecolor": "white",
           "zerolinewidth": 2
          }
         }
        },
        "title": {
         "text": "Instituciónes que mantubieron o mejoraron su promedio 2023-2022"
        },
        "xaxis": {
         "anchor": "y",
         "domain": [
          0,
          1
         ],
         "tickangle": -45,
         "title": {
          "text": "Institución"
         }
        },
        "yaxis": {
         "anchor": "x",
         "domain": [
          0,
          1
         ],
         "title": {
          "text": "Promedio de Lectura Crítica"
         }
        }
       }
      }
     },
     "metadata": {},
     "output_type": "display_data"
    }
   ],
   "source": [
    "import plotly.graph_objects as go\n",
    "import plotly.express as px\n",
    "\n",
    "df_filtrado = df[df['PROMEDIO DE LECTURA CRITICA 2023']>=df['PROMEDIO DE LECTURA CRITICA 2022']]\n",
    "# Convertir el DataFrame de ancho a largo\n",
    "df_long = df_filtrado.melt(id_vars=['INSTITUCION'], \n",
    "                  value_vars=['PROMEDIO DE LECTURA CRITICA 2022', 'PROMEDIO DE LECTURA CRITICA 2023'],\n",
    "                  var_name='Año', \n",
    "                  value_name='Promedio de Lectura Crítica')\n",
    "\n",
    "# Calcular el promedio de ambos años para cada institución\n",
    "promedio_por_institucion = df_filtrado[['PROMEDIO DE LECTURA CRITICA 2022', 'PROMEDIO DE LECTURA CRITICA 2023']].mean(axis=1)\n",
    "promedio_general = promedio_por_institucion.mean()\n",
    "\n",
    "# Crear un gráfico de barras interactivo con los datos transformados\n",
    "fig = px.bar(df_long, x='INSTITUCION', y='Promedio de Lectura Crítica', color='Año', barmode='group')\n",
    "\n",
    "# Agregar una línea horizontal para el promedio general\n",
    "fig.add_trace(\n",
    "    go.Scatter(\n",
    "        x=df_filtrado['INSTITUCION'], \n",
    "        y=[promedio_general]*len(df_filtrado),\n",
    "        mode='lines',\n",
    "        name='Promedio General',\n",
    "        line=dict(color='black', width=2, dash='dash')\n",
    "    )\n",
    ")\n",
    "\n",
    "# Añadir título y modificar leyenda\n",
    "fig.update_layout(\n",
    "    title='Instituciónes que mantubieron o mejoraron su promedio 2023-2022',\n",
    "    xaxis_title='Institución',\n",
    "    yaxis_title='Promedio de Lectura Crítica',\n",
    "    xaxis_tickangle=-45,\n",
    "    height=1000,\n",
    "    legend_title='Año',\n",
    ")\n",
    "\n",
    "# Mostrar el gráfico\n",
    "fig.show()\n"
   ]
  },
  {
   "cell_type": "code",
   "execution_count": 53,
   "metadata": {},
   "outputs": [
    {
     "data": {
      "application/vnd.plotly.v1+json": {
       "config": {
        "plotlyServerURL": "https://plot.ly"
       },
       "data": [
        {
         "customdata": [
          [
           "IE VILLA ESTADIO"
          ],
          [
           "IE NUESTRA SEÑORA DE FATIMA"
          ],
          [
           "IE TECNICO INDUSTRIAL BLAS TORRES DE LA TORRE"
          ],
          [
           "IE POLITECNICO DE SOLEDAD"
          ],
          [
           "IE JESUS MAESTRO F.M.S.D."
          ],
          [
           "IE COMERCIAL NTRA SRA DE LAS MISERICORDIAS"
          ],
          [
           "IE SAGRADO CORAZON"
          ],
          [
           "IE VISTA HERMOSA DE SOLEDAD"
          ],
          [
           "IE TECNICA MANUELA BELTRAN"
          ],
          [
           "IE TAJAMAR"
          ],
          [
           "IE DOLORES MARIA UCROS"
          ],
          [
           "IE LUIS R. CAPARROSO"
          ],
          [
           "IE FRANCISCO JOSE DE CALDAS"
          ],
          [
           "IE NOROCCIDENTAL DE SOLEDAD"
          ],
          [
           "IE TECNICA MICROEMPRESARIAL DE SOLEDAD"
          ],
          [
           "IE INEM MIGUEL ANTONIO CARO"
          ],
          [
           "IE TECNICA INDUSTRIAL Y COMERCIAL DE SOLEDAD"
          ],
          [
           "IE NUESTRA SEÑORA DEL CARMEN"
          ],
          [
           "IE GABRIEL ESCORCIA GRAVINI DE SOLEDAD"
          ],
          [
           "IE TECNICA INDUSTRIAL JOSE CASTILLO BOLIVAR"
          ],
          [
           "IE TECNICA INDUSTRIAL DE SOLEDAD MARIA AUXILIADORA"
          ],
          [
           "IE TECNICA FRANCISCO DE PAULA SANTANDER"
          ],
          [
           "IE JOHN F KENNEDY DE SOLEDAD"
          ],
          [
           "IE TECNICA INDUSTRIAL SAN ANTONIO DE PADUA"
          ],
          [
           "IE NOBEL JUAN MANUEL SANTOS"
          ],
          [
           "IE VILLA MARIA"
          ],
          [
           "IE POLICARPA SALAVARRIETA"
          ],
          [
           "IE PRIMERO DE MAYO"
          ],
          [
           "IE ALBERTO PUMAREJO"
          ],
          [
           "IE DE SOLEDAD - INOBASOL"
          ],
          [
           "IE ANTONIO RAMON MORENO"
          ],
          [
           "IE JOSEFA DONADO"
          ]
         ],
         "hovertemplate": "PROMEDIO DE LECTURA CRITICA 2022=%{x}<br>PROMEDIO DE LECTURA CRITICA 2023=%{y}<br>INSTITUCION=%{customdata[0]}<extra></extra>",
         "legendgroup": "",
         "marker": {
          "color": "#636efa",
          "symbol": "circle"
         },
         "mode": "markers",
         "name": "",
         "orientation": "v",
         "showlegend": false,
         "type": "scatter",
         "x": [
          0.7944,
          0.7866,
          0.7517,
          0.7716,
          0.7535,
          0.7548,
          0.731,
          0.7554,
          0.6975,
          0.7149,
          0.7088,
          0.7033,
          0.7062,
          0.6927,
          0.7058,
          0.6887,
          0.6956,
          0.6657,
          0.6628,
          0.6637,
          0.6579,
          0.6488,
          0.6637,
          0.6619,
          0.6557,
          0.6228,
          0.6253,
          0.6274,
          0.6358,
          0.6212,
          0.6067,
          0.5834
         ],
         "xaxis": "x",
         "y": [
          0.8025,
          0.794,
          0.7575,
          0.7703,
          0.7619,
          0.7584,
          0.7447,
          0.7662,
          0.7247,
          0.7157,
          0.7195,
          0.722,
          0.7151,
          0.7055,
          0.7045,
          0.6963,
          0.6908,
          0.6802,
          0.6707,
          0.6816,
          0.6717,
          0.6539,
          0.671,
          0.661,
          0.6502,
          0.6428,
          0.6442,
          0.6364,
          0.6289,
          0.6133,
          0.6246,
          0.5798
         ],
         "yaxis": "y"
        }
       ],
       "layout": {
        "legend": {
         "tracegroupgap": 0
        },
        "template": {
         "data": {
          "bar": [
           {
            "error_x": {
             "color": "#2a3f5f"
            },
            "error_y": {
             "color": "#2a3f5f"
            },
            "marker": {
             "line": {
              "color": "#E5ECF6",
              "width": 0.5
             },
             "pattern": {
              "fillmode": "overlay",
              "size": 10,
              "solidity": 0.2
             }
            },
            "type": "bar"
           }
          ],
          "barpolar": [
           {
            "marker": {
             "line": {
              "color": "#E5ECF6",
              "width": 0.5
             },
             "pattern": {
              "fillmode": "overlay",
              "size": 10,
              "solidity": 0.2
             }
            },
            "type": "barpolar"
           }
          ],
          "carpet": [
           {
            "aaxis": {
             "endlinecolor": "#2a3f5f",
             "gridcolor": "white",
             "linecolor": "white",
             "minorgridcolor": "white",
             "startlinecolor": "#2a3f5f"
            },
            "baxis": {
             "endlinecolor": "#2a3f5f",
             "gridcolor": "white",
             "linecolor": "white",
             "minorgridcolor": "white",
             "startlinecolor": "#2a3f5f"
            },
            "type": "carpet"
           }
          ],
          "choropleth": [
           {
            "colorbar": {
             "outlinewidth": 0,
             "ticks": ""
            },
            "type": "choropleth"
           }
          ],
          "contour": [
           {
            "colorbar": {
             "outlinewidth": 0,
             "ticks": ""
            },
            "colorscale": [
             [
              0,
              "#0d0887"
             ],
             [
              0.1111111111111111,
              "#46039f"
             ],
             [
              0.2222222222222222,
              "#7201a8"
             ],
             [
              0.3333333333333333,
              "#9c179e"
             ],
             [
              0.4444444444444444,
              "#bd3786"
             ],
             [
              0.5555555555555556,
              "#d8576b"
             ],
             [
              0.6666666666666666,
              "#ed7953"
             ],
             [
              0.7777777777777778,
              "#fb9f3a"
             ],
             [
              0.8888888888888888,
              "#fdca26"
             ],
             [
              1,
              "#f0f921"
             ]
            ],
            "type": "contour"
           }
          ],
          "contourcarpet": [
           {
            "colorbar": {
             "outlinewidth": 0,
             "ticks": ""
            },
            "type": "contourcarpet"
           }
          ],
          "heatmap": [
           {
            "colorbar": {
             "outlinewidth": 0,
             "ticks": ""
            },
            "colorscale": [
             [
              0,
              "#0d0887"
             ],
             [
              0.1111111111111111,
              "#46039f"
             ],
             [
              0.2222222222222222,
              "#7201a8"
             ],
             [
              0.3333333333333333,
              "#9c179e"
             ],
             [
              0.4444444444444444,
              "#bd3786"
             ],
             [
              0.5555555555555556,
              "#d8576b"
             ],
             [
              0.6666666666666666,
              "#ed7953"
             ],
             [
              0.7777777777777778,
              "#fb9f3a"
             ],
             [
              0.8888888888888888,
              "#fdca26"
             ],
             [
              1,
              "#f0f921"
             ]
            ],
            "type": "heatmap"
           }
          ],
          "heatmapgl": [
           {
            "colorbar": {
             "outlinewidth": 0,
             "ticks": ""
            },
            "colorscale": [
             [
              0,
              "#0d0887"
             ],
             [
              0.1111111111111111,
              "#46039f"
             ],
             [
              0.2222222222222222,
              "#7201a8"
             ],
             [
              0.3333333333333333,
              "#9c179e"
             ],
             [
              0.4444444444444444,
              "#bd3786"
             ],
             [
              0.5555555555555556,
              "#d8576b"
             ],
             [
              0.6666666666666666,
              "#ed7953"
             ],
             [
              0.7777777777777778,
              "#fb9f3a"
             ],
             [
              0.8888888888888888,
              "#fdca26"
             ],
             [
              1,
              "#f0f921"
             ]
            ],
            "type": "heatmapgl"
           }
          ],
          "histogram": [
           {
            "marker": {
             "pattern": {
              "fillmode": "overlay",
              "size": 10,
              "solidity": 0.2
             }
            },
            "type": "histogram"
           }
          ],
          "histogram2d": [
           {
            "colorbar": {
             "outlinewidth": 0,
             "ticks": ""
            },
            "colorscale": [
             [
              0,
              "#0d0887"
             ],
             [
              0.1111111111111111,
              "#46039f"
             ],
             [
              0.2222222222222222,
              "#7201a8"
             ],
             [
              0.3333333333333333,
              "#9c179e"
             ],
             [
              0.4444444444444444,
              "#bd3786"
             ],
             [
              0.5555555555555556,
              "#d8576b"
             ],
             [
              0.6666666666666666,
              "#ed7953"
             ],
             [
              0.7777777777777778,
              "#fb9f3a"
             ],
             [
              0.8888888888888888,
              "#fdca26"
             ],
             [
              1,
              "#f0f921"
             ]
            ],
            "type": "histogram2d"
           }
          ],
          "histogram2dcontour": [
           {
            "colorbar": {
             "outlinewidth": 0,
             "ticks": ""
            },
            "colorscale": [
             [
              0,
              "#0d0887"
             ],
             [
              0.1111111111111111,
              "#46039f"
             ],
             [
              0.2222222222222222,
              "#7201a8"
             ],
             [
              0.3333333333333333,
              "#9c179e"
             ],
             [
              0.4444444444444444,
              "#bd3786"
             ],
             [
              0.5555555555555556,
              "#d8576b"
             ],
             [
              0.6666666666666666,
              "#ed7953"
             ],
             [
              0.7777777777777778,
              "#fb9f3a"
             ],
             [
              0.8888888888888888,
              "#fdca26"
             ],
             [
              1,
              "#f0f921"
             ]
            ],
            "type": "histogram2dcontour"
           }
          ],
          "mesh3d": [
           {
            "colorbar": {
             "outlinewidth": 0,
             "ticks": ""
            },
            "type": "mesh3d"
           }
          ],
          "parcoords": [
           {
            "line": {
             "colorbar": {
              "outlinewidth": 0,
              "ticks": ""
             }
            },
            "type": "parcoords"
           }
          ],
          "pie": [
           {
            "automargin": true,
            "type": "pie"
           }
          ],
          "scatter": [
           {
            "fillpattern": {
             "fillmode": "overlay",
             "size": 10,
             "solidity": 0.2
            },
            "type": "scatter"
           }
          ],
          "scatter3d": [
           {
            "line": {
             "colorbar": {
              "outlinewidth": 0,
              "ticks": ""
             }
            },
            "marker": {
             "colorbar": {
              "outlinewidth": 0,
              "ticks": ""
             }
            },
            "type": "scatter3d"
           }
          ],
          "scattercarpet": [
           {
            "marker": {
             "colorbar": {
              "outlinewidth": 0,
              "ticks": ""
             }
            },
            "type": "scattercarpet"
           }
          ],
          "scattergeo": [
           {
            "marker": {
             "colorbar": {
              "outlinewidth": 0,
              "ticks": ""
             }
            },
            "type": "scattergeo"
           }
          ],
          "scattergl": [
           {
            "marker": {
             "colorbar": {
              "outlinewidth": 0,
              "ticks": ""
             }
            },
            "type": "scattergl"
           }
          ],
          "scattermapbox": [
           {
            "marker": {
             "colorbar": {
              "outlinewidth": 0,
              "ticks": ""
             }
            },
            "type": "scattermapbox"
           }
          ],
          "scatterpolar": [
           {
            "marker": {
             "colorbar": {
              "outlinewidth": 0,
              "ticks": ""
             }
            },
            "type": "scatterpolar"
           }
          ],
          "scatterpolargl": [
           {
            "marker": {
             "colorbar": {
              "outlinewidth": 0,
              "ticks": ""
             }
            },
            "type": "scatterpolargl"
           }
          ],
          "scatterternary": [
           {
            "marker": {
             "colorbar": {
              "outlinewidth": 0,
              "ticks": ""
             }
            },
            "type": "scatterternary"
           }
          ],
          "surface": [
           {
            "colorbar": {
             "outlinewidth": 0,
             "ticks": ""
            },
            "colorscale": [
             [
              0,
              "#0d0887"
             ],
             [
              0.1111111111111111,
              "#46039f"
             ],
             [
              0.2222222222222222,
              "#7201a8"
             ],
             [
              0.3333333333333333,
              "#9c179e"
             ],
             [
              0.4444444444444444,
              "#bd3786"
             ],
             [
              0.5555555555555556,
              "#d8576b"
             ],
             [
              0.6666666666666666,
              "#ed7953"
             ],
             [
              0.7777777777777778,
              "#fb9f3a"
             ],
             [
              0.8888888888888888,
              "#fdca26"
             ],
             [
              1,
              "#f0f921"
             ]
            ],
            "type": "surface"
           }
          ],
          "table": [
           {
            "cells": {
             "fill": {
              "color": "#EBF0F8"
             },
             "line": {
              "color": "white"
             }
            },
            "header": {
             "fill": {
              "color": "#C8D4E3"
             },
             "line": {
              "color": "white"
             }
            },
            "type": "table"
           }
          ]
         },
         "layout": {
          "annotationdefaults": {
           "arrowcolor": "#2a3f5f",
           "arrowhead": 0,
           "arrowwidth": 1
          },
          "autotypenumbers": "strict",
          "coloraxis": {
           "colorbar": {
            "outlinewidth": 0,
            "ticks": ""
           }
          },
          "colorscale": {
           "diverging": [
            [
             0,
             "#8e0152"
            ],
            [
             0.1,
             "#c51b7d"
            ],
            [
             0.2,
             "#de77ae"
            ],
            [
             0.3,
             "#f1b6da"
            ],
            [
             0.4,
             "#fde0ef"
            ],
            [
             0.5,
             "#f7f7f7"
            ],
            [
             0.6,
             "#e6f5d0"
            ],
            [
             0.7,
             "#b8e186"
            ],
            [
             0.8,
             "#7fbc41"
            ],
            [
             0.9,
             "#4d9221"
            ],
            [
             1,
             "#276419"
            ]
           ],
           "sequential": [
            [
             0,
             "#0d0887"
            ],
            [
             0.1111111111111111,
             "#46039f"
            ],
            [
             0.2222222222222222,
             "#7201a8"
            ],
            [
             0.3333333333333333,
             "#9c179e"
            ],
            [
             0.4444444444444444,
             "#bd3786"
            ],
            [
             0.5555555555555556,
             "#d8576b"
            ],
            [
             0.6666666666666666,
             "#ed7953"
            ],
            [
             0.7777777777777778,
             "#fb9f3a"
            ],
            [
             0.8888888888888888,
             "#fdca26"
            ],
            [
             1,
             "#f0f921"
            ]
           ],
           "sequentialminus": [
            [
             0,
             "#0d0887"
            ],
            [
             0.1111111111111111,
             "#46039f"
            ],
            [
             0.2222222222222222,
             "#7201a8"
            ],
            [
             0.3333333333333333,
             "#9c179e"
            ],
            [
             0.4444444444444444,
             "#bd3786"
            ],
            [
             0.5555555555555556,
             "#d8576b"
            ],
            [
             0.6666666666666666,
             "#ed7953"
            ],
            [
             0.7777777777777778,
             "#fb9f3a"
            ],
            [
             0.8888888888888888,
             "#fdca26"
            ],
            [
             1,
             "#f0f921"
            ]
           ]
          },
          "colorway": [
           "#636efa",
           "#EF553B",
           "#00cc96",
           "#ab63fa",
           "#FFA15A",
           "#19d3f3",
           "#FF6692",
           "#B6E880",
           "#FF97FF",
           "#FECB52"
          ],
          "font": {
           "color": "#2a3f5f"
          },
          "geo": {
           "bgcolor": "white",
           "lakecolor": "white",
           "landcolor": "#E5ECF6",
           "showlakes": true,
           "showland": true,
           "subunitcolor": "white"
          },
          "hoverlabel": {
           "align": "left"
          },
          "hovermode": "closest",
          "mapbox": {
           "style": "light"
          },
          "paper_bgcolor": "white",
          "plot_bgcolor": "#E5ECF6",
          "polar": {
           "angularaxis": {
            "gridcolor": "white",
            "linecolor": "white",
            "ticks": ""
           },
           "bgcolor": "#E5ECF6",
           "radialaxis": {
            "gridcolor": "white",
            "linecolor": "white",
            "ticks": ""
           }
          },
          "scene": {
           "xaxis": {
            "backgroundcolor": "#E5ECF6",
            "gridcolor": "white",
            "gridwidth": 2,
            "linecolor": "white",
            "showbackground": true,
            "ticks": "",
            "zerolinecolor": "white"
           },
           "yaxis": {
            "backgroundcolor": "#E5ECF6",
            "gridcolor": "white",
            "gridwidth": 2,
            "linecolor": "white",
            "showbackground": true,
            "ticks": "",
            "zerolinecolor": "white"
           },
           "zaxis": {
            "backgroundcolor": "#E5ECF6",
            "gridcolor": "white",
            "gridwidth": 2,
            "linecolor": "white",
            "showbackground": true,
            "ticks": "",
            "zerolinecolor": "white"
           }
          },
          "shapedefaults": {
           "line": {
            "color": "#2a3f5f"
           }
          },
          "ternary": {
           "aaxis": {
            "gridcolor": "white",
            "linecolor": "white",
            "ticks": ""
           },
           "baxis": {
            "gridcolor": "white",
            "linecolor": "white",
            "ticks": ""
           },
           "bgcolor": "#E5ECF6",
           "caxis": {
            "gridcolor": "white",
            "linecolor": "white",
            "ticks": ""
           }
          },
          "title": {
           "x": 0.05
          },
          "xaxis": {
           "automargin": true,
           "gridcolor": "white",
           "linecolor": "white",
           "ticks": "",
           "title": {
            "standoff": 15
           },
           "zerolinecolor": "white",
           "zerolinewidth": 2
          },
          "yaxis": {
           "automargin": true,
           "gridcolor": "white",
           "linecolor": "white",
           "ticks": "",
           "title": {
            "standoff": 15
           },
           "zerolinecolor": "white",
           "zerolinewidth": 2
          }
         }
        },
        "title": {
         "text": "Grafico de puntos del promedio me lecturas 2022-20223"
        },
        "xaxis": {
         "anchor": "y",
         "domain": [
          0,
          1
         ],
         "title": {
          "text": "PROMEDIO DE LECTURA CRITICA 2022"
         }
        },
        "yaxis": {
         "anchor": "x",
         "domain": [
          0,
          1
         ],
         "title": {
          "text": "PROMEDIO DE LECTURA CRITICA 2023"
         }
        }
       }
      }
     },
     "metadata": {},
     "output_type": "display_data"
    }
   ],
   "source": [
    "import plotly.express as px\n",
    "\n",
    "\n",
    "fig = px.scatter(\n",
    "    df, \n",
    "    title='Grafico de puntos del promedio me lecturas 2022-20223',\n",
    "    x='PROMEDIO DE LECTURA CRITICA 2022', \n",
    "    y='PROMEDIO DE LECTURA CRITICA 2023',\n",
    "    \n",
    "    hover_data=['INSTITUCION']  \n",
    ")\n",
    "\n",
    "# Mostrar el gráfico\n",
    "fig.show()\n"
   ]
  },
  {
   "cell_type": "code",
   "execution_count": 60,
   "metadata": {},
   "outputs": [
    {
     "data": {
      "application/vnd.plotly.v1+json": {
       "config": {
        "plotlyServerURL": "https://plot.ly"
       },
       "data": [
        {
         "customdata": [
          [
           "IE VILLA ESTADIO"
          ],
          [
           "IE NUESTRA SEÑORA DE FATIMA"
          ],
          [
           "IE TECNICO INDUSTRIAL BLAS TORRES DE LA TORRE"
          ],
          [
           "IE POLITECNICO DE SOLEDAD"
          ],
          [
           "IE JESUS MAESTRO F.M.S.D."
          ],
          [
           "IE COMERCIAL NTRA SRA DE LAS MISERICORDIAS"
          ],
          [
           "IE SAGRADO CORAZON"
          ],
          [
           "IE VISTA HERMOSA DE SOLEDAD"
          ],
          [
           "IE TECNICA MANUELA BELTRAN"
          ],
          [
           "IE TAJAMAR"
          ],
          [
           "IE DOLORES MARIA UCROS"
          ],
          [
           "IE LUIS R. CAPARROSO"
          ],
          [
           "IE FRANCISCO JOSE DE CALDAS"
          ],
          [
           "IE NOROCCIDENTAL DE SOLEDAD"
          ],
          [
           "IE TECNICA MICROEMPRESARIAL DE SOLEDAD"
          ],
          [
           "IE INEM MIGUEL ANTONIO CARO"
          ],
          [
           "IE TECNICA INDUSTRIAL Y COMERCIAL DE SOLEDAD"
          ],
          [
           "IE NUESTRA SEÑORA DEL CARMEN"
          ],
          [
           "IE GABRIEL ESCORCIA GRAVINI DE SOLEDAD"
          ],
          [
           "IE TECNICA INDUSTRIAL JOSE CASTILLO BOLIVAR"
          ],
          [
           "IE TECNICA INDUSTRIAL DE SOLEDAD MARIA AUXILIADORA"
          ],
          [
           "IE TECNICA FRANCISCO DE PAULA SANTANDER"
          ],
          [
           "IE JOHN F KENNEDY DE SOLEDAD"
          ],
          [
           "IE TECNICA INDUSTRIAL SAN ANTONIO DE PADUA"
          ],
          [
           "IE NOBEL JUAN MANUEL SANTOS"
          ],
          [
           "IE VILLA MARIA"
          ],
          [
           "IE POLICARPA SALAVARRIETA"
          ],
          [
           "IE PRIMERO DE MAYO"
          ],
          [
           "IE ALBERTO PUMAREJO"
          ],
          [
           "IE DE SOLEDAD - INOBASOL"
          ],
          [
           "IE ANTONIO RAMON MORENO"
          ],
          [
           "IE JOSEFA DONADO"
          ]
         ],
         "hovertemplate": "PROMEDIO DE LECTURA CRITICA 2022=%{x}<br>PROMEDIO DE LECTURA CRITICA 2023=%{y}<br>INSTITUCION=%{customdata[0]}<extra></extra>",
         "legendgroup": "",
         "marker": {
          "color": "#636efa",
          "symbol": "circle"
         },
         "mode": "markers",
         "name": "",
         "orientation": "v",
         "showlegend": false,
         "type": "scatter",
         "x": [
          0.7944,
          0.7866,
          0.7517,
          0.7716,
          0.7535,
          0.7548,
          0.731,
          0.7554,
          0.6975,
          0.7149,
          0.7088,
          0.7033,
          0.7062,
          0.6927,
          0.7058,
          0.6887,
          0.6956,
          0.6657,
          0.6628,
          0.6637,
          0.6579,
          0.6488,
          0.6637,
          0.6619,
          0.6557,
          0.6228,
          0.6253,
          0.6274,
          0.6358,
          0.6212,
          0.6067,
          0.5834
         ],
         "xaxis": "x",
         "y": [
          0.8025,
          0.794,
          0.7575,
          0.7703,
          0.7619,
          0.7584,
          0.7447,
          0.7662,
          0.7247,
          0.7157,
          0.7195,
          0.722,
          0.7151,
          0.7055,
          0.7045,
          0.6963,
          0.6908,
          0.6802,
          0.6707,
          0.6816,
          0.6717,
          0.6539,
          0.671,
          0.661,
          0.6502,
          0.6428,
          0.6442,
          0.6364,
          0.6289,
          0.6133,
          0.6246,
          0.5798
         ],
         "yaxis": "y"
        },
        {
         "hovertemplate": "<b>OLS trendline</b><br>PROMEDIO DE LECTURA CRITICA 2023 = 1.00159 * PROMEDIO DE LECTURA CRITICA 2022 + 0.00654652<br>R<sup>2</sup>=0.975005<br><br>PROMEDIO DE LECTURA CRITICA 2022=%{x}<br>PROMEDIO DE LECTURA CRITICA 2023=%{y} <b>(trend)</b><extra></extra>",
         "legendgroup": "",
         "marker": {
          "color": "#636efa",
          "symbol": "circle"
         },
         "mode": "lines",
         "name": "",
         "showlegend": false,
         "type": "scatter",
         "x": [
          0.5834,
          0.6067,
          0.6212,
          0.6228,
          0.6253,
          0.6274,
          0.6358,
          0.6488,
          0.6557,
          0.6579,
          0.6619,
          0.6628,
          0.6637,
          0.6637,
          0.6657,
          0.6887,
          0.6927,
          0.6956,
          0.6975,
          0.7033,
          0.7058,
          0.7062,
          0.7088,
          0.7149,
          0.731,
          0.7517,
          0.7535,
          0.7548,
          0.7554,
          0.7716,
          0.7866,
          0.7944
         ],
         "xaxis": "x",
         "y": [
          0.5908769617118125,
          0.6142141221324527,
          0.628737247716113,
          0.6303397995046548,
          0.6328437866742513,
          0.6349471358967125,
          0.6433605327865571,
          0.6563812660684595,
          0.663292270656546,
          0.6654957793657911,
          0.6695021588371456,
          0.6704035942182003,
          0.6713050295992551,
          0.6713050295992551,
          0.6733082193349323,
          0.6963449012952211,
          0.7003512807665756,
          0.7032559058833077,
          0.7051589361322012,
          0.7109681863656653,
          0.7134721735352618,
          0.7138728114823973,
          0.7164769581387777,
          0.7225866868325934,
          0.7387123642047955,
          0.7594453779690553,
          0.7612482487311648,
          0.7625503220593551,
          0.7631512789800583,
          0.7793771158390442,
          0.7944010388566238,
          0.8022134788257652
         ],
         "yaxis": "y"
        }
       ],
       "layout": {
        "legend": {
         "tracegroupgap": 0
        },
        "template": {
         "data": {
          "bar": [
           {
            "error_x": {
             "color": "#2a3f5f"
            },
            "error_y": {
             "color": "#2a3f5f"
            },
            "marker": {
             "line": {
              "color": "#E5ECF6",
              "width": 0.5
             },
             "pattern": {
              "fillmode": "overlay",
              "size": 10,
              "solidity": 0.2
             }
            },
            "type": "bar"
           }
          ],
          "barpolar": [
           {
            "marker": {
             "line": {
              "color": "#E5ECF6",
              "width": 0.5
             },
             "pattern": {
              "fillmode": "overlay",
              "size": 10,
              "solidity": 0.2
             }
            },
            "type": "barpolar"
           }
          ],
          "carpet": [
           {
            "aaxis": {
             "endlinecolor": "#2a3f5f",
             "gridcolor": "white",
             "linecolor": "white",
             "minorgridcolor": "white",
             "startlinecolor": "#2a3f5f"
            },
            "baxis": {
             "endlinecolor": "#2a3f5f",
             "gridcolor": "white",
             "linecolor": "white",
             "minorgridcolor": "white",
             "startlinecolor": "#2a3f5f"
            },
            "type": "carpet"
           }
          ],
          "choropleth": [
           {
            "colorbar": {
             "outlinewidth": 0,
             "ticks": ""
            },
            "type": "choropleth"
           }
          ],
          "contour": [
           {
            "colorbar": {
             "outlinewidth": 0,
             "ticks": ""
            },
            "colorscale": [
             [
              0,
              "#0d0887"
             ],
             [
              0.1111111111111111,
              "#46039f"
             ],
             [
              0.2222222222222222,
              "#7201a8"
             ],
             [
              0.3333333333333333,
              "#9c179e"
             ],
             [
              0.4444444444444444,
              "#bd3786"
             ],
             [
              0.5555555555555556,
              "#d8576b"
             ],
             [
              0.6666666666666666,
              "#ed7953"
             ],
             [
              0.7777777777777778,
              "#fb9f3a"
             ],
             [
              0.8888888888888888,
              "#fdca26"
             ],
             [
              1,
              "#f0f921"
             ]
            ],
            "type": "contour"
           }
          ],
          "contourcarpet": [
           {
            "colorbar": {
             "outlinewidth": 0,
             "ticks": ""
            },
            "type": "contourcarpet"
           }
          ],
          "heatmap": [
           {
            "colorbar": {
             "outlinewidth": 0,
             "ticks": ""
            },
            "colorscale": [
             [
              0,
              "#0d0887"
             ],
             [
              0.1111111111111111,
              "#46039f"
             ],
             [
              0.2222222222222222,
              "#7201a8"
             ],
             [
              0.3333333333333333,
              "#9c179e"
             ],
             [
              0.4444444444444444,
              "#bd3786"
             ],
             [
              0.5555555555555556,
              "#d8576b"
             ],
             [
              0.6666666666666666,
              "#ed7953"
             ],
             [
              0.7777777777777778,
              "#fb9f3a"
             ],
             [
              0.8888888888888888,
              "#fdca26"
             ],
             [
              1,
              "#f0f921"
             ]
            ],
            "type": "heatmap"
           }
          ],
          "heatmapgl": [
           {
            "colorbar": {
             "outlinewidth": 0,
             "ticks": ""
            },
            "colorscale": [
             [
              0,
              "#0d0887"
             ],
             [
              0.1111111111111111,
              "#46039f"
             ],
             [
              0.2222222222222222,
              "#7201a8"
             ],
             [
              0.3333333333333333,
              "#9c179e"
             ],
             [
              0.4444444444444444,
              "#bd3786"
             ],
             [
              0.5555555555555556,
              "#d8576b"
             ],
             [
              0.6666666666666666,
              "#ed7953"
             ],
             [
              0.7777777777777778,
              "#fb9f3a"
             ],
             [
              0.8888888888888888,
              "#fdca26"
             ],
             [
              1,
              "#f0f921"
             ]
            ],
            "type": "heatmapgl"
           }
          ],
          "histogram": [
           {
            "marker": {
             "pattern": {
              "fillmode": "overlay",
              "size": 10,
              "solidity": 0.2
             }
            },
            "type": "histogram"
           }
          ],
          "histogram2d": [
           {
            "colorbar": {
             "outlinewidth": 0,
             "ticks": ""
            },
            "colorscale": [
             [
              0,
              "#0d0887"
             ],
             [
              0.1111111111111111,
              "#46039f"
             ],
             [
              0.2222222222222222,
              "#7201a8"
             ],
             [
              0.3333333333333333,
              "#9c179e"
             ],
             [
              0.4444444444444444,
              "#bd3786"
             ],
             [
              0.5555555555555556,
              "#d8576b"
             ],
             [
              0.6666666666666666,
              "#ed7953"
             ],
             [
              0.7777777777777778,
              "#fb9f3a"
             ],
             [
              0.8888888888888888,
              "#fdca26"
             ],
             [
              1,
              "#f0f921"
             ]
            ],
            "type": "histogram2d"
           }
          ],
          "histogram2dcontour": [
           {
            "colorbar": {
             "outlinewidth": 0,
             "ticks": ""
            },
            "colorscale": [
             [
              0,
              "#0d0887"
             ],
             [
              0.1111111111111111,
              "#46039f"
             ],
             [
              0.2222222222222222,
              "#7201a8"
             ],
             [
              0.3333333333333333,
              "#9c179e"
             ],
             [
              0.4444444444444444,
              "#bd3786"
             ],
             [
              0.5555555555555556,
              "#d8576b"
             ],
             [
              0.6666666666666666,
              "#ed7953"
             ],
             [
              0.7777777777777778,
              "#fb9f3a"
             ],
             [
              0.8888888888888888,
              "#fdca26"
             ],
             [
              1,
              "#f0f921"
             ]
            ],
            "type": "histogram2dcontour"
           }
          ],
          "mesh3d": [
           {
            "colorbar": {
             "outlinewidth": 0,
             "ticks": ""
            },
            "type": "mesh3d"
           }
          ],
          "parcoords": [
           {
            "line": {
             "colorbar": {
              "outlinewidth": 0,
              "ticks": ""
             }
            },
            "type": "parcoords"
           }
          ],
          "pie": [
           {
            "automargin": true,
            "type": "pie"
           }
          ],
          "scatter": [
           {
            "fillpattern": {
             "fillmode": "overlay",
             "size": 10,
             "solidity": 0.2
            },
            "type": "scatter"
           }
          ],
          "scatter3d": [
           {
            "line": {
             "colorbar": {
              "outlinewidth": 0,
              "ticks": ""
             }
            },
            "marker": {
             "colorbar": {
              "outlinewidth": 0,
              "ticks": ""
             }
            },
            "type": "scatter3d"
           }
          ],
          "scattercarpet": [
           {
            "marker": {
             "colorbar": {
              "outlinewidth": 0,
              "ticks": ""
             }
            },
            "type": "scattercarpet"
           }
          ],
          "scattergeo": [
           {
            "marker": {
             "colorbar": {
              "outlinewidth": 0,
              "ticks": ""
             }
            },
            "type": "scattergeo"
           }
          ],
          "scattergl": [
           {
            "marker": {
             "colorbar": {
              "outlinewidth": 0,
              "ticks": ""
             }
            },
            "type": "scattergl"
           }
          ],
          "scattermapbox": [
           {
            "marker": {
             "colorbar": {
              "outlinewidth": 0,
              "ticks": ""
             }
            },
            "type": "scattermapbox"
           }
          ],
          "scatterpolar": [
           {
            "marker": {
             "colorbar": {
              "outlinewidth": 0,
              "ticks": ""
             }
            },
            "type": "scatterpolar"
           }
          ],
          "scatterpolargl": [
           {
            "marker": {
             "colorbar": {
              "outlinewidth": 0,
              "ticks": ""
             }
            },
            "type": "scatterpolargl"
           }
          ],
          "scatterternary": [
           {
            "marker": {
             "colorbar": {
              "outlinewidth": 0,
              "ticks": ""
             }
            },
            "type": "scatterternary"
           }
          ],
          "surface": [
           {
            "colorbar": {
             "outlinewidth": 0,
             "ticks": ""
            },
            "colorscale": [
             [
              0,
              "#0d0887"
             ],
             [
              0.1111111111111111,
              "#46039f"
             ],
             [
              0.2222222222222222,
              "#7201a8"
             ],
             [
              0.3333333333333333,
              "#9c179e"
             ],
             [
              0.4444444444444444,
              "#bd3786"
             ],
             [
              0.5555555555555556,
              "#d8576b"
             ],
             [
              0.6666666666666666,
              "#ed7953"
             ],
             [
              0.7777777777777778,
              "#fb9f3a"
             ],
             [
              0.8888888888888888,
              "#fdca26"
             ],
             [
              1,
              "#f0f921"
             ]
            ],
            "type": "surface"
           }
          ],
          "table": [
           {
            "cells": {
             "fill": {
              "color": "#EBF0F8"
             },
             "line": {
              "color": "white"
             }
            },
            "header": {
             "fill": {
              "color": "#C8D4E3"
             },
             "line": {
              "color": "white"
             }
            },
            "type": "table"
           }
          ]
         },
         "layout": {
          "annotationdefaults": {
           "arrowcolor": "#2a3f5f",
           "arrowhead": 0,
           "arrowwidth": 1
          },
          "autotypenumbers": "strict",
          "coloraxis": {
           "colorbar": {
            "outlinewidth": 0,
            "ticks": ""
           }
          },
          "colorscale": {
           "diverging": [
            [
             0,
             "#8e0152"
            ],
            [
             0.1,
             "#c51b7d"
            ],
            [
             0.2,
             "#de77ae"
            ],
            [
             0.3,
             "#f1b6da"
            ],
            [
             0.4,
             "#fde0ef"
            ],
            [
             0.5,
             "#f7f7f7"
            ],
            [
             0.6,
             "#e6f5d0"
            ],
            [
             0.7,
             "#b8e186"
            ],
            [
             0.8,
             "#7fbc41"
            ],
            [
             0.9,
             "#4d9221"
            ],
            [
             1,
             "#276419"
            ]
           ],
           "sequential": [
            [
             0,
             "#0d0887"
            ],
            [
             0.1111111111111111,
             "#46039f"
            ],
            [
             0.2222222222222222,
             "#7201a8"
            ],
            [
             0.3333333333333333,
             "#9c179e"
            ],
            [
             0.4444444444444444,
             "#bd3786"
            ],
            [
             0.5555555555555556,
             "#d8576b"
            ],
            [
             0.6666666666666666,
             "#ed7953"
            ],
            [
             0.7777777777777778,
             "#fb9f3a"
            ],
            [
             0.8888888888888888,
             "#fdca26"
            ],
            [
             1,
             "#f0f921"
            ]
           ],
           "sequentialminus": [
            [
             0,
             "#0d0887"
            ],
            [
             0.1111111111111111,
             "#46039f"
            ],
            [
             0.2222222222222222,
             "#7201a8"
            ],
            [
             0.3333333333333333,
             "#9c179e"
            ],
            [
             0.4444444444444444,
             "#bd3786"
            ],
            [
             0.5555555555555556,
             "#d8576b"
            ],
            [
             0.6666666666666666,
             "#ed7953"
            ],
            [
             0.7777777777777778,
             "#fb9f3a"
            ],
            [
             0.8888888888888888,
             "#fdca26"
            ],
            [
             1,
             "#f0f921"
            ]
           ]
          },
          "colorway": [
           "#636efa",
           "#EF553B",
           "#00cc96",
           "#ab63fa",
           "#FFA15A",
           "#19d3f3",
           "#FF6692",
           "#B6E880",
           "#FF97FF",
           "#FECB52"
          ],
          "font": {
           "color": "#2a3f5f"
          },
          "geo": {
           "bgcolor": "white",
           "lakecolor": "white",
           "landcolor": "#E5ECF6",
           "showlakes": true,
           "showland": true,
           "subunitcolor": "white"
          },
          "hoverlabel": {
           "align": "left"
          },
          "hovermode": "closest",
          "mapbox": {
           "style": "light"
          },
          "paper_bgcolor": "white",
          "plot_bgcolor": "#E5ECF6",
          "polar": {
           "angularaxis": {
            "gridcolor": "white",
            "linecolor": "white",
            "ticks": ""
           },
           "bgcolor": "#E5ECF6",
           "radialaxis": {
            "gridcolor": "white",
            "linecolor": "white",
            "ticks": ""
           }
          },
          "scene": {
           "xaxis": {
            "backgroundcolor": "#E5ECF6",
            "gridcolor": "white",
            "gridwidth": 2,
            "linecolor": "white",
            "showbackground": true,
            "ticks": "",
            "zerolinecolor": "white"
           },
           "yaxis": {
            "backgroundcolor": "#E5ECF6",
            "gridcolor": "white",
            "gridwidth": 2,
            "linecolor": "white",
            "showbackground": true,
            "ticks": "",
            "zerolinecolor": "white"
           },
           "zaxis": {
            "backgroundcolor": "#E5ECF6",
            "gridcolor": "white",
            "gridwidth": 2,
            "linecolor": "white",
            "showbackground": true,
            "ticks": "",
            "zerolinecolor": "white"
           }
          },
          "shapedefaults": {
           "line": {
            "color": "#2a3f5f"
           }
          },
          "ternary": {
           "aaxis": {
            "gridcolor": "white",
            "linecolor": "white",
            "ticks": ""
           },
           "baxis": {
            "gridcolor": "white",
            "linecolor": "white",
            "ticks": ""
           },
           "bgcolor": "#E5ECF6",
           "caxis": {
            "gridcolor": "white",
            "linecolor": "white",
            "ticks": ""
           }
          },
          "title": {
           "x": 0.05
          },
          "xaxis": {
           "automargin": true,
           "gridcolor": "white",
           "linecolor": "white",
           "ticks": "",
           "title": {
            "standoff": 15
           },
           "zerolinecolor": "white",
           "zerolinewidth": 2
          },
          "yaxis": {
           "automargin": true,
           "gridcolor": "white",
           "linecolor": "white",
           "ticks": "",
           "title": {
            "standoff": 15
           },
           "zerolinecolor": "white",
           "zerolinewidth": 2
          }
         }
        },
        "title": {
         "text": "Gráfico de puntos del promedio de lecturas 2022-2023"
        },
        "xaxis": {
         "anchor": "y",
         "domain": [
          0,
          1
         ],
         "title": {
          "text": "PROMEDIO DE LECTURA CRITICA 2022"
         }
        },
        "yaxis": {
         "anchor": "x",
         "domain": [
          0,
          1
         ],
         "title": {
          "text": "PROMEDIO DE LECTURA CRITICA 2023"
         }
        }
       }
      }
     },
     "metadata": {},
     "output_type": "display_data"
    }
   ],
   "source": [
    "import plotly.express as px\n",
    "\n",
    "\n",
    "fig = px.scatter(\n",
    "    df, \n",
    "    title='Gráfico de puntos del promedio de lecturas 2022-2023',\n",
    "    x='PROMEDIO DE LECTURA CRITICA 2022', \n",
    "    y='PROMEDIO DE LECTURA CRITICA 2023',\n",
    "    hover_data=['INSTITUCION'],\n",
    "    trendline='ols',  # Añade una línea de regresión lineal ordinaria\n",
    ")\n",
    "\n",
    "# Mostrar el gráfico\n",
    "fig.show()\n"
   ]
  },
  {
   "cell_type": "code",
   "execution_count": 77,
   "metadata": {},
   "outputs": [
    {
     "data": {
      "application/vnd.plotly.v1+json": {
       "config": {
        "plotlyServerURL": "https://plot.ly"
       },
       "data": [
        {
         "alignmentgroup": "True",
         "hovertemplate": "Año=PROMEDIO DE LECTURA CRITICA 2022<br>INSTITUCION=%{x}<br>Promedio de Lectura Crítica=%{y}<extra></extra>",
         "legendgroup": "PROMEDIO DE LECTURA CRITICA 2022",
         "marker": {
          "color": "#636efa",
          "pattern": {
           "shape": ""
          }
         },
         "name": "PROMEDIO DE LECTURA CRITICA 2022",
         "offsetgroup": "PROMEDIO DE LECTURA CRITICA 2022",
         "orientation": "v",
         "showlegend": true,
         "textposition": "auto",
         "type": "bar",
         "x": [
          "IE POLITECNICO DE SOLEDAD",
          "IE TECNICA MICROEMPRESARIAL DE SOLEDAD",
          "IE TECNICA INDUSTRIAL Y COMERCIAL DE SOLEDAD",
          "IE TECNICA INDUSTRIAL SAN ANTONIO DE PADUA",
          "IE NOBEL JUAN MANUEL SANTOS",
          "IE ALBERTO PUMAREJO",
          "IE DE SOLEDAD - INOBASOL",
          "IE JOSEFA DONADO"
         ],
         "xaxis": "x",
         "y": [
          0.7716,
          0.7058,
          0.6956,
          0.6619,
          0.6557,
          0.6358,
          0.6212,
          0.5834
         ],
         "yaxis": "y"
        },
        {
         "alignmentgroup": "True",
         "hovertemplate": "Año=PROMEDIO DE LECTURA CRITICA 2023<br>INSTITUCION=%{x}<br>Promedio de Lectura Crítica=%{y}<extra></extra>",
         "legendgroup": "PROMEDIO DE LECTURA CRITICA 2023",
         "marker": {
          "color": "#EF553B",
          "pattern": {
           "shape": ""
          }
         },
         "name": "PROMEDIO DE LECTURA CRITICA 2023",
         "offsetgroup": "PROMEDIO DE LECTURA CRITICA 2023",
         "orientation": "v",
         "showlegend": true,
         "textposition": "auto",
         "type": "bar",
         "x": [
          "IE POLITECNICO DE SOLEDAD",
          "IE TECNICA MICROEMPRESARIAL DE SOLEDAD",
          "IE TECNICA INDUSTRIAL Y COMERCIAL DE SOLEDAD",
          "IE TECNICA INDUSTRIAL SAN ANTONIO DE PADUA",
          "IE NOBEL JUAN MANUEL SANTOS",
          "IE ALBERTO PUMAREJO",
          "IE DE SOLEDAD - INOBASOL",
          "IE JOSEFA DONADO"
         ],
         "xaxis": "x",
         "y": [
          0.7703,
          0.7045,
          0.6908,
          0.661,
          0.6502,
          0.6289,
          0.6133,
          0.5798
         ],
         "yaxis": "y"
        },
        {
         "line": {
          "color": "red",
          "dash": "dash",
          "width": 2
         },
         "mode": "lines",
         "name": "Promedio General",
         "type": "scatter",
         "x": [
          "IE POLITECNICO DE SOLEDAD",
          "IE TECNICA MICROEMPRESARIAL DE SOLEDAD",
          "IE TECNICA INDUSTRIAL Y COMERCIAL DE SOLEDAD",
          "IE TECNICA INDUSTRIAL SAN ANTONIO DE PADUA",
          "IE NOBEL JUAN MANUEL SANTOS",
          "IE ALBERTO PUMAREJO",
          "IE DE SOLEDAD - INOBASOL",
          "IE JOSEFA DONADO"
         ],
         "y": [
          0.6643625,
          0.6643625,
          0.6643625,
          0.6643625,
          0.6643625,
          0.6643625,
          0.6643625,
          0.6643625
         ]
        }
       ],
       "layout": {
        "barmode": "group",
        "height": 800,
        "legend": {
         "title": {
          "text": "Año"
         },
         "tracegroupgap": 0
        },
        "margin": {
         "t": 60
        },
        "template": {
         "data": {
          "bar": [
           {
            "error_x": {
             "color": "#2a3f5f"
            },
            "error_y": {
             "color": "#2a3f5f"
            },
            "marker": {
             "line": {
              "color": "#E5ECF6",
              "width": 0.5
             },
             "pattern": {
              "fillmode": "overlay",
              "size": 10,
              "solidity": 0.2
             }
            },
            "type": "bar"
           }
          ],
          "barpolar": [
           {
            "marker": {
             "line": {
              "color": "#E5ECF6",
              "width": 0.5
             },
             "pattern": {
              "fillmode": "overlay",
              "size": 10,
              "solidity": 0.2
             }
            },
            "type": "barpolar"
           }
          ],
          "carpet": [
           {
            "aaxis": {
             "endlinecolor": "#2a3f5f",
             "gridcolor": "white",
             "linecolor": "white",
             "minorgridcolor": "white",
             "startlinecolor": "#2a3f5f"
            },
            "baxis": {
             "endlinecolor": "#2a3f5f",
             "gridcolor": "white",
             "linecolor": "white",
             "minorgridcolor": "white",
             "startlinecolor": "#2a3f5f"
            },
            "type": "carpet"
           }
          ],
          "choropleth": [
           {
            "colorbar": {
             "outlinewidth": 0,
             "ticks": ""
            },
            "type": "choropleth"
           }
          ],
          "contour": [
           {
            "colorbar": {
             "outlinewidth": 0,
             "ticks": ""
            },
            "colorscale": [
             [
              0,
              "#0d0887"
             ],
             [
              0.1111111111111111,
              "#46039f"
             ],
             [
              0.2222222222222222,
              "#7201a8"
             ],
             [
              0.3333333333333333,
              "#9c179e"
             ],
             [
              0.4444444444444444,
              "#bd3786"
             ],
             [
              0.5555555555555556,
              "#d8576b"
             ],
             [
              0.6666666666666666,
              "#ed7953"
             ],
             [
              0.7777777777777778,
              "#fb9f3a"
             ],
             [
              0.8888888888888888,
              "#fdca26"
             ],
             [
              1,
              "#f0f921"
             ]
            ],
            "type": "contour"
           }
          ],
          "contourcarpet": [
           {
            "colorbar": {
             "outlinewidth": 0,
             "ticks": ""
            },
            "type": "contourcarpet"
           }
          ],
          "heatmap": [
           {
            "colorbar": {
             "outlinewidth": 0,
             "ticks": ""
            },
            "colorscale": [
             [
              0,
              "#0d0887"
             ],
             [
              0.1111111111111111,
              "#46039f"
             ],
             [
              0.2222222222222222,
              "#7201a8"
             ],
             [
              0.3333333333333333,
              "#9c179e"
             ],
             [
              0.4444444444444444,
              "#bd3786"
             ],
             [
              0.5555555555555556,
              "#d8576b"
             ],
             [
              0.6666666666666666,
              "#ed7953"
             ],
             [
              0.7777777777777778,
              "#fb9f3a"
             ],
             [
              0.8888888888888888,
              "#fdca26"
             ],
             [
              1,
              "#f0f921"
             ]
            ],
            "type": "heatmap"
           }
          ],
          "heatmapgl": [
           {
            "colorbar": {
             "outlinewidth": 0,
             "ticks": ""
            },
            "colorscale": [
             [
              0,
              "#0d0887"
             ],
             [
              0.1111111111111111,
              "#46039f"
             ],
             [
              0.2222222222222222,
              "#7201a8"
             ],
             [
              0.3333333333333333,
              "#9c179e"
             ],
             [
              0.4444444444444444,
              "#bd3786"
             ],
             [
              0.5555555555555556,
              "#d8576b"
             ],
             [
              0.6666666666666666,
              "#ed7953"
             ],
             [
              0.7777777777777778,
              "#fb9f3a"
             ],
             [
              0.8888888888888888,
              "#fdca26"
             ],
             [
              1,
              "#f0f921"
             ]
            ],
            "type": "heatmapgl"
           }
          ],
          "histogram": [
           {
            "marker": {
             "pattern": {
              "fillmode": "overlay",
              "size": 10,
              "solidity": 0.2
             }
            },
            "type": "histogram"
           }
          ],
          "histogram2d": [
           {
            "colorbar": {
             "outlinewidth": 0,
             "ticks": ""
            },
            "colorscale": [
             [
              0,
              "#0d0887"
             ],
             [
              0.1111111111111111,
              "#46039f"
             ],
             [
              0.2222222222222222,
              "#7201a8"
             ],
             [
              0.3333333333333333,
              "#9c179e"
             ],
             [
              0.4444444444444444,
              "#bd3786"
             ],
             [
              0.5555555555555556,
              "#d8576b"
             ],
             [
              0.6666666666666666,
              "#ed7953"
             ],
             [
              0.7777777777777778,
              "#fb9f3a"
             ],
             [
              0.8888888888888888,
              "#fdca26"
             ],
             [
              1,
              "#f0f921"
             ]
            ],
            "type": "histogram2d"
           }
          ],
          "histogram2dcontour": [
           {
            "colorbar": {
             "outlinewidth": 0,
             "ticks": ""
            },
            "colorscale": [
             [
              0,
              "#0d0887"
             ],
             [
              0.1111111111111111,
              "#46039f"
             ],
             [
              0.2222222222222222,
              "#7201a8"
             ],
             [
              0.3333333333333333,
              "#9c179e"
             ],
             [
              0.4444444444444444,
              "#bd3786"
             ],
             [
              0.5555555555555556,
              "#d8576b"
             ],
             [
              0.6666666666666666,
              "#ed7953"
             ],
             [
              0.7777777777777778,
              "#fb9f3a"
             ],
             [
              0.8888888888888888,
              "#fdca26"
             ],
             [
              1,
              "#f0f921"
             ]
            ],
            "type": "histogram2dcontour"
           }
          ],
          "mesh3d": [
           {
            "colorbar": {
             "outlinewidth": 0,
             "ticks": ""
            },
            "type": "mesh3d"
           }
          ],
          "parcoords": [
           {
            "line": {
             "colorbar": {
              "outlinewidth": 0,
              "ticks": ""
             }
            },
            "type": "parcoords"
           }
          ],
          "pie": [
           {
            "automargin": true,
            "type": "pie"
           }
          ],
          "scatter": [
           {
            "fillpattern": {
             "fillmode": "overlay",
             "size": 10,
             "solidity": 0.2
            },
            "type": "scatter"
           }
          ],
          "scatter3d": [
           {
            "line": {
             "colorbar": {
              "outlinewidth": 0,
              "ticks": ""
             }
            },
            "marker": {
             "colorbar": {
              "outlinewidth": 0,
              "ticks": ""
             }
            },
            "type": "scatter3d"
           }
          ],
          "scattercarpet": [
           {
            "marker": {
             "colorbar": {
              "outlinewidth": 0,
              "ticks": ""
             }
            },
            "type": "scattercarpet"
           }
          ],
          "scattergeo": [
           {
            "marker": {
             "colorbar": {
              "outlinewidth": 0,
              "ticks": ""
             }
            },
            "type": "scattergeo"
           }
          ],
          "scattergl": [
           {
            "marker": {
             "colorbar": {
              "outlinewidth": 0,
              "ticks": ""
             }
            },
            "type": "scattergl"
           }
          ],
          "scattermapbox": [
           {
            "marker": {
             "colorbar": {
              "outlinewidth": 0,
              "ticks": ""
             }
            },
            "type": "scattermapbox"
           }
          ],
          "scatterpolar": [
           {
            "marker": {
             "colorbar": {
              "outlinewidth": 0,
              "ticks": ""
             }
            },
            "type": "scatterpolar"
           }
          ],
          "scatterpolargl": [
           {
            "marker": {
             "colorbar": {
              "outlinewidth": 0,
              "ticks": ""
             }
            },
            "type": "scatterpolargl"
           }
          ],
          "scatterternary": [
           {
            "marker": {
             "colorbar": {
              "outlinewidth": 0,
              "ticks": ""
             }
            },
            "type": "scatterternary"
           }
          ],
          "surface": [
           {
            "colorbar": {
             "outlinewidth": 0,
             "ticks": ""
            },
            "colorscale": [
             [
              0,
              "#0d0887"
             ],
             [
              0.1111111111111111,
              "#46039f"
             ],
             [
              0.2222222222222222,
              "#7201a8"
             ],
             [
              0.3333333333333333,
              "#9c179e"
             ],
             [
              0.4444444444444444,
              "#bd3786"
             ],
             [
              0.5555555555555556,
              "#d8576b"
             ],
             [
              0.6666666666666666,
              "#ed7953"
             ],
             [
              0.7777777777777778,
              "#fb9f3a"
             ],
             [
              0.8888888888888888,
              "#fdca26"
             ],
             [
              1,
              "#f0f921"
             ]
            ],
            "type": "surface"
           }
          ],
          "table": [
           {
            "cells": {
             "fill": {
              "color": "#EBF0F8"
             },
             "line": {
              "color": "white"
             }
            },
            "header": {
             "fill": {
              "color": "#C8D4E3"
             },
             "line": {
              "color": "white"
             }
            },
            "type": "table"
           }
          ]
         },
         "layout": {
          "annotationdefaults": {
           "arrowcolor": "#2a3f5f",
           "arrowhead": 0,
           "arrowwidth": 1
          },
          "autotypenumbers": "strict",
          "coloraxis": {
           "colorbar": {
            "outlinewidth": 0,
            "ticks": ""
           }
          },
          "colorscale": {
           "diverging": [
            [
             0,
             "#8e0152"
            ],
            [
             0.1,
             "#c51b7d"
            ],
            [
             0.2,
             "#de77ae"
            ],
            [
             0.3,
             "#f1b6da"
            ],
            [
             0.4,
             "#fde0ef"
            ],
            [
             0.5,
             "#f7f7f7"
            ],
            [
             0.6,
             "#e6f5d0"
            ],
            [
             0.7,
             "#b8e186"
            ],
            [
             0.8,
             "#7fbc41"
            ],
            [
             0.9,
             "#4d9221"
            ],
            [
             1,
             "#276419"
            ]
           ],
           "sequential": [
            [
             0,
             "#0d0887"
            ],
            [
             0.1111111111111111,
             "#46039f"
            ],
            [
             0.2222222222222222,
             "#7201a8"
            ],
            [
             0.3333333333333333,
             "#9c179e"
            ],
            [
             0.4444444444444444,
             "#bd3786"
            ],
            [
             0.5555555555555556,
             "#d8576b"
            ],
            [
             0.6666666666666666,
             "#ed7953"
            ],
            [
             0.7777777777777778,
             "#fb9f3a"
            ],
            [
             0.8888888888888888,
             "#fdca26"
            ],
            [
             1,
             "#f0f921"
            ]
           ],
           "sequentialminus": [
            [
             0,
             "#0d0887"
            ],
            [
             0.1111111111111111,
             "#46039f"
            ],
            [
             0.2222222222222222,
             "#7201a8"
            ],
            [
             0.3333333333333333,
             "#9c179e"
            ],
            [
             0.4444444444444444,
             "#bd3786"
            ],
            [
             0.5555555555555556,
             "#d8576b"
            ],
            [
             0.6666666666666666,
             "#ed7953"
            ],
            [
             0.7777777777777778,
             "#fb9f3a"
            ],
            [
             0.8888888888888888,
             "#fdca26"
            ],
            [
             1,
             "#f0f921"
            ]
           ]
          },
          "colorway": [
           "#636efa",
           "#EF553B",
           "#00cc96",
           "#ab63fa",
           "#FFA15A",
           "#19d3f3",
           "#FF6692",
           "#B6E880",
           "#FF97FF",
           "#FECB52"
          ],
          "font": {
           "color": "#2a3f5f"
          },
          "geo": {
           "bgcolor": "white",
           "lakecolor": "white",
           "landcolor": "#E5ECF6",
           "showlakes": true,
           "showland": true,
           "subunitcolor": "white"
          },
          "hoverlabel": {
           "align": "left"
          },
          "hovermode": "closest",
          "mapbox": {
           "style": "light"
          },
          "paper_bgcolor": "white",
          "plot_bgcolor": "#E5ECF6",
          "polar": {
           "angularaxis": {
            "gridcolor": "white",
            "linecolor": "white",
            "ticks": ""
           },
           "bgcolor": "#E5ECF6",
           "radialaxis": {
            "gridcolor": "white",
            "linecolor": "white",
            "ticks": ""
           }
          },
          "scene": {
           "xaxis": {
            "backgroundcolor": "#E5ECF6",
            "gridcolor": "white",
            "gridwidth": 2,
            "linecolor": "white",
            "showbackground": true,
            "ticks": "",
            "zerolinecolor": "white"
           },
           "yaxis": {
            "backgroundcolor": "#E5ECF6",
            "gridcolor": "white",
            "gridwidth": 2,
            "linecolor": "white",
            "showbackground": true,
            "ticks": "",
            "zerolinecolor": "white"
           },
           "zaxis": {
            "backgroundcolor": "#E5ECF6",
            "gridcolor": "white",
            "gridwidth": 2,
            "linecolor": "white",
            "showbackground": true,
            "ticks": "",
            "zerolinecolor": "white"
           }
          },
          "shapedefaults": {
           "line": {
            "color": "#2a3f5f"
           }
          },
          "ternary": {
           "aaxis": {
            "gridcolor": "white",
            "linecolor": "white",
            "ticks": ""
           },
           "baxis": {
            "gridcolor": "white",
            "linecolor": "white",
            "ticks": ""
           },
           "bgcolor": "#E5ECF6",
           "caxis": {
            "gridcolor": "white",
            "linecolor": "white",
            "ticks": ""
           }
          },
          "title": {
           "x": 0.05
          },
          "xaxis": {
           "automargin": true,
           "gridcolor": "white",
           "linecolor": "white",
           "ticks": "",
           "title": {
            "standoff": 15
           },
           "zerolinecolor": "white",
           "zerolinewidth": 2
          },
          "yaxis": {
           "automargin": true,
           "gridcolor": "white",
           "linecolor": "white",
           "ticks": "",
           "title": {
            "standoff": 15
           },
           "zerolinecolor": "white",
           "zerolinewidth": 2
          }
         }
        },
        "title": {
         "text": "Instituciónes que bajaron su promedio 2023-2022"
        },
        "xaxis": {
         "anchor": "y",
         "domain": [
          0,
          1
         ],
         "tickangle": -45,
         "title": {
          "text": "Institución"
         }
        },
        "yaxis": {
         "anchor": "x",
         "domain": [
          0,
          1
         ],
         "title": {
          "text": "Promedio de Lectura Crítica"
         }
        }
       }
      }
     },
     "metadata": {},
     "output_type": "display_data"
    }
   ],
   "source": [
    "import plotly.graph_objects as go\n",
    "\n",
    "\n",
    "\n",
    "# Filtrar el DataFrame\n",
    "df_filtrado = df[df['PROMEDIO DE LECTURA CRITICA 2023'] < df['PROMEDIO DE LECTURA CRITICA 2022']]\n",
    "\n",
    "# Convertir el DataFrame de ancho a largo\n",
    "df_long = df_filtrado.melt(id_vars=['INSTITUCION'], \n",
    "                  value_vars=['PROMEDIO DE LECTURA CRITICA 2022', 'PROMEDIO DE LECTURA CRITICA 2023'],\n",
    "                  var_name='Año', \n",
    "                  value_name='Promedio de Lectura Crítica')\n",
    "\n",
    "# Calcular el promedio general de ambos años\n",
    "promedio_general = df_long['Promedio de Lectura Crítica'].mean()\n",
    "\n",
    "# Crear un gráfico de barras interactivo con los datos transformados\n",
    "fig = px.bar(df_long, x='INSTITUCION', y='Promedio de Lectura Crítica', color='Año', barmode='group')\n",
    "\n",
    "# Agregar una línea horizontal para el promedio general\n",
    "fig.add_trace(\n",
    "    go.Scatter(\n",
    "        x=df_filtrado['INSTITUCION'], \n",
    "        y=[promedio_general]*len(df_filtrado),\n",
    "        mode='lines',\n",
    "        name='Promedio General',\n",
    "        line=dict(color='red', width=2, dash='dash')\n",
    "    )\n",
    ")\n",
    "\n",
    "# Añadir título y modificar leyenda\n",
    "fig.update_layout(\n",
    "    title='Instituciónes que bajaron su promedio 2023-2022',\n",
    "    xaxis_title='Institución',\n",
    "    yaxis_title='Promedio de Lectura Crítica',\n",
    "    xaxis_tickangle=-45,\n",
    "    height=800,\n",
    "    legend_title='Año',\n",
    ")\n",
    "\n",
    "# Mostrar el gráfico\n",
    "fig.show()\n"
   ]
  },
  {
   "cell_type": "code",
   "execution_count": 71,
   "metadata": {},
   "outputs": [
    {
     "data": {
      "application/vnd.plotly.v1+json": {
       "config": {
        "plotlyServerURL": "https://plot.ly"
       },
       "data": [
        {
         "alignmentgroup": "True",
         "hovertemplate": "INSTITUCION=%{x}<br>PROMEDLECTURA CRITICA TENDENCIA 2022-2023=%{y}<extra></extra>",
         "legendgroup": "",
         "marker": {
          "color": "#636efa",
          "pattern": {
           "shape": ""
          }
         },
         "name": "",
         "offsetgroup": "",
         "orientation": "v",
         "showlegend": false,
         "textposition": "auto",
         "type": "bar",
         "x": [
          "IE VILLA ESTADIO",
          "IE NUESTRA SEÑORA DE FATIMA",
          "IE TECNICO INDUSTRIAL BLAS TORRES DE LA TORRE",
          "IE POLITECNICO DE SOLEDAD",
          "IE JESUS MAESTRO F.M.S.D.",
          "IE COMERCIAL NTRA SRA DE LAS MISERICORDIAS",
          "IE SAGRADO CORAZON",
          "IE VISTA HERMOSA DE SOLEDAD",
          "IE TECNICA MANUELA BELTRAN",
          "IE TAJAMAR",
          "IE DOLORES MARIA UCROS",
          "IE LUIS R. CAPARROSO",
          "IE FRANCISCO JOSE DE CALDAS",
          "IE NOROCCIDENTAL DE SOLEDAD",
          "IE TECNICA MICROEMPRESARIAL DE SOLEDAD",
          "IE INEM MIGUEL ANTONIO CARO",
          "IE TECNICA INDUSTRIAL Y COMERCIAL DE SOLEDAD",
          "IE NUESTRA SEÑORA DEL CARMEN",
          "IE GABRIEL ESCORCIA GRAVINI DE SOLEDAD",
          "IE TECNICA INDUSTRIAL JOSE CASTILLO BOLIVAR",
          "IE TECNICA INDUSTRIAL DE SOLEDAD MARIA AUXILIADORA",
          "IE TECNICA FRANCISCO DE PAULA SANTANDER",
          "IE JOHN F KENNEDY DE SOLEDAD",
          "IE TECNICA INDUSTRIAL SAN ANTONIO DE PADUA",
          "IE NOBEL JUAN MANUEL SANTOS",
          "IE VILLA MARIA",
          "IE POLICARPA SALAVARRIETA",
          "IE PRIMERO DE MAYO",
          "IE ALBERTO PUMAREJO",
          "IE DE SOLEDAD - INOBASOL",
          "IE ANTONIO RAMON MORENO",
          "IE JOSEFA DONADO"
         ],
         "xaxis": "x",
         "y": [
          0.008099999999999996,
          0.007400000000000073,
          0.005799999999999916,
          -0.0012999999999999678,
          0.008400000000000074,
          0.0035999999999999366,
          0.013700000000000045,
          0.010800000000000032,
          0.027200000000000002,
          0.0008000000000000229,
          0.010700000000000043,
          0.01869999999999994,
          0.008899999999999908,
          0.012800000000000034,
          -0.0012999999999999678,
          0.007600000000000051,
          -0.0048000000000000265,
          0.014500000000000068,
          0.007900000000000018,
          0.017900000000000027,
          0.013799999999999923,
          0.005099999999999993,
          0.007300000000000084,
          -0.0009000000000000119,
          -0.005499999999999949,
          0.020000000000000018,
          0.018900000000000028,
          0.009000000000000008,
          -0.006900000000000017,
          -0.007900000000000018,
          0.017900000000000027,
          -0.0036000000000000476
         ],
         "yaxis": "y"
        },
        {
         "line": {
          "color": "red",
          "dash": "dash",
          "width": 2
         },
         "mode": "lines",
         "name": "Promedio General",
         "type": "scatter",
         "x": [
          "IE VILLA ESTADIO",
          "IE NUESTRA SEÑORA DE FATIMA",
          "IE TECNICO INDUSTRIAL BLAS TORRES DE LA TORRE",
          "IE POLITECNICO DE SOLEDAD",
          "IE JESUS MAESTRO F.M.S.D.",
          "IE COMERCIAL NTRA SRA DE LAS MISERICORDIAS",
          "IE SAGRADO CORAZON",
          "IE VISTA HERMOSA DE SOLEDAD",
          "IE TECNICA MANUELA BELTRAN",
          "IE TAJAMAR",
          "IE DOLORES MARIA UCROS",
          "IE LUIS R. CAPARROSO",
          "IE FRANCISCO JOSE DE CALDAS",
          "IE NOROCCIDENTAL DE SOLEDAD",
          "IE TECNICA MICROEMPRESARIAL DE SOLEDAD",
          "IE INEM MIGUEL ANTONIO CARO",
          "IE TECNICA INDUSTRIAL Y COMERCIAL DE SOLEDAD",
          "IE NUESTRA SEÑORA DEL CARMEN",
          "IE GABRIEL ESCORCIA GRAVINI DE SOLEDAD",
          "IE TECNICA INDUSTRIAL JOSE CASTILLO BOLIVAR",
          "IE TECNICA INDUSTRIAL DE SOLEDAD MARIA AUXILIADORA",
          "IE TECNICA FRANCISCO DE PAULA SANTANDER",
          "IE JOHN F KENNEDY DE SOLEDAD",
          "IE TECNICA INDUSTRIAL SAN ANTONIO DE PADUA",
          "IE NOBEL JUAN MANUEL SANTOS",
          "IE VILLA MARIA",
          "IE POLICARPA SALAVARRIETA",
          "IE PRIMERO DE MAYO",
          "IE ALBERTO PUMAREJO",
          "IE DE SOLEDAD - INOBASOL",
          "IE ANTONIO RAMON MORENO",
          "IE JOSEFA DONADO"
         ],
         "y": [
          0.007643750000000008,
          0.007643750000000008,
          0.007643750000000008,
          0.007643750000000008,
          0.007643750000000008,
          0.007643750000000008,
          0.007643750000000008,
          0.007643750000000008,
          0.007643750000000008,
          0.007643750000000008,
          0.007643750000000008,
          0.007643750000000008,
          0.007643750000000008,
          0.007643750000000008,
          0.007643750000000008,
          0.007643750000000008,
          0.007643750000000008,
          0.007643750000000008,
          0.007643750000000008,
          0.007643750000000008,
          0.007643750000000008,
          0.007643750000000008,
          0.007643750000000008,
          0.007643750000000008,
          0.007643750000000008,
          0.007643750000000008,
          0.007643750000000008,
          0.007643750000000008,
          0.007643750000000008,
          0.007643750000000008,
          0.007643750000000008,
          0.007643750000000008
         ]
        }
       ],
       "layout": {
        "barmode": "relative",
        "height": 1000,
        "legend": {
         "title": {
          "text": "Año"
         },
         "tracegroupgap": 0
        },
        "margin": {
         "t": 60
        },
        "template": {
         "data": {
          "bar": [
           {
            "error_x": {
             "color": "#2a3f5f"
            },
            "error_y": {
             "color": "#2a3f5f"
            },
            "marker": {
             "line": {
              "color": "#E5ECF6",
              "width": 0.5
             },
             "pattern": {
              "fillmode": "overlay",
              "size": 10,
              "solidity": 0.2
             }
            },
            "type": "bar"
           }
          ],
          "barpolar": [
           {
            "marker": {
             "line": {
              "color": "#E5ECF6",
              "width": 0.5
             },
             "pattern": {
              "fillmode": "overlay",
              "size": 10,
              "solidity": 0.2
             }
            },
            "type": "barpolar"
           }
          ],
          "carpet": [
           {
            "aaxis": {
             "endlinecolor": "#2a3f5f",
             "gridcolor": "white",
             "linecolor": "white",
             "minorgridcolor": "white",
             "startlinecolor": "#2a3f5f"
            },
            "baxis": {
             "endlinecolor": "#2a3f5f",
             "gridcolor": "white",
             "linecolor": "white",
             "minorgridcolor": "white",
             "startlinecolor": "#2a3f5f"
            },
            "type": "carpet"
           }
          ],
          "choropleth": [
           {
            "colorbar": {
             "outlinewidth": 0,
             "ticks": ""
            },
            "type": "choropleth"
           }
          ],
          "contour": [
           {
            "colorbar": {
             "outlinewidth": 0,
             "ticks": ""
            },
            "colorscale": [
             [
              0,
              "#0d0887"
             ],
             [
              0.1111111111111111,
              "#46039f"
             ],
             [
              0.2222222222222222,
              "#7201a8"
             ],
             [
              0.3333333333333333,
              "#9c179e"
             ],
             [
              0.4444444444444444,
              "#bd3786"
             ],
             [
              0.5555555555555556,
              "#d8576b"
             ],
             [
              0.6666666666666666,
              "#ed7953"
             ],
             [
              0.7777777777777778,
              "#fb9f3a"
             ],
             [
              0.8888888888888888,
              "#fdca26"
             ],
             [
              1,
              "#f0f921"
             ]
            ],
            "type": "contour"
           }
          ],
          "contourcarpet": [
           {
            "colorbar": {
             "outlinewidth": 0,
             "ticks": ""
            },
            "type": "contourcarpet"
           }
          ],
          "heatmap": [
           {
            "colorbar": {
             "outlinewidth": 0,
             "ticks": ""
            },
            "colorscale": [
             [
              0,
              "#0d0887"
             ],
             [
              0.1111111111111111,
              "#46039f"
             ],
             [
              0.2222222222222222,
              "#7201a8"
             ],
             [
              0.3333333333333333,
              "#9c179e"
             ],
             [
              0.4444444444444444,
              "#bd3786"
             ],
             [
              0.5555555555555556,
              "#d8576b"
             ],
             [
              0.6666666666666666,
              "#ed7953"
             ],
             [
              0.7777777777777778,
              "#fb9f3a"
             ],
             [
              0.8888888888888888,
              "#fdca26"
             ],
             [
              1,
              "#f0f921"
             ]
            ],
            "type": "heatmap"
           }
          ],
          "heatmapgl": [
           {
            "colorbar": {
             "outlinewidth": 0,
             "ticks": ""
            },
            "colorscale": [
             [
              0,
              "#0d0887"
             ],
             [
              0.1111111111111111,
              "#46039f"
             ],
             [
              0.2222222222222222,
              "#7201a8"
             ],
             [
              0.3333333333333333,
              "#9c179e"
             ],
             [
              0.4444444444444444,
              "#bd3786"
             ],
             [
              0.5555555555555556,
              "#d8576b"
             ],
             [
              0.6666666666666666,
              "#ed7953"
             ],
             [
              0.7777777777777778,
              "#fb9f3a"
             ],
             [
              0.8888888888888888,
              "#fdca26"
             ],
             [
              1,
              "#f0f921"
             ]
            ],
            "type": "heatmapgl"
           }
          ],
          "histogram": [
           {
            "marker": {
             "pattern": {
              "fillmode": "overlay",
              "size": 10,
              "solidity": 0.2
             }
            },
            "type": "histogram"
           }
          ],
          "histogram2d": [
           {
            "colorbar": {
             "outlinewidth": 0,
             "ticks": ""
            },
            "colorscale": [
             [
              0,
              "#0d0887"
             ],
             [
              0.1111111111111111,
              "#46039f"
             ],
             [
              0.2222222222222222,
              "#7201a8"
             ],
             [
              0.3333333333333333,
              "#9c179e"
             ],
             [
              0.4444444444444444,
              "#bd3786"
             ],
             [
              0.5555555555555556,
              "#d8576b"
             ],
             [
              0.6666666666666666,
              "#ed7953"
             ],
             [
              0.7777777777777778,
              "#fb9f3a"
             ],
             [
              0.8888888888888888,
              "#fdca26"
             ],
             [
              1,
              "#f0f921"
             ]
            ],
            "type": "histogram2d"
           }
          ],
          "histogram2dcontour": [
           {
            "colorbar": {
             "outlinewidth": 0,
             "ticks": ""
            },
            "colorscale": [
             [
              0,
              "#0d0887"
             ],
             [
              0.1111111111111111,
              "#46039f"
             ],
             [
              0.2222222222222222,
              "#7201a8"
             ],
             [
              0.3333333333333333,
              "#9c179e"
             ],
             [
              0.4444444444444444,
              "#bd3786"
             ],
             [
              0.5555555555555556,
              "#d8576b"
             ],
             [
              0.6666666666666666,
              "#ed7953"
             ],
             [
              0.7777777777777778,
              "#fb9f3a"
             ],
             [
              0.8888888888888888,
              "#fdca26"
             ],
             [
              1,
              "#f0f921"
             ]
            ],
            "type": "histogram2dcontour"
           }
          ],
          "mesh3d": [
           {
            "colorbar": {
             "outlinewidth": 0,
             "ticks": ""
            },
            "type": "mesh3d"
           }
          ],
          "parcoords": [
           {
            "line": {
             "colorbar": {
              "outlinewidth": 0,
              "ticks": ""
             }
            },
            "type": "parcoords"
           }
          ],
          "pie": [
           {
            "automargin": true,
            "type": "pie"
           }
          ],
          "scatter": [
           {
            "fillpattern": {
             "fillmode": "overlay",
             "size": 10,
             "solidity": 0.2
            },
            "type": "scatter"
           }
          ],
          "scatter3d": [
           {
            "line": {
             "colorbar": {
              "outlinewidth": 0,
              "ticks": ""
             }
            },
            "marker": {
             "colorbar": {
              "outlinewidth": 0,
              "ticks": ""
             }
            },
            "type": "scatter3d"
           }
          ],
          "scattercarpet": [
           {
            "marker": {
             "colorbar": {
              "outlinewidth": 0,
              "ticks": ""
             }
            },
            "type": "scattercarpet"
           }
          ],
          "scattergeo": [
           {
            "marker": {
             "colorbar": {
              "outlinewidth": 0,
              "ticks": ""
             }
            },
            "type": "scattergeo"
           }
          ],
          "scattergl": [
           {
            "marker": {
             "colorbar": {
              "outlinewidth": 0,
              "ticks": ""
             }
            },
            "type": "scattergl"
           }
          ],
          "scattermapbox": [
           {
            "marker": {
             "colorbar": {
              "outlinewidth": 0,
              "ticks": ""
             }
            },
            "type": "scattermapbox"
           }
          ],
          "scatterpolar": [
           {
            "marker": {
             "colorbar": {
              "outlinewidth": 0,
              "ticks": ""
             }
            },
            "type": "scatterpolar"
           }
          ],
          "scatterpolargl": [
           {
            "marker": {
             "colorbar": {
              "outlinewidth": 0,
              "ticks": ""
             }
            },
            "type": "scatterpolargl"
           }
          ],
          "scatterternary": [
           {
            "marker": {
             "colorbar": {
              "outlinewidth": 0,
              "ticks": ""
             }
            },
            "type": "scatterternary"
           }
          ],
          "surface": [
           {
            "colorbar": {
             "outlinewidth": 0,
             "ticks": ""
            },
            "colorscale": [
             [
              0,
              "#0d0887"
             ],
             [
              0.1111111111111111,
              "#46039f"
             ],
             [
              0.2222222222222222,
              "#7201a8"
             ],
             [
              0.3333333333333333,
              "#9c179e"
             ],
             [
              0.4444444444444444,
              "#bd3786"
             ],
             [
              0.5555555555555556,
              "#d8576b"
             ],
             [
              0.6666666666666666,
              "#ed7953"
             ],
             [
              0.7777777777777778,
              "#fb9f3a"
             ],
             [
              0.8888888888888888,
              "#fdca26"
             ],
             [
              1,
              "#f0f921"
             ]
            ],
            "type": "surface"
           }
          ],
          "table": [
           {
            "cells": {
             "fill": {
              "color": "#EBF0F8"
             },
             "line": {
              "color": "white"
             }
            },
            "header": {
             "fill": {
              "color": "#C8D4E3"
             },
             "line": {
              "color": "white"
             }
            },
            "type": "table"
           }
          ]
         },
         "layout": {
          "annotationdefaults": {
           "arrowcolor": "#2a3f5f",
           "arrowhead": 0,
           "arrowwidth": 1
          },
          "autotypenumbers": "strict",
          "coloraxis": {
           "colorbar": {
            "outlinewidth": 0,
            "ticks": ""
           }
          },
          "colorscale": {
           "diverging": [
            [
             0,
             "#8e0152"
            ],
            [
             0.1,
             "#c51b7d"
            ],
            [
             0.2,
             "#de77ae"
            ],
            [
             0.3,
             "#f1b6da"
            ],
            [
             0.4,
             "#fde0ef"
            ],
            [
             0.5,
             "#f7f7f7"
            ],
            [
             0.6,
             "#e6f5d0"
            ],
            [
             0.7,
             "#b8e186"
            ],
            [
             0.8,
             "#7fbc41"
            ],
            [
             0.9,
             "#4d9221"
            ],
            [
             1,
             "#276419"
            ]
           ],
           "sequential": [
            [
             0,
             "#0d0887"
            ],
            [
             0.1111111111111111,
             "#46039f"
            ],
            [
             0.2222222222222222,
             "#7201a8"
            ],
            [
             0.3333333333333333,
             "#9c179e"
            ],
            [
             0.4444444444444444,
             "#bd3786"
            ],
            [
             0.5555555555555556,
             "#d8576b"
            ],
            [
             0.6666666666666666,
             "#ed7953"
            ],
            [
             0.7777777777777778,
             "#fb9f3a"
            ],
            [
             0.8888888888888888,
             "#fdca26"
            ],
            [
             1,
             "#f0f921"
            ]
           ],
           "sequentialminus": [
            [
             0,
             "#0d0887"
            ],
            [
             0.1111111111111111,
             "#46039f"
            ],
            [
             0.2222222222222222,
             "#7201a8"
            ],
            [
             0.3333333333333333,
             "#9c179e"
            ],
            [
             0.4444444444444444,
             "#bd3786"
            ],
            [
             0.5555555555555556,
             "#d8576b"
            ],
            [
             0.6666666666666666,
             "#ed7953"
            ],
            [
             0.7777777777777778,
             "#fb9f3a"
            ],
            [
             0.8888888888888888,
             "#fdca26"
            ],
            [
             1,
             "#f0f921"
            ]
           ]
          },
          "colorway": [
           "#636efa",
           "#EF553B",
           "#00cc96",
           "#ab63fa",
           "#FFA15A",
           "#19d3f3",
           "#FF6692",
           "#B6E880",
           "#FF97FF",
           "#FECB52"
          ],
          "font": {
           "color": "#2a3f5f"
          },
          "geo": {
           "bgcolor": "white",
           "lakecolor": "white",
           "landcolor": "#E5ECF6",
           "showlakes": true,
           "showland": true,
           "subunitcolor": "white"
          },
          "hoverlabel": {
           "align": "left"
          },
          "hovermode": "closest",
          "mapbox": {
           "style": "light"
          },
          "paper_bgcolor": "white",
          "plot_bgcolor": "#E5ECF6",
          "polar": {
           "angularaxis": {
            "gridcolor": "white",
            "linecolor": "white",
            "ticks": ""
           },
           "bgcolor": "#E5ECF6",
           "radialaxis": {
            "gridcolor": "white",
            "linecolor": "white",
            "ticks": ""
           }
          },
          "scene": {
           "xaxis": {
            "backgroundcolor": "#E5ECF6",
            "gridcolor": "white",
            "gridwidth": 2,
            "linecolor": "white",
            "showbackground": true,
            "ticks": "",
            "zerolinecolor": "white"
           },
           "yaxis": {
            "backgroundcolor": "#E5ECF6",
            "gridcolor": "white",
            "gridwidth": 2,
            "linecolor": "white",
            "showbackground": true,
            "ticks": "",
            "zerolinecolor": "white"
           },
           "zaxis": {
            "backgroundcolor": "#E5ECF6",
            "gridcolor": "white",
            "gridwidth": 2,
            "linecolor": "white",
            "showbackground": true,
            "ticks": "",
            "zerolinecolor": "white"
           }
          },
          "shapedefaults": {
           "line": {
            "color": "#2a3f5f"
           }
          },
          "ternary": {
           "aaxis": {
            "gridcolor": "white",
            "linecolor": "white",
            "ticks": ""
           },
           "baxis": {
            "gridcolor": "white",
            "linecolor": "white",
            "ticks": ""
           },
           "bgcolor": "#E5ECF6",
           "caxis": {
            "gridcolor": "white",
            "linecolor": "white",
            "ticks": ""
           }
          },
          "title": {
           "x": 0.05
          },
          "xaxis": {
           "automargin": true,
           "gridcolor": "white",
           "linecolor": "white",
           "ticks": "",
           "title": {
            "standoff": 15
           },
           "zerolinecolor": "white",
           "zerolinewidth": 2
          },
          "yaxis": {
           "automargin": true,
           "gridcolor": "white",
           "linecolor": "white",
           "ticks": "",
           "title": {
            "standoff": 15
           },
           "zerolinecolor": "white",
           "zerolinewidth": 2
          }
         }
        },
        "title": {
         "text": "Tendencia en Lectura Cítica 2022-2023 por Institución"
        },
        "xaxis": {
         "anchor": "y",
         "domain": [
          0,
          1
         ],
         "title": {
          "text": "Institución"
         }
        },
        "yaxis": {
         "anchor": "x",
         "domain": [
          0,
          1
         ],
         "title": {
          "text": "Promedio de Lectura Crítica"
         }
        }
       }
      }
     },
     "metadata": {},
     "output_type": "display_data"
    }
   ],
   "source": [
    "import plotly.graph_objects as go\n",
    "\n",
    "# Asumimos que 'df' es tu DataFrame original y ya está definido.\n",
    "\n",
    "# Calcular el promedio general de la tendencia 2022-2023\n",
    "promedio_general = df[\"PROMEDLECTURA CRITICA TENDENCIA 2022-2023\"].mean()\n",
    "\n",
    "# Crear un gráfico de barras interactivo\n",
    "fig = px.bar(df, x='INSTITUCION', y='PROMEDLECTURA CRITICA TENDENCIA 2022-2023')\n",
    "\n",
    "# Agregar una línea horizontal para el promedio general\n",
    "fig.add_trace(\n",
    "    go.Scatter(\n",
    "        x=df[\"INSTITUCION\"],\n",
    "        y=[promedio_general]*len(df),\n",
    "        mode='lines',\n",
    "        name='Promedio General',\n",
    "        line=dict(color='red', width=2, dash='dash')\n",
    "    )\n",
    ")\n",
    "\n",
    "# Actualizar el layout si es necesario\n",
    "fig.update_layout(\n",
    "    title='Tendencia en Lectura Cítica 2022-2023 por Institución',\n",
    "    xaxis_title='Institución',\n",
    "    yaxis_title='Promedio de Lectura Crítica',\n",
    "    height=1000,  # Ajusta el alto para acomodar todas las instituciones\n",
    "    legend_title='Año',\n",
    ")\n",
    "\n",
    "# Mostrar el gráfico\n",
    "fig.show()\n"
   ]
  },
  {
   "cell_type": "markdown",
   "metadata": {},
   "source": [
    "## PROMEDIO DE MATEMATICA 2022 - 2023"
   ]
  },
  {
   "cell_type": "code",
   "execution_count": 86,
   "metadata": {},
   "outputs": [
    {
     "data": {
      "application/vnd.plotly.v1+json": {
       "config": {
        "plotlyServerURL": "https://plot.ly"
       },
       "data": [
        {
         "customdata": [
          [
           "IE VILLA ESTADIO"
          ],
          [
           "IE NUESTRA SEÑORA DE FATIMA"
          ],
          [
           "IE TECNICO INDUSTRIAL BLAS TORRES DE LA TORRE"
          ],
          [
           "IE POLITECNICO DE SOLEDAD"
          ],
          [
           "IE JESUS MAESTRO F.M.S.D."
          ],
          [
           "IE COMERCIAL NTRA SRA DE LAS MISERICORDIAS"
          ],
          [
           "IE SAGRADO CORAZON"
          ],
          [
           "IE VISTA HERMOSA DE SOLEDAD"
          ],
          [
           "IE TECNICA MANUELA BELTRAN"
          ],
          [
           "IE TAJAMAR"
          ],
          [
           "IE DOLORES MARIA UCROS"
          ],
          [
           "IE LUIS R. CAPARROSO"
          ],
          [
           "IE FRANCISCO JOSE DE CALDAS"
          ],
          [
           "IE NOROCCIDENTAL DE SOLEDAD"
          ],
          [
           "IE TECNICA MICROEMPRESARIAL DE SOLEDAD"
          ],
          [
           "IE INEM MIGUEL ANTONIO CARO"
          ],
          [
           "IE TECNICA INDUSTRIAL Y COMERCIAL DE SOLEDAD"
          ],
          [
           "IE NUESTRA SEÑORA DEL CARMEN"
          ],
          [
           "IE GABRIEL ESCORCIA GRAVINI DE SOLEDAD"
          ],
          [
           "IE TECNICA INDUSTRIAL JOSE CASTILLO BOLIVAR"
          ],
          [
           "IE TECNICA INDUSTRIAL DE SOLEDAD MARIA AUXILIADORA"
          ],
          [
           "IE TECNICA FRANCISCO DE PAULA SANTANDER"
          ],
          [
           "IE JOHN F KENNEDY DE SOLEDAD"
          ],
          [
           "IE TECNICA INDUSTRIAL SAN ANTONIO DE PADUA"
          ],
          [
           "IE NOBEL JUAN MANUEL SANTOS"
          ],
          [
           "IE VILLA MARIA"
          ],
          [
           "IE POLICARPA SALAVARRIETA"
          ],
          [
           "IE PRIMERO DE MAYO"
          ],
          [
           "IE ALBERTO PUMAREJO"
          ],
          [
           "IE DE SOLEDAD - INOBASOL"
          ],
          [
           "IE ANTONIO RAMON MORENO"
          ],
          [
           "IE JOSEFA DONADO"
          ]
         ],
         "hovertemplate": "PROMEDIO DE MATEMATICA 2022=%{x}<br>PROMEDIO DE MATEMATICA 2023=%{y}<br>INSTITUCION=%{customdata[0]}<extra></extra>",
         "legendgroup": "",
         "marker": {
          "color": "#636efa",
          "symbol": "circle"
         },
         "mode": "markers",
         "name": "",
         "orientation": "v",
         "showlegend": false,
         "type": "scatter",
         "x": [
          0.7888,
          0.7731,
          0.7515,
          0.7446,
          0.7286,
          0.7077,
          0.7151,
          0.6978,
          0.684,
          0.6862,
          0.6843,
          0.6836,
          0.6765,
          0.6808,
          0.6906,
          0.6429,
          0.6675,
          0.6313,
          0.6496,
          0.6106,
          0.6136,
          0.6362,
          0.6144,
          0.6183,
          0.6074,
          0.586,
          0.6052,
          0.5958,
          0.6056,
          0.6022,
          0.5704,
          0.5483
         ],
         "xaxis": "x",
         "y": [
          0.7946,
          0.7732,
          0.754,
          0.7362,
          0.736,
          0.7133,
          0.7175,
          0.7067,
          0.7095,
          0.6827,
          0.6909,
          0.6919,
          0.6845,
          0.6934,
          0.6797,
          0.6444,
          0.6612,
          0.6407,
          0.6465,
          0.6218,
          0.6183,
          0.6293,
          0.6024,
          0.6161,
          0.6033,
          0.6098,
          0.63,
          0.6162,
          0.5937,
          0.6023,
          0.5666,
          0.5411
         ],
         "yaxis": "y"
        },
        {
         "hovertemplate": "<b>OLS trendline</b><br>PROMEDIO DE MATEMATICA 2023 = 0.998438 * PROMEDIO DE MATEMATICA 2022 + 0.00444522<br>R<sup>2</sup>=0.971238<br><br>PROMEDIO DE MATEMATICA 2022=%{x}<br>PROMEDIO DE MATEMATICA 2023=%{y} <b>(trend)</b><extra></extra>",
         "legendgroup": "",
         "marker": {
          "color": "#636efa",
          "symbol": "circle"
         },
         "mode": "lines",
         "name": "",
         "showlegend": false,
         "type": "scatter",
         "x": [
          0.5483,
          0.5704,
          0.586,
          0.5958,
          0.6022,
          0.6052,
          0.6056,
          0.6074,
          0.6106,
          0.6136,
          0.6144,
          0.6183,
          0.6313,
          0.6362,
          0.6429,
          0.6496,
          0.6675,
          0.6765,
          0.6808,
          0.6836,
          0.684,
          0.6843,
          0.6862,
          0.6906,
          0.6978,
          0.7077,
          0.7151,
          0.7286,
          0.7446,
          0.7515,
          0.7731,
          0.7888
         ],
         "xaxis": "x",
         "y": [
          0.5518890039401837,
          0.5739544930936927,
          0.5895301324961696,
          0.5993148290438796,
          0.605704834952588,
          0.6087001502222952,
          0.6090995255915894,
          0.6108967147534138,
          0.6140917177077679,
          0.6170870329774751,
          0.6178857837160636,
          0.6217796935666828,
          0.634759393068747,
          0.6396517413426019,
          0.6463412787782812,
          0.6530308162139603,
          0.6709028639898794,
          0.6798888097990008,
          0.6841820950189142,
          0.6869777226039743,
          0.6873770979732686,
          0.6876766295002393,
          0.6895736625043871,
          0.6939667915666242,
          0.7011555482139212,
          0.7110400886039547,
          0.7184285329358989,
          0.7319074516495809,
          0.7478824664213523,
          0.7547716915416784,
          0.7763379614835697,
          0.7920134447283702
         ],
         "yaxis": "y"
        }
       ],
       "layout": {
        "legend": {
         "tracegroupgap": 0
        },
        "template": {
         "data": {
          "bar": [
           {
            "error_x": {
             "color": "#2a3f5f"
            },
            "error_y": {
             "color": "#2a3f5f"
            },
            "marker": {
             "line": {
              "color": "#E5ECF6",
              "width": 0.5
             },
             "pattern": {
              "fillmode": "overlay",
              "size": 10,
              "solidity": 0.2
             }
            },
            "type": "bar"
           }
          ],
          "barpolar": [
           {
            "marker": {
             "line": {
              "color": "#E5ECF6",
              "width": 0.5
             },
             "pattern": {
              "fillmode": "overlay",
              "size": 10,
              "solidity": 0.2
             }
            },
            "type": "barpolar"
           }
          ],
          "carpet": [
           {
            "aaxis": {
             "endlinecolor": "#2a3f5f",
             "gridcolor": "white",
             "linecolor": "white",
             "minorgridcolor": "white",
             "startlinecolor": "#2a3f5f"
            },
            "baxis": {
             "endlinecolor": "#2a3f5f",
             "gridcolor": "white",
             "linecolor": "white",
             "minorgridcolor": "white",
             "startlinecolor": "#2a3f5f"
            },
            "type": "carpet"
           }
          ],
          "choropleth": [
           {
            "colorbar": {
             "outlinewidth": 0,
             "ticks": ""
            },
            "type": "choropleth"
           }
          ],
          "contour": [
           {
            "colorbar": {
             "outlinewidth": 0,
             "ticks": ""
            },
            "colorscale": [
             [
              0,
              "#0d0887"
             ],
             [
              0.1111111111111111,
              "#46039f"
             ],
             [
              0.2222222222222222,
              "#7201a8"
             ],
             [
              0.3333333333333333,
              "#9c179e"
             ],
             [
              0.4444444444444444,
              "#bd3786"
             ],
             [
              0.5555555555555556,
              "#d8576b"
             ],
             [
              0.6666666666666666,
              "#ed7953"
             ],
             [
              0.7777777777777778,
              "#fb9f3a"
             ],
             [
              0.8888888888888888,
              "#fdca26"
             ],
             [
              1,
              "#f0f921"
             ]
            ],
            "type": "contour"
           }
          ],
          "contourcarpet": [
           {
            "colorbar": {
             "outlinewidth": 0,
             "ticks": ""
            },
            "type": "contourcarpet"
           }
          ],
          "heatmap": [
           {
            "colorbar": {
             "outlinewidth": 0,
             "ticks": ""
            },
            "colorscale": [
             [
              0,
              "#0d0887"
             ],
             [
              0.1111111111111111,
              "#46039f"
             ],
             [
              0.2222222222222222,
              "#7201a8"
             ],
             [
              0.3333333333333333,
              "#9c179e"
             ],
             [
              0.4444444444444444,
              "#bd3786"
             ],
             [
              0.5555555555555556,
              "#d8576b"
             ],
             [
              0.6666666666666666,
              "#ed7953"
             ],
             [
              0.7777777777777778,
              "#fb9f3a"
             ],
             [
              0.8888888888888888,
              "#fdca26"
             ],
             [
              1,
              "#f0f921"
             ]
            ],
            "type": "heatmap"
           }
          ],
          "heatmapgl": [
           {
            "colorbar": {
             "outlinewidth": 0,
             "ticks": ""
            },
            "colorscale": [
             [
              0,
              "#0d0887"
             ],
             [
              0.1111111111111111,
              "#46039f"
             ],
             [
              0.2222222222222222,
              "#7201a8"
             ],
             [
              0.3333333333333333,
              "#9c179e"
             ],
             [
              0.4444444444444444,
              "#bd3786"
             ],
             [
              0.5555555555555556,
              "#d8576b"
             ],
             [
              0.6666666666666666,
              "#ed7953"
             ],
             [
              0.7777777777777778,
              "#fb9f3a"
             ],
             [
              0.8888888888888888,
              "#fdca26"
             ],
             [
              1,
              "#f0f921"
             ]
            ],
            "type": "heatmapgl"
           }
          ],
          "histogram": [
           {
            "marker": {
             "pattern": {
              "fillmode": "overlay",
              "size": 10,
              "solidity": 0.2
             }
            },
            "type": "histogram"
           }
          ],
          "histogram2d": [
           {
            "colorbar": {
             "outlinewidth": 0,
             "ticks": ""
            },
            "colorscale": [
             [
              0,
              "#0d0887"
             ],
             [
              0.1111111111111111,
              "#46039f"
             ],
             [
              0.2222222222222222,
              "#7201a8"
             ],
             [
              0.3333333333333333,
              "#9c179e"
             ],
             [
              0.4444444444444444,
              "#bd3786"
             ],
             [
              0.5555555555555556,
              "#d8576b"
             ],
             [
              0.6666666666666666,
              "#ed7953"
             ],
             [
              0.7777777777777778,
              "#fb9f3a"
             ],
             [
              0.8888888888888888,
              "#fdca26"
             ],
             [
              1,
              "#f0f921"
             ]
            ],
            "type": "histogram2d"
           }
          ],
          "histogram2dcontour": [
           {
            "colorbar": {
             "outlinewidth": 0,
             "ticks": ""
            },
            "colorscale": [
             [
              0,
              "#0d0887"
             ],
             [
              0.1111111111111111,
              "#46039f"
             ],
             [
              0.2222222222222222,
              "#7201a8"
             ],
             [
              0.3333333333333333,
              "#9c179e"
             ],
             [
              0.4444444444444444,
              "#bd3786"
             ],
             [
              0.5555555555555556,
              "#d8576b"
             ],
             [
              0.6666666666666666,
              "#ed7953"
             ],
             [
              0.7777777777777778,
              "#fb9f3a"
             ],
             [
              0.8888888888888888,
              "#fdca26"
             ],
             [
              1,
              "#f0f921"
             ]
            ],
            "type": "histogram2dcontour"
           }
          ],
          "mesh3d": [
           {
            "colorbar": {
             "outlinewidth": 0,
             "ticks": ""
            },
            "type": "mesh3d"
           }
          ],
          "parcoords": [
           {
            "line": {
             "colorbar": {
              "outlinewidth": 0,
              "ticks": ""
             }
            },
            "type": "parcoords"
           }
          ],
          "pie": [
           {
            "automargin": true,
            "type": "pie"
           }
          ],
          "scatter": [
           {
            "fillpattern": {
             "fillmode": "overlay",
             "size": 10,
             "solidity": 0.2
            },
            "type": "scatter"
           }
          ],
          "scatter3d": [
           {
            "line": {
             "colorbar": {
              "outlinewidth": 0,
              "ticks": ""
             }
            },
            "marker": {
             "colorbar": {
              "outlinewidth": 0,
              "ticks": ""
             }
            },
            "type": "scatter3d"
           }
          ],
          "scattercarpet": [
           {
            "marker": {
             "colorbar": {
              "outlinewidth": 0,
              "ticks": ""
             }
            },
            "type": "scattercarpet"
           }
          ],
          "scattergeo": [
           {
            "marker": {
             "colorbar": {
              "outlinewidth": 0,
              "ticks": ""
             }
            },
            "type": "scattergeo"
           }
          ],
          "scattergl": [
           {
            "marker": {
             "colorbar": {
              "outlinewidth": 0,
              "ticks": ""
             }
            },
            "type": "scattergl"
           }
          ],
          "scattermapbox": [
           {
            "marker": {
             "colorbar": {
              "outlinewidth": 0,
              "ticks": ""
             }
            },
            "type": "scattermapbox"
           }
          ],
          "scatterpolar": [
           {
            "marker": {
             "colorbar": {
              "outlinewidth": 0,
              "ticks": ""
             }
            },
            "type": "scatterpolar"
           }
          ],
          "scatterpolargl": [
           {
            "marker": {
             "colorbar": {
              "outlinewidth": 0,
              "ticks": ""
             }
            },
            "type": "scatterpolargl"
           }
          ],
          "scatterternary": [
           {
            "marker": {
             "colorbar": {
              "outlinewidth": 0,
              "ticks": ""
             }
            },
            "type": "scatterternary"
           }
          ],
          "surface": [
           {
            "colorbar": {
             "outlinewidth": 0,
             "ticks": ""
            },
            "colorscale": [
             [
              0,
              "#0d0887"
             ],
             [
              0.1111111111111111,
              "#46039f"
             ],
             [
              0.2222222222222222,
              "#7201a8"
             ],
             [
              0.3333333333333333,
              "#9c179e"
             ],
             [
              0.4444444444444444,
              "#bd3786"
             ],
             [
              0.5555555555555556,
              "#d8576b"
             ],
             [
              0.6666666666666666,
              "#ed7953"
             ],
             [
              0.7777777777777778,
              "#fb9f3a"
             ],
             [
              0.8888888888888888,
              "#fdca26"
             ],
             [
              1,
              "#f0f921"
             ]
            ],
            "type": "surface"
           }
          ],
          "table": [
           {
            "cells": {
             "fill": {
              "color": "#EBF0F8"
             },
             "line": {
              "color": "white"
             }
            },
            "header": {
             "fill": {
              "color": "#C8D4E3"
             },
             "line": {
              "color": "white"
             }
            },
            "type": "table"
           }
          ]
         },
         "layout": {
          "annotationdefaults": {
           "arrowcolor": "#2a3f5f",
           "arrowhead": 0,
           "arrowwidth": 1
          },
          "autotypenumbers": "strict",
          "coloraxis": {
           "colorbar": {
            "outlinewidth": 0,
            "ticks": ""
           }
          },
          "colorscale": {
           "diverging": [
            [
             0,
             "#8e0152"
            ],
            [
             0.1,
             "#c51b7d"
            ],
            [
             0.2,
             "#de77ae"
            ],
            [
             0.3,
             "#f1b6da"
            ],
            [
             0.4,
             "#fde0ef"
            ],
            [
             0.5,
             "#f7f7f7"
            ],
            [
             0.6,
             "#e6f5d0"
            ],
            [
             0.7,
             "#b8e186"
            ],
            [
             0.8,
             "#7fbc41"
            ],
            [
             0.9,
             "#4d9221"
            ],
            [
             1,
             "#276419"
            ]
           ],
           "sequential": [
            [
             0,
             "#0d0887"
            ],
            [
             0.1111111111111111,
             "#46039f"
            ],
            [
             0.2222222222222222,
             "#7201a8"
            ],
            [
             0.3333333333333333,
             "#9c179e"
            ],
            [
             0.4444444444444444,
             "#bd3786"
            ],
            [
             0.5555555555555556,
             "#d8576b"
            ],
            [
             0.6666666666666666,
             "#ed7953"
            ],
            [
             0.7777777777777778,
             "#fb9f3a"
            ],
            [
             0.8888888888888888,
             "#fdca26"
            ],
            [
             1,
             "#f0f921"
            ]
           ],
           "sequentialminus": [
            [
             0,
             "#0d0887"
            ],
            [
             0.1111111111111111,
             "#46039f"
            ],
            [
             0.2222222222222222,
             "#7201a8"
            ],
            [
             0.3333333333333333,
             "#9c179e"
            ],
            [
             0.4444444444444444,
             "#bd3786"
            ],
            [
             0.5555555555555556,
             "#d8576b"
            ],
            [
             0.6666666666666666,
             "#ed7953"
            ],
            [
             0.7777777777777778,
             "#fb9f3a"
            ],
            [
             0.8888888888888888,
             "#fdca26"
            ],
            [
             1,
             "#f0f921"
            ]
           ]
          },
          "colorway": [
           "#636efa",
           "#EF553B",
           "#00cc96",
           "#ab63fa",
           "#FFA15A",
           "#19d3f3",
           "#FF6692",
           "#B6E880",
           "#FF97FF",
           "#FECB52"
          ],
          "font": {
           "color": "#2a3f5f"
          },
          "geo": {
           "bgcolor": "white",
           "lakecolor": "white",
           "landcolor": "#E5ECF6",
           "showlakes": true,
           "showland": true,
           "subunitcolor": "white"
          },
          "hoverlabel": {
           "align": "left"
          },
          "hovermode": "closest",
          "mapbox": {
           "style": "light"
          },
          "paper_bgcolor": "white",
          "plot_bgcolor": "#E5ECF6",
          "polar": {
           "angularaxis": {
            "gridcolor": "white",
            "linecolor": "white",
            "ticks": ""
           },
           "bgcolor": "#E5ECF6",
           "radialaxis": {
            "gridcolor": "white",
            "linecolor": "white",
            "ticks": ""
           }
          },
          "scene": {
           "xaxis": {
            "backgroundcolor": "#E5ECF6",
            "gridcolor": "white",
            "gridwidth": 2,
            "linecolor": "white",
            "showbackground": true,
            "ticks": "",
            "zerolinecolor": "white"
           },
           "yaxis": {
            "backgroundcolor": "#E5ECF6",
            "gridcolor": "white",
            "gridwidth": 2,
            "linecolor": "white",
            "showbackground": true,
            "ticks": "",
            "zerolinecolor": "white"
           },
           "zaxis": {
            "backgroundcolor": "#E5ECF6",
            "gridcolor": "white",
            "gridwidth": 2,
            "linecolor": "white",
            "showbackground": true,
            "ticks": "",
            "zerolinecolor": "white"
           }
          },
          "shapedefaults": {
           "line": {
            "color": "#2a3f5f"
           }
          },
          "ternary": {
           "aaxis": {
            "gridcolor": "white",
            "linecolor": "white",
            "ticks": ""
           },
           "baxis": {
            "gridcolor": "white",
            "linecolor": "white",
            "ticks": ""
           },
           "bgcolor": "#E5ECF6",
           "caxis": {
            "gridcolor": "white",
            "linecolor": "white",
            "ticks": ""
           }
          },
          "title": {
           "x": 0.05
          },
          "xaxis": {
           "automargin": true,
           "gridcolor": "white",
           "linecolor": "white",
           "ticks": "",
           "title": {
            "standoff": 15
           },
           "zerolinecolor": "white",
           "zerolinewidth": 2
          },
          "yaxis": {
           "automargin": true,
           "gridcolor": "white",
           "linecolor": "white",
           "ticks": "",
           "title": {
            "standoff": 15
           },
           "zerolinecolor": "white",
           "zerolinewidth": 2
          }
         }
        },
        "title": {
         "text": "Grafico de puntos del promedio de MATEMATICA 2022-20223"
        },
        "xaxis": {
         "anchor": "y",
         "domain": [
          0,
          1
         ],
         "title": {
          "text": "PROMEDIO DE MATEMATICA 2022"
         }
        },
        "yaxis": {
         "anchor": "x",
         "domain": [
          0,
          1
         ],
         "title": {
          "text": "PROMEDIO DE MATEMATICA 2023"
         }
        }
       }
      }
     },
     "metadata": {},
     "output_type": "display_data"
    }
   ],
   "source": [
    "import plotly.express as px\n",
    "\n",
    "\n",
    "fig = px.scatter(\n",
    "    df, \n",
    "    title='Grafico de puntos del promedio de MATEMATICA 2022-20223',\n",
    "    x='PROMEDIO DE MATEMATICA 2022', \n",
    "    y='PROMEDIO DE MATEMATICA 2023',\n",
    "    trendline='ols',\n",
    "    hover_data=['INSTITUCION'],\n",
    ")\n",
    "\n",
    "# Mostrar el gráfico\n",
    "fig.show()"
   ]
  },
  {
   "cell_type": "code",
   "execution_count": 89,
   "metadata": {},
   "outputs": [
    {
     "data": {
      "application/vnd.plotly.v1+json": {
       "config": {
        "plotlyServerURL": "https://plot.ly"
       },
       "data": [
        {
         "alignmentgroup": "True",
         "hovertemplate": "Año=PROMEDIO DE MATEMATICA 2022<br>INSTITUCION=%{x}<br>Promedio de MATEMATICA=%{y}<extra></extra>",
         "legendgroup": "PROMEDIO DE MATEMATICA 2022",
         "marker": {
          "color": "#636efa",
          "pattern": {
           "shape": ""
          }
         },
         "name": "PROMEDIO DE MATEMATICA 2022",
         "offsetgroup": "PROMEDIO DE MATEMATICA 2022",
         "orientation": "v",
         "showlegend": true,
         "textposition": "auto",
         "type": "bar",
         "x": [
          "IE POLITECNICO DE SOLEDAD",
          "IE TAJAMAR",
          "IE TECNICA MICROEMPRESARIAL DE SOLEDAD",
          "IE TECNICA INDUSTRIAL Y COMERCIAL DE SOLEDAD",
          "IE GABRIEL ESCORCIA GRAVINI DE SOLEDAD",
          "IE TECNICA FRANCISCO DE PAULA SANTANDER",
          "IE JOHN F KENNEDY DE SOLEDAD",
          "IE TECNICA INDUSTRIAL SAN ANTONIO DE PADUA",
          "IE NOBEL JUAN MANUEL SANTOS",
          "IE ALBERTO PUMAREJO",
          "IE ANTONIO RAMON MORENO",
          "IE JOSEFA DONADO"
         ],
         "xaxis": "x",
         "y": [
          0.7446,
          0.6862,
          0.6906,
          0.6675,
          0.6496,
          0.6362,
          0.6144,
          0.6183,
          0.6074,
          0.6056,
          0.5704,
          0.5483
         ],
         "yaxis": "y"
        },
        {
         "alignmentgroup": "True",
         "hovertemplate": "Año=PROMEDIO DE MATEMATICA 2023<br>INSTITUCION=%{x}<br>Promedio de MATEMATICA=%{y}<extra></extra>",
         "legendgroup": "PROMEDIO DE MATEMATICA 2023",
         "marker": {
          "color": "#EF553B",
          "pattern": {
           "shape": ""
          }
         },
         "name": "PROMEDIO DE MATEMATICA 2023",
         "offsetgroup": "PROMEDIO DE MATEMATICA 2023",
         "orientation": "v",
         "showlegend": true,
         "textposition": "auto",
         "type": "bar",
         "x": [
          "IE POLITECNICO DE SOLEDAD",
          "IE TAJAMAR",
          "IE TECNICA MICROEMPRESARIAL DE SOLEDAD",
          "IE TECNICA INDUSTRIAL Y COMERCIAL DE SOLEDAD",
          "IE GABRIEL ESCORCIA GRAVINI DE SOLEDAD",
          "IE TECNICA FRANCISCO DE PAULA SANTANDER",
          "IE JOHN F KENNEDY DE SOLEDAD",
          "IE TECNICA INDUSTRIAL SAN ANTONIO DE PADUA",
          "IE NOBEL JUAN MANUEL SANTOS",
          "IE ALBERTO PUMAREJO",
          "IE ANTONIO RAMON MORENO",
          "IE JOSEFA DONADO"
         ],
         "xaxis": "x",
         "y": [
          0.7362,
          0.6827,
          0.6797,
          0.6612,
          0.6465,
          0.6293,
          0.6024,
          0.6161,
          0.6033,
          0.5937,
          0.5666,
          0.5411
         ],
         "yaxis": "y"
        },
        {
         "line": {
          "color": "red",
          "dash": "dash",
          "width": 2
         },
         "mode": "lines",
         "name": "Promedio General",
         "type": "scatter",
         "x": [
          "IE POLITECNICO DE SOLEDAD",
          "IE TAJAMAR",
          "IE TECNICA MICROEMPRESARIAL DE SOLEDAD",
          "IE TECNICA INDUSTRIAL Y COMERCIAL DE SOLEDAD",
          "IE GABRIEL ESCORCIA GRAVINI DE SOLEDAD",
          "IE TECNICA FRANCISCO DE PAULA SANTANDER",
          "IE JOHN F KENNEDY DE SOLEDAD",
          "IE TECNICA INDUSTRIAL SAN ANTONIO DE PADUA",
          "IE NOBEL JUAN MANUEL SANTOS",
          "IE ALBERTO PUMAREJO",
          "IE ANTONIO RAMON MORENO",
          "IE JOSEFA DONADO"
         ],
         "y": [
          0.6332458333333334,
          0.6332458333333334,
          0.6332458333333334,
          0.6332458333333334,
          0.6332458333333334,
          0.6332458333333334,
          0.6332458333333334,
          0.6332458333333334,
          0.6332458333333334,
          0.6332458333333334,
          0.6332458333333334,
          0.6332458333333334
         ]
        }
       ],
       "layout": {
        "barmode": "group",
        "height": 800,
        "legend": {
         "title": {
          "text": "Año"
         },
         "tracegroupgap": 0
        },
        "margin": {
         "t": 60
        },
        "template": {
         "data": {
          "bar": [
           {
            "error_x": {
             "color": "#2a3f5f"
            },
            "error_y": {
             "color": "#2a3f5f"
            },
            "marker": {
             "line": {
              "color": "#E5ECF6",
              "width": 0.5
             },
             "pattern": {
              "fillmode": "overlay",
              "size": 10,
              "solidity": 0.2
             }
            },
            "type": "bar"
           }
          ],
          "barpolar": [
           {
            "marker": {
             "line": {
              "color": "#E5ECF6",
              "width": 0.5
             },
             "pattern": {
              "fillmode": "overlay",
              "size": 10,
              "solidity": 0.2
             }
            },
            "type": "barpolar"
           }
          ],
          "carpet": [
           {
            "aaxis": {
             "endlinecolor": "#2a3f5f",
             "gridcolor": "white",
             "linecolor": "white",
             "minorgridcolor": "white",
             "startlinecolor": "#2a3f5f"
            },
            "baxis": {
             "endlinecolor": "#2a3f5f",
             "gridcolor": "white",
             "linecolor": "white",
             "minorgridcolor": "white",
             "startlinecolor": "#2a3f5f"
            },
            "type": "carpet"
           }
          ],
          "choropleth": [
           {
            "colorbar": {
             "outlinewidth": 0,
             "ticks": ""
            },
            "type": "choropleth"
           }
          ],
          "contour": [
           {
            "colorbar": {
             "outlinewidth": 0,
             "ticks": ""
            },
            "colorscale": [
             [
              0,
              "#0d0887"
             ],
             [
              0.1111111111111111,
              "#46039f"
             ],
             [
              0.2222222222222222,
              "#7201a8"
             ],
             [
              0.3333333333333333,
              "#9c179e"
             ],
             [
              0.4444444444444444,
              "#bd3786"
             ],
             [
              0.5555555555555556,
              "#d8576b"
             ],
             [
              0.6666666666666666,
              "#ed7953"
             ],
             [
              0.7777777777777778,
              "#fb9f3a"
             ],
             [
              0.8888888888888888,
              "#fdca26"
             ],
             [
              1,
              "#f0f921"
             ]
            ],
            "type": "contour"
           }
          ],
          "contourcarpet": [
           {
            "colorbar": {
             "outlinewidth": 0,
             "ticks": ""
            },
            "type": "contourcarpet"
           }
          ],
          "heatmap": [
           {
            "colorbar": {
             "outlinewidth": 0,
             "ticks": ""
            },
            "colorscale": [
             [
              0,
              "#0d0887"
             ],
             [
              0.1111111111111111,
              "#46039f"
             ],
             [
              0.2222222222222222,
              "#7201a8"
             ],
             [
              0.3333333333333333,
              "#9c179e"
             ],
             [
              0.4444444444444444,
              "#bd3786"
             ],
             [
              0.5555555555555556,
              "#d8576b"
             ],
             [
              0.6666666666666666,
              "#ed7953"
             ],
             [
              0.7777777777777778,
              "#fb9f3a"
             ],
             [
              0.8888888888888888,
              "#fdca26"
             ],
             [
              1,
              "#f0f921"
             ]
            ],
            "type": "heatmap"
           }
          ],
          "heatmapgl": [
           {
            "colorbar": {
             "outlinewidth": 0,
             "ticks": ""
            },
            "colorscale": [
             [
              0,
              "#0d0887"
             ],
             [
              0.1111111111111111,
              "#46039f"
             ],
             [
              0.2222222222222222,
              "#7201a8"
             ],
             [
              0.3333333333333333,
              "#9c179e"
             ],
             [
              0.4444444444444444,
              "#bd3786"
             ],
             [
              0.5555555555555556,
              "#d8576b"
             ],
             [
              0.6666666666666666,
              "#ed7953"
             ],
             [
              0.7777777777777778,
              "#fb9f3a"
             ],
             [
              0.8888888888888888,
              "#fdca26"
             ],
             [
              1,
              "#f0f921"
             ]
            ],
            "type": "heatmapgl"
           }
          ],
          "histogram": [
           {
            "marker": {
             "pattern": {
              "fillmode": "overlay",
              "size": 10,
              "solidity": 0.2
             }
            },
            "type": "histogram"
           }
          ],
          "histogram2d": [
           {
            "colorbar": {
             "outlinewidth": 0,
             "ticks": ""
            },
            "colorscale": [
             [
              0,
              "#0d0887"
             ],
             [
              0.1111111111111111,
              "#46039f"
             ],
             [
              0.2222222222222222,
              "#7201a8"
             ],
             [
              0.3333333333333333,
              "#9c179e"
             ],
             [
              0.4444444444444444,
              "#bd3786"
             ],
             [
              0.5555555555555556,
              "#d8576b"
             ],
             [
              0.6666666666666666,
              "#ed7953"
             ],
             [
              0.7777777777777778,
              "#fb9f3a"
             ],
             [
              0.8888888888888888,
              "#fdca26"
             ],
             [
              1,
              "#f0f921"
             ]
            ],
            "type": "histogram2d"
           }
          ],
          "histogram2dcontour": [
           {
            "colorbar": {
             "outlinewidth": 0,
             "ticks": ""
            },
            "colorscale": [
             [
              0,
              "#0d0887"
             ],
             [
              0.1111111111111111,
              "#46039f"
             ],
             [
              0.2222222222222222,
              "#7201a8"
             ],
             [
              0.3333333333333333,
              "#9c179e"
             ],
             [
              0.4444444444444444,
              "#bd3786"
             ],
             [
              0.5555555555555556,
              "#d8576b"
             ],
             [
              0.6666666666666666,
              "#ed7953"
             ],
             [
              0.7777777777777778,
              "#fb9f3a"
             ],
             [
              0.8888888888888888,
              "#fdca26"
             ],
             [
              1,
              "#f0f921"
             ]
            ],
            "type": "histogram2dcontour"
           }
          ],
          "mesh3d": [
           {
            "colorbar": {
             "outlinewidth": 0,
             "ticks": ""
            },
            "type": "mesh3d"
           }
          ],
          "parcoords": [
           {
            "line": {
             "colorbar": {
              "outlinewidth": 0,
              "ticks": ""
             }
            },
            "type": "parcoords"
           }
          ],
          "pie": [
           {
            "automargin": true,
            "type": "pie"
           }
          ],
          "scatter": [
           {
            "fillpattern": {
             "fillmode": "overlay",
             "size": 10,
             "solidity": 0.2
            },
            "type": "scatter"
           }
          ],
          "scatter3d": [
           {
            "line": {
             "colorbar": {
              "outlinewidth": 0,
              "ticks": ""
             }
            },
            "marker": {
             "colorbar": {
              "outlinewidth": 0,
              "ticks": ""
             }
            },
            "type": "scatter3d"
           }
          ],
          "scattercarpet": [
           {
            "marker": {
             "colorbar": {
              "outlinewidth": 0,
              "ticks": ""
             }
            },
            "type": "scattercarpet"
           }
          ],
          "scattergeo": [
           {
            "marker": {
             "colorbar": {
              "outlinewidth": 0,
              "ticks": ""
             }
            },
            "type": "scattergeo"
           }
          ],
          "scattergl": [
           {
            "marker": {
             "colorbar": {
              "outlinewidth": 0,
              "ticks": ""
             }
            },
            "type": "scattergl"
           }
          ],
          "scattermapbox": [
           {
            "marker": {
             "colorbar": {
              "outlinewidth": 0,
              "ticks": ""
             }
            },
            "type": "scattermapbox"
           }
          ],
          "scatterpolar": [
           {
            "marker": {
             "colorbar": {
              "outlinewidth": 0,
              "ticks": ""
             }
            },
            "type": "scatterpolar"
           }
          ],
          "scatterpolargl": [
           {
            "marker": {
             "colorbar": {
              "outlinewidth": 0,
              "ticks": ""
             }
            },
            "type": "scatterpolargl"
           }
          ],
          "scatterternary": [
           {
            "marker": {
             "colorbar": {
              "outlinewidth": 0,
              "ticks": ""
             }
            },
            "type": "scatterternary"
           }
          ],
          "surface": [
           {
            "colorbar": {
             "outlinewidth": 0,
             "ticks": ""
            },
            "colorscale": [
             [
              0,
              "#0d0887"
             ],
             [
              0.1111111111111111,
              "#46039f"
             ],
             [
              0.2222222222222222,
              "#7201a8"
             ],
             [
              0.3333333333333333,
              "#9c179e"
             ],
             [
              0.4444444444444444,
              "#bd3786"
             ],
             [
              0.5555555555555556,
              "#d8576b"
             ],
             [
              0.6666666666666666,
              "#ed7953"
             ],
             [
              0.7777777777777778,
              "#fb9f3a"
             ],
             [
              0.8888888888888888,
              "#fdca26"
             ],
             [
              1,
              "#f0f921"
             ]
            ],
            "type": "surface"
           }
          ],
          "table": [
           {
            "cells": {
             "fill": {
              "color": "#EBF0F8"
             },
             "line": {
              "color": "white"
             }
            },
            "header": {
             "fill": {
              "color": "#C8D4E3"
             },
             "line": {
              "color": "white"
             }
            },
            "type": "table"
           }
          ]
         },
         "layout": {
          "annotationdefaults": {
           "arrowcolor": "#2a3f5f",
           "arrowhead": 0,
           "arrowwidth": 1
          },
          "autotypenumbers": "strict",
          "coloraxis": {
           "colorbar": {
            "outlinewidth": 0,
            "ticks": ""
           }
          },
          "colorscale": {
           "diverging": [
            [
             0,
             "#8e0152"
            ],
            [
             0.1,
             "#c51b7d"
            ],
            [
             0.2,
             "#de77ae"
            ],
            [
             0.3,
             "#f1b6da"
            ],
            [
             0.4,
             "#fde0ef"
            ],
            [
             0.5,
             "#f7f7f7"
            ],
            [
             0.6,
             "#e6f5d0"
            ],
            [
             0.7,
             "#b8e186"
            ],
            [
             0.8,
             "#7fbc41"
            ],
            [
             0.9,
             "#4d9221"
            ],
            [
             1,
             "#276419"
            ]
           ],
           "sequential": [
            [
             0,
             "#0d0887"
            ],
            [
             0.1111111111111111,
             "#46039f"
            ],
            [
             0.2222222222222222,
             "#7201a8"
            ],
            [
             0.3333333333333333,
             "#9c179e"
            ],
            [
             0.4444444444444444,
             "#bd3786"
            ],
            [
             0.5555555555555556,
             "#d8576b"
            ],
            [
             0.6666666666666666,
             "#ed7953"
            ],
            [
             0.7777777777777778,
             "#fb9f3a"
            ],
            [
             0.8888888888888888,
             "#fdca26"
            ],
            [
             1,
             "#f0f921"
            ]
           ],
           "sequentialminus": [
            [
             0,
             "#0d0887"
            ],
            [
             0.1111111111111111,
             "#46039f"
            ],
            [
             0.2222222222222222,
             "#7201a8"
            ],
            [
             0.3333333333333333,
             "#9c179e"
            ],
            [
             0.4444444444444444,
             "#bd3786"
            ],
            [
             0.5555555555555556,
             "#d8576b"
            ],
            [
             0.6666666666666666,
             "#ed7953"
            ],
            [
             0.7777777777777778,
             "#fb9f3a"
            ],
            [
             0.8888888888888888,
             "#fdca26"
            ],
            [
             1,
             "#f0f921"
            ]
           ]
          },
          "colorway": [
           "#636efa",
           "#EF553B",
           "#00cc96",
           "#ab63fa",
           "#FFA15A",
           "#19d3f3",
           "#FF6692",
           "#B6E880",
           "#FF97FF",
           "#FECB52"
          ],
          "font": {
           "color": "#2a3f5f"
          },
          "geo": {
           "bgcolor": "white",
           "lakecolor": "white",
           "landcolor": "#E5ECF6",
           "showlakes": true,
           "showland": true,
           "subunitcolor": "white"
          },
          "hoverlabel": {
           "align": "left"
          },
          "hovermode": "closest",
          "mapbox": {
           "style": "light"
          },
          "paper_bgcolor": "white",
          "plot_bgcolor": "#E5ECF6",
          "polar": {
           "angularaxis": {
            "gridcolor": "white",
            "linecolor": "white",
            "ticks": ""
           },
           "bgcolor": "#E5ECF6",
           "radialaxis": {
            "gridcolor": "white",
            "linecolor": "white",
            "ticks": ""
           }
          },
          "scene": {
           "xaxis": {
            "backgroundcolor": "#E5ECF6",
            "gridcolor": "white",
            "gridwidth": 2,
            "linecolor": "white",
            "showbackground": true,
            "ticks": "",
            "zerolinecolor": "white"
           },
           "yaxis": {
            "backgroundcolor": "#E5ECF6",
            "gridcolor": "white",
            "gridwidth": 2,
            "linecolor": "white",
            "showbackground": true,
            "ticks": "",
            "zerolinecolor": "white"
           },
           "zaxis": {
            "backgroundcolor": "#E5ECF6",
            "gridcolor": "white",
            "gridwidth": 2,
            "linecolor": "white",
            "showbackground": true,
            "ticks": "",
            "zerolinecolor": "white"
           }
          },
          "shapedefaults": {
           "line": {
            "color": "#2a3f5f"
           }
          },
          "ternary": {
           "aaxis": {
            "gridcolor": "white",
            "linecolor": "white",
            "ticks": ""
           },
           "baxis": {
            "gridcolor": "white",
            "linecolor": "white",
            "ticks": ""
           },
           "bgcolor": "#E5ECF6",
           "caxis": {
            "gridcolor": "white",
            "linecolor": "white",
            "ticks": ""
           }
          },
          "title": {
           "x": 0.05
          },
          "xaxis": {
           "automargin": true,
           "gridcolor": "white",
           "linecolor": "white",
           "ticks": "",
           "title": {
            "standoff": 15
           },
           "zerolinecolor": "white",
           "zerolinewidth": 2
          },
          "yaxis": {
           "automargin": true,
           "gridcolor": "white",
           "linecolor": "white",
           "ticks": "",
           "title": {
            "standoff": 15
           },
           "zerolinecolor": "white",
           "zerolinewidth": 2
          }
         }
        },
        "title": {
         "text": "Instituciónes que bajaron su promedio 2023-2022"
        },
        "xaxis": {
         "anchor": "y",
         "domain": [
          0,
          1
         ],
         "tickangle": -45,
         "title": {
          "text": "Institución"
         }
        },
        "yaxis": {
         "anchor": "x",
         "domain": [
          0,
          1
         ],
         "title": {
          "text": "Promedio de MATEMATICA"
         }
        }
       }
      }
     },
     "metadata": {},
     "output_type": "display_data"
    }
   ],
   "source": [
    "import plotly.graph_objects as go\n",
    "\n",
    "\n",
    "\n",
    "# Filtrar el DataFrame\n",
    "df_filtrado = df[df['PROMEDIO DE MATEMATICA 2023'] < df['PROMEDIO DE MATEMATICA 2022']]\n",
    "\n",
    "# Convertir el DataFrame de ancho a largo\n",
    "df_long = df_filtrado.melt(id_vars=['INSTITUCION'], \n",
    "                  value_vars=['PROMEDIO DE MATEMATICA 2022', 'PROMEDIO DE MATEMATICA 2023'],\n",
    "                  var_name='Año', \n",
    "                  value_name='Promedio de MATEMATICA')\n",
    "\n",
    "# Calcular el promedio general de ambos años\n",
    "promedio_general = df_long['Promedio de MATEMATICA'].mean()\n",
    "\n",
    "# Crear un gráfico de barras interactivo con los datos transformados\n",
    "fig = px.bar(df_long, x='INSTITUCION', y='Promedio de MATEMATICA', color='Año', barmode='group')\n",
    "\n",
    "# Agregar una línea horizontal para el promedio general\n",
    "fig.add_trace(\n",
    "    go.Scatter(\n",
    "        x=df_filtrado['INSTITUCION'], \n",
    "        y=[promedio_general]*len(df_filtrado),\n",
    "        mode='lines',\n",
    "        name='Promedio General',\n",
    "        line=dict(color='red', width=2, dash='dash')\n",
    "    )\n",
    ")\n",
    "\n",
    "# Añadir título y modificar leyenda\n",
    "fig.update_layout(\n",
    "    title='Instituciónes que bajaron su promedio 2023-2022',\n",
    "    xaxis_title='Institución',\n",
    "    yaxis_title='Promedio de MATEMATICA',\n",
    "    xaxis_tickangle=-45,\n",
    "    height=800,\n",
    "    legend_title='Año',\n",
    ")\n",
    "\n",
    "# Mostrar el gráfico\n",
    "fig.show()\n"
   ]
  }
 ],
 "metadata": {
  "kernelspec": {
   "display_name": "ml_venv",
   "language": "python",
   "name": "python3"
  },
  "language_info": {
   "codemirror_mode": {
    "name": "ipython",
    "version": 3
   },
   "file_extension": ".py",
   "mimetype": "text/x-python",
   "name": "python",
   "nbconvert_exporter": "python",
   "pygments_lexer": "ipython3",
   "version": "3.9.18"
  }
 },
 "nbformat": 4,
 "nbformat_minor": 2
}
